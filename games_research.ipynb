{
 "cells": [
  {
   "cell_type": "markdown",
   "metadata": {},
   "source": [
    "# Исследование продаж компьютерных игр\n",
    "\n",
    "Вы работаете в интернет-магазине «Стримчик», который продаёт по всему миру компьютерные игры. Из открытых источников доступны исторические данные о продажах игр, оценки пользователей и экспертов, жанры и платформы (например, Xbox или PlayStation). Вам нужно выявить определяющие успешность игры закономерности. Это позволит сделать ставку на потенциально популярный продукт и спланировать рекламные кампании."
   ]
  },
  {
   "cell_type": "markdown",
   "metadata": {},
   "source": [
    "### Откройте файл с данными и изучите общую информацию."
   ]
  },
  {
   "cell_type": "markdown",
   "metadata": {},
   "source": [
    "Импорт библиотек `pandas`, `matplotlib` и `scipy`:"
   ]
  },
  {
   "cell_type": "code",
   "execution_count": 1,
   "metadata": {},
   "outputs": [],
   "source": [
    "import pandas as pd\n",
    "import matplotlib.pyplot as plt\n",
    "from scipy import stats as st"
   ]
  },
  {
   "cell_type": "markdown",
   "metadata": {},
   "source": [
    "Чтение csv-файла и вывод первых 15 строк:"
   ]
  },
  {
   "cell_type": "code",
   "execution_count": 2,
   "metadata": {},
   "outputs": [
    {
     "data": {
      "text/html": [
       "<div>\n",
       "<style scoped>\n",
       "    .dataframe tbody tr th:only-of-type {\n",
       "        vertical-align: middle;\n",
       "    }\n",
       "\n",
       "    .dataframe tbody tr th {\n",
       "        vertical-align: top;\n",
       "    }\n",
       "\n",
       "    .dataframe thead th {\n",
       "        text-align: right;\n",
       "    }\n",
       "</style>\n",
       "<table border=\"1\" class=\"dataframe\">\n",
       "  <thead>\n",
       "    <tr style=\"text-align: right;\">\n",
       "      <th></th>\n",
       "      <th>Name</th>\n",
       "      <th>Platform</th>\n",
       "      <th>Year_of_Release</th>\n",
       "      <th>Genre</th>\n",
       "      <th>NA_sales</th>\n",
       "      <th>EU_sales</th>\n",
       "      <th>JP_sales</th>\n",
       "      <th>Other_sales</th>\n",
       "      <th>Critic_Score</th>\n",
       "      <th>User_Score</th>\n",
       "      <th>Rating</th>\n",
       "    </tr>\n",
       "  </thead>\n",
       "  <tbody>\n",
       "    <tr>\n",
       "      <th>0</th>\n",
       "      <td>Wii Sports</td>\n",
       "      <td>Wii</td>\n",
       "      <td>2006.0</td>\n",
       "      <td>Sports</td>\n",
       "      <td>41.36</td>\n",
       "      <td>28.96</td>\n",
       "      <td>3.77</td>\n",
       "      <td>8.45</td>\n",
       "      <td>76.0</td>\n",
       "      <td>8</td>\n",
       "      <td>E</td>\n",
       "    </tr>\n",
       "    <tr>\n",
       "      <th>1</th>\n",
       "      <td>Super Mario Bros.</td>\n",
       "      <td>NES</td>\n",
       "      <td>1985.0</td>\n",
       "      <td>Platform</td>\n",
       "      <td>29.08</td>\n",
       "      <td>3.58</td>\n",
       "      <td>6.81</td>\n",
       "      <td>0.77</td>\n",
       "      <td>NaN</td>\n",
       "      <td>NaN</td>\n",
       "      <td>NaN</td>\n",
       "    </tr>\n",
       "    <tr>\n",
       "      <th>2</th>\n",
       "      <td>Mario Kart Wii</td>\n",
       "      <td>Wii</td>\n",
       "      <td>2008.0</td>\n",
       "      <td>Racing</td>\n",
       "      <td>15.68</td>\n",
       "      <td>12.76</td>\n",
       "      <td>3.79</td>\n",
       "      <td>3.29</td>\n",
       "      <td>82.0</td>\n",
       "      <td>8.3</td>\n",
       "      <td>E</td>\n",
       "    </tr>\n",
       "    <tr>\n",
       "      <th>3</th>\n",
       "      <td>Wii Sports Resort</td>\n",
       "      <td>Wii</td>\n",
       "      <td>2009.0</td>\n",
       "      <td>Sports</td>\n",
       "      <td>15.61</td>\n",
       "      <td>10.93</td>\n",
       "      <td>3.28</td>\n",
       "      <td>2.95</td>\n",
       "      <td>80.0</td>\n",
       "      <td>8</td>\n",
       "      <td>E</td>\n",
       "    </tr>\n",
       "    <tr>\n",
       "      <th>4</th>\n",
       "      <td>Pokemon Red/Pokemon Blue</td>\n",
       "      <td>GB</td>\n",
       "      <td>1996.0</td>\n",
       "      <td>Role-Playing</td>\n",
       "      <td>11.27</td>\n",
       "      <td>8.89</td>\n",
       "      <td>10.22</td>\n",
       "      <td>1.00</td>\n",
       "      <td>NaN</td>\n",
       "      <td>NaN</td>\n",
       "      <td>NaN</td>\n",
       "    </tr>\n",
       "    <tr>\n",
       "      <th>5</th>\n",
       "      <td>Tetris</td>\n",
       "      <td>GB</td>\n",
       "      <td>1989.0</td>\n",
       "      <td>Puzzle</td>\n",
       "      <td>23.20</td>\n",
       "      <td>2.26</td>\n",
       "      <td>4.22</td>\n",
       "      <td>0.58</td>\n",
       "      <td>NaN</td>\n",
       "      <td>NaN</td>\n",
       "      <td>NaN</td>\n",
       "    </tr>\n",
       "    <tr>\n",
       "      <th>6</th>\n",
       "      <td>New Super Mario Bros.</td>\n",
       "      <td>DS</td>\n",
       "      <td>2006.0</td>\n",
       "      <td>Platform</td>\n",
       "      <td>11.28</td>\n",
       "      <td>9.14</td>\n",
       "      <td>6.50</td>\n",
       "      <td>2.88</td>\n",
       "      <td>89.0</td>\n",
       "      <td>8.5</td>\n",
       "      <td>E</td>\n",
       "    </tr>\n",
       "    <tr>\n",
       "      <th>7</th>\n",
       "      <td>Wii Play</td>\n",
       "      <td>Wii</td>\n",
       "      <td>2006.0</td>\n",
       "      <td>Misc</td>\n",
       "      <td>13.96</td>\n",
       "      <td>9.18</td>\n",
       "      <td>2.93</td>\n",
       "      <td>2.84</td>\n",
       "      <td>58.0</td>\n",
       "      <td>6.6</td>\n",
       "      <td>E</td>\n",
       "    </tr>\n",
       "    <tr>\n",
       "      <th>8</th>\n",
       "      <td>New Super Mario Bros. Wii</td>\n",
       "      <td>Wii</td>\n",
       "      <td>2009.0</td>\n",
       "      <td>Platform</td>\n",
       "      <td>14.44</td>\n",
       "      <td>6.94</td>\n",
       "      <td>4.70</td>\n",
       "      <td>2.24</td>\n",
       "      <td>87.0</td>\n",
       "      <td>8.4</td>\n",
       "      <td>E</td>\n",
       "    </tr>\n",
       "    <tr>\n",
       "      <th>9</th>\n",
       "      <td>Duck Hunt</td>\n",
       "      <td>NES</td>\n",
       "      <td>1984.0</td>\n",
       "      <td>Shooter</td>\n",
       "      <td>26.93</td>\n",
       "      <td>0.63</td>\n",
       "      <td>0.28</td>\n",
       "      <td>0.47</td>\n",
       "      <td>NaN</td>\n",
       "      <td>NaN</td>\n",
       "      <td>NaN</td>\n",
       "    </tr>\n",
       "    <tr>\n",
       "      <th>10</th>\n",
       "      <td>Nintendogs</td>\n",
       "      <td>DS</td>\n",
       "      <td>2005.0</td>\n",
       "      <td>Simulation</td>\n",
       "      <td>9.05</td>\n",
       "      <td>10.95</td>\n",
       "      <td>1.93</td>\n",
       "      <td>2.74</td>\n",
       "      <td>NaN</td>\n",
       "      <td>NaN</td>\n",
       "      <td>NaN</td>\n",
       "    </tr>\n",
       "    <tr>\n",
       "      <th>11</th>\n",
       "      <td>Mario Kart DS</td>\n",
       "      <td>DS</td>\n",
       "      <td>2005.0</td>\n",
       "      <td>Racing</td>\n",
       "      <td>9.71</td>\n",
       "      <td>7.47</td>\n",
       "      <td>4.13</td>\n",
       "      <td>1.90</td>\n",
       "      <td>91.0</td>\n",
       "      <td>8.6</td>\n",
       "      <td>E</td>\n",
       "    </tr>\n",
       "    <tr>\n",
       "      <th>12</th>\n",
       "      <td>Pokemon Gold/Pokemon Silver</td>\n",
       "      <td>GB</td>\n",
       "      <td>1999.0</td>\n",
       "      <td>Role-Playing</td>\n",
       "      <td>9.00</td>\n",
       "      <td>6.18</td>\n",
       "      <td>7.20</td>\n",
       "      <td>0.71</td>\n",
       "      <td>NaN</td>\n",
       "      <td>NaN</td>\n",
       "      <td>NaN</td>\n",
       "    </tr>\n",
       "    <tr>\n",
       "      <th>13</th>\n",
       "      <td>Wii Fit</td>\n",
       "      <td>Wii</td>\n",
       "      <td>2007.0</td>\n",
       "      <td>Sports</td>\n",
       "      <td>8.92</td>\n",
       "      <td>8.03</td>\n",
       "      <td>3.60</td>\n",
       "      <td>2.15</td>\n",
       "      <td>80.0</td>\n",
       "      <td>7.7</td>\n",
       "      <td>E</td>\n",
       "    </tr>\n",
       "    <tr>\n",
       "      <th>14</th>\n",
       "      <td>Kinect Adventures!</td>\n",
       "      <td>X360</td>\n",
       "      <td>2010.0</td>\n",
       "      <td>Misc</td>\n",
       "      <td>15.00</td>\n",
       "      <td>4.89</td>\n",
       "      <td>0.24</td>\n",
       "      <td>1.69</td>\n",
       "      <td>61.0</td>\n",
       "      <td>6.3</td>\n",
       "      <td>E</td>\n",
       "    </tr>\n",
       "  </tbody>\n",
       "</table>\n",
       "</div>"
      ],
      "text/plain": [
       "                           Name Platform  Year_of_Release         Genre  \\\n",
       "0                    Wii Sports      Wii           2006.0        Sports   \n",
       "1             Super Mario Bros.      NES           1985.0      Platform   \n",
       "2                Mario Kart Wii      Wii           2008.0        Racing   \n",
       "3             Wii Sports Resort      Wii           2009.0        Sports   \n",
       "4      Pokemon Red/Pokemon Blue       GB           1996.0  Role-Playing   \n",
       "5                        Tetris       GB           1989.0        Puzzle   \n",
       "6         New Super Mario Bros.       DS           2006.0      Platform   \n",
       "7                      Wii Play      Wii           2006.0          Misc   \n",
       "8     New Super Mario Bros. Wii      Wii           2009.0      Platform   \n",
       "9                     Duck Hunt      NES           1984.0       Shooter   \n",
       "10                   Nintendogs       DS           2005.0    Simulation   \n",
       "11                Mario Kart DS       DS           2005.0        Racing   \n",
       "12  Pokemon Gold/Pokemon Silver       GB           1999.0  Role-Playing   \n",
       "13                      Wii Fit      Wii           2007.0        Sports   \n",
       "14           Kinect Adventures!     X360           2010.0          Misc   \n",
       "\n",
       "    NA_sales  EU_sales  JP_sales  Other_sales  Critic_Score User_Score Rating  \n",
       "0      41.36     28.96      3.77         8.45          76.0          8      E  \n",
       "1      29.08      3.58      6.81         0.77           NaN        NaN    NaN  \n",
       "2      15.68     12.76      3.79         3.29          82.0        8.3      E  \n",
       "3      15.61     10.93      3.28         2.95          80.0          8      E  \n",
       "4      11.27      8.89     10.22         1.00           NaN        NaN    NaN  \n",
       "5      23.20      2.26      4.22         0.58           NaN        NaN    NaN  \n",
       "6      11.28      9.14      6.50         2.88          89.0        8.5      E  \n",
       "7      13.96      9.18      2.93         2.84          58.0        6.6      E  \n",
       "8      14.44      6.94      4.70         2.24          87.0        8.4      E  \n",
       "9      26.93      0.63      0.28         0.47           NaN        NaN    NaN  \n",
       "10      9.05     10.95      1.93         2.74           NaN        NaN    NaN  \n",
       "11      9.71      7.47      4.13         1.90          91.0        8.6      E  \n",
       "12      9.00      6.18      7.20         0.71           NaN        NaN    NaN  \n",
       "13      8.92      8.03      3.60         2.15          80.0        7.7      E  \n",
       "14     15.00      4.89      0.24         1.69          61.0        6.3      E  "
      ]
     },
     "execution_count": 2,
     "metadata": {},
     "output_type": "execute_result"
    }
   ],
   "source": [
    "data = pd.read_csv('/datasets/games.csv')\n",
    "data.head(15)"
   ]
  },
  {
   "cell_type": "markdown",
   "metadata": {},
   "source": [
    "Вывод информации о таблице методами `info()` и `describe()`. В некоторых столбцах пропущены значения и типы данных не соответствуют."
   ]
  },
  {
   "cell_type": "code",
   "execution_count": 3,
   "metadata": {},
   "outputs": [
    {
     "name": "stdout",
     "output_type": "stream",
     "text": [
      "<class 'pandas.core.frame.DataFrame'>\n",
      "RangeIndex: 16715 entries, 0 to 16714\n",
      "Data columns (total 11 columns):\n",
      " #   Column           Non-Null Count  Dtype  \n",
      "---  ------           --------------  -----  \n",
      " 0   Name             16713 non-null  object \n",
      " 1   Platform         16715 non-null  object \n",
      " 2   Year_of_Release  16446 non-null  float64\n",
      " 3   Genre            16713 non-null  object \n",
      " 4   NA_sales         16715 non-null  float64\n",
      " 5   EU_sales         16715 non-null  float64\n",
      " 6   JP_sales         16715 non-null  float64\n",
      " 7   Other_sales      16715 non-null  float64\n",
      " 8   Critic_Score     8137 non-null   float64\n",
      " 9   User_Score       10014 non-null  object \n",
      " 10  Rating           9949 non-null   object \n",
      "dtypes: float64(6), object(5)\n",
      "memory usage: 1.4+ MB\n"
     ]
    }
   ],
   "source": [
    "data.info()"
   ]
  },
  {
   "cell_type": "code",
   "execution_count": 4,
   "metadata": {},
   "outputs": [
    {
     "data": {
      "text/html": [
       "<div>\n",
       "<style scoped>\n",
       "    .dataframe tbody tr th:only-of-type {\n",
       "        vertical-align: middle;\n",
       "    }\n",
       "\n",
       "    .dataframe tbody tr th {\n",
       "        vertical-align: top;\n",
       "    }\n",
       "\n",
       "    .dataframe thead th {\n",
       "        text-align: right;\n",
       "    }\n",
       "</style>\n",
       "<table border=\"1\" class=\"dataframe\">\n",
       "  <thead>\n",
       "    <tr style=\"text-align: right;\">\n",
       "      <th></th>\n",
       "      <th>Year_of_Release</th>\n",
       "      <th>NA_sales</th>\n",
       "      <th>EU_sales</th>\n",
       "      <th>JP_sales</th>\n",
       "      <th>Other_sales</th>\n",
       "      <th>Critic_Score</th>\n",
       "    </tr>\n",
       "  </thead>\n",
       "  <tbody>\n",
       "    <tr>\n",
       "      <th>count</th>\n",
       "      <td>16446.000000</td>\n",
       "      <td>16715.000000</td>\n",
       "      <td>16715.000000</td>\n",
       "      <td>16715.000000</td>\n",
       "      <td>16715.000000</td>\n",
       "      <td>8137.000000</td>\n",
       "    </tr>\n",
       "    <tr>\n",
       "      <th>mean</th>\n",
       "      <td>2006.484616</td>\n",
       "      <td>0.263377</td>\n",
       "      <td>0.145060</td>\n",
       "      <td>0.077617</td>\n",
       "      <td>0.047342</td>\n",
       "      <td>68.967679</td>\n",
       "    </tr>\n",
       "    <tr>\n",
       "      <th>std</th>\n",
       "      <td>5.877050</td>\n",
       "      <td>0.813604</td>\n",
       "      <td>0.503339</td>\n",
       "      <td>0.308853</td>\n",
       "      <td>0.186731</td>\n",
       "      <td>13.938165</td>\n",
       "    </tr>\n",
       "    <tr>\n",
       "      <th>min</th>\n",
       "      <td>1980.000000</td>\n",
       "      <td>0.000000</td>\n",
       "      <td>0.000000</td>\n",
       "      <td>0.000000</td>\n",
       "      <td>0.000000</td>\n",
       "      <td>13.000000</td>\n",
       "    </tr>\n",
       "    <tr>\n",
       "      <th>25%</th>\n",
       "      <td>2003.000000</td>\n",
       "      <td>0.000000</td>\n",
       "      <td>0.000000</td>\n",
       "      <td>0.000000</td>\n",
       "      <td>0.000000</td>\n",
       "      <td>60.000000</td>\n",
       "    </tr>\n",
       "    <tr>\n",
       "      <th>50%</th>\n",
       "      <td>2007.000000</td>\n",
       "      <td>0.080000</td>\n",
       "      <td>0.020000</td>\n",
       "      <td>0.000000</td>\n",
       "      <td>0.010000</td>\n",
       "      <td>71.000000</td>\n",
       "    </tr>\n",
       "    <tr>\n",
       "      <th>75%</th>\n",
       "      <td>2010.000000</td>\n",
       "      <td>0.240000</td>\n",
       "      <td>0.110000</td>\n",
       "      <td>0.040000</td>\n",
       "      <td>0.030000</td>\n",
       "      <td>79.000000</td>\n",
       "    </tr>\n",
       "    <tr>\n",
       "      <th>max</th>\n",
       "      <td>2016.000000</td>\n",
       "      <td>41.360000</td>\n",
       "      <td>28.960000</td>\n",
       "      <td>10.220000</td>\n",
       "      <td>10.570000</td>\n",
       "      <td>98.000000</td>\n",
       "    </tr>\n",
       "  </tbody>\n",
       "</table>\n",
       "</div>"
      ],
      "text/plain": [
       "       Year_of_Release      NA_sales      EU_sales      JP_sales  \\\n",
       "count     16446.000000  16715.000000  16715.000000  16715.000000   \n",
       "mean       2006.484616      0.263377      0.145060      0.077617   \n",
       "std           5.877050      0.813604      0.503339      0.308853   \n",
       "min        1980.000000      0.000000      0.000000      0.000000   \n",
       "25%        2003.000000      0.000000      0.000000      0.000000   \n",
       "50%        2007.000000      0.080000      0.020000      0.000000   \n",
       "75%        2010.000000      0.240000      0.110000      0.040000   \n",
       "max        2016.000000     41.360000     28.960000     10.220000   \n",
       "\n",
       "        Other_sales  Critic_Score  \n",
       "count  16715.000000   8137.000000  \n",
       "mean       0.047342     68.967679  \n",
       "std        0.186731     13.938165  \n",
       "min        0.000000     13.000000  \n",
       "25%        0.000000     60.000000  \n",
       "50%        0.010000     71.000000  \n",
       "75%        0.030000     79.000000  \n",
       "max       10.570000     98.000000  "
      ]
     },
     "execution_count": 4,
     "metadata": {},
     "output_type": "execute_result"
    }
   ],
   "source": [
    "data.describe()"
   ]
  },
  {
   "cell_type": "markdown",
   "metadata": {},
   "source": [
    "Построим гистограмму для каждого столбца:"
   ]
  },
  {
   "cell_type": "code",
   "execution_count": 5,
   "metadata": {},
   "outputs": [
    {
     "data": {
      "image/png": "[encoded data removed]",
      "text/plain": [
       "<Figure size 720x1080 with 6 Axes>"
      ]
     },
     "metadata": {
      "needs_background": "light"
     },
     "output_type": "display_data"
    }
   ],
   "source": [
    "data.hist(figsize=(10, 15))\n",
    "plt.show()"
   ]
  },
  {
   "cell_type": "markdown",
   "metadata": {},
   "source": [
    "### Подготовьте данные."
   ]
  },
  {
   "cell_type": "markdown",
   "metadata": {},
   "source": [
    "#### Замените названия столбцов."
   ]
  },
  {
   "cell_type": "markdown",
   "metadata": {},
   "source": [
    "Приведем названия столбцов к нижнему регистру с помощью метода `rename()`:"
   ]
  },
  {
   "cell_type": "code",
   "execution_count": 6,
   "metadata": {},
   "outputs": [],
   "source": [
    "data = data.rename(str.lower, axis='columns')"
   ]
  },
  {
   "cell_type": "markdown",
   "metadata": {},
   "source": [
    "#### Преобразуйте данные в нужные типы."
   ]
  },
  {
   "cell_type": "code",
   "execution_count": 70,
   "metadata": {},
   "outputs": [
    {
     "name": "stdout",
     "output_type": "stream",
     "text": [
      "<class 'pandas.core.frame.DataFrame'>\n",
      "Int64Index: 16713 entries, 0 to 16714\n",
      "Data columns (total 12 columns):\n",
      " #   Column           Non-Null Count  Dtype  \n",
      "---  ------           --------------  -----  \n",
      " 0   name             16713 non-null  object \n",
      " 1   platform         16713 non-null  object \n",
      " 2   year_of_release  16444 non-null  Int64  \n",
      " 3   genre            16713 non-null  object \n",
      " 4   na_sales         16713 non-null  float64\n",
      " 5   eu_sales         16713 non-null  float64\n",
      " 6   jp_sales         16713 non-null  float64\n",
      " 7   other_sales      16713 non-null  float64\n",
      " 8   critic_score     16713 non-null  float64\n",
      " 9   user_score       16713 non-null  float64\n",
      " 10  rating           16713 non-null  object \n",
      " 11  total_sales      16713 non-null  float64\n",
      "dtypes: Int64(1), float64(7), object(4)\n",
      "memory usage: 1.7+ MB\n"
     ]
    }
   ],
   "source": [
    "data.info()"
   ]
  },
  {
   "cell_type": "markdown",
   "metadata": {},
   "source": [
    "Тип столбца `year_of_release` заменим с `float` на `int`:"
   ]
  },
  {
   "cell_type": "code",
   "execution_count": 69,
   "metadata": {},
   "outputs": [],
   "source": [
    "data['year_of_release'] = data['year_of_release'].astype('Int64', errors='ignore')"
   ]
  },
  {
   "cell_type": "markdown",
   "metadata": {},
   "source": [
    "Тип столбца `user_score` заменим с `object` на `float`, значения 'tbd' будут заменены на NaN:"
   ]
  },
  {
   "cell_type": "code",
   "execution_count": 9,
   "metadata": {},
   "outputs": [],
   "source": [
    "data['user_score'] = pd.to_numeric(data['user_score'], errors='coerce')"
   ]
  },
  {
   "cell_type": "markdown",
   "metadata": {},
   "source": [
    "В таблице два столбца с некорректными типами данных - `year_of_release` и `user_score`. В столбце `year_of_release` первоначальный тип данных - `float`, год не может быть нецелым числом. Также в столбце `user_score` первоначальный тип данных `object`, а верный тип данных для столбца - `float`."
   ]
  },
  {
   "cell_type": "markdown",
   "metadata": {},
   "source": [
    "#### Обработайте пропуски."
   ]
  },
  {
   "cell_type": "markdown",
   "metadata": {},
   "source": [
    "Определим в каких столбцах пропущены данные:"
   ]
  },
  {
   "cell_type": "code",
   "execution_count": 10,
   "metadata": {},
   "outputs": [
    {
     "data": {
      "text/plain": [
       "name                  2\n",
       "platform              0\n",
       "year_of_release     269\n",
       "genre                 2\n",
       "na_sales              0\n",
       "eu_sales              0\n",
       "jp_sales              0\n",
       "other_sales           0\n",
       "critic_score       8578\n",
       "user_score         9125\n",
       "rating             6766\n",
       "dtype: int64"
      ]
     },
     "execution_count": 10,
     "metadata": {},
     "output_type": "execute_result"
    }
   ],
   "source": [
    "data.isna().sum()"
   ]
  },
  {
   "cell_type": "markdown",
   "metadata": {},
   "source": [
    "В столбцах с названием игры и жанра - `name` и `genre` по 2 пропущенных значения. Заменить эти значения на характерные не получится, поэтому удалим эти строки."
   ]
  },
  {
   "cell_type": "code",
   "execution_count": 11,
   "metadata": {},
   "outputs": [
    {
     "data": {
      "text/html": [
       "<style  type=\"text/css\" >\n",
       "#T_b3bb7_row0_col0{\n",
       "            background-color:  #b40426;\n",
       "            color:  #f1f1f1;\n",
       "        }#T_b3bb7_row1_col0{\n",
       "            background-color:  #ca3b37;\n",
       "            color:  #f1f1f1;\n",
       "        }#T_b3bb7_row2_col0{\n",
       "            background-color:  #f59d7e;\n",
       "            color:  #000000;\n",
       "        }#T_b3bb7_row3_col0{\n",
       "            background-color:  #4358cb;\n",
       "            color:  #f1f1f1;\n",
       "        }#T_b3bb7_row4_col0,#T_b3bb7_row5_col0,#T_b3bb7_row6_col0,#T_b3bb7_row7_col0,#T_b3bb7_row8_col0,#T_b3bb7_row9_col0,#T_b3bb7_row10_col0{\n",
       "            background-color:  #3b4cc0;\n",
       "            color:  #f1f1f1;\n",
       "        }</style><table id=\"T_b3bb7_\" ><thead>    <tr>        <th class=\"blank level0\" ></th>        <th class=\"col_heading level0 col0\" >percent_space</th>    </tr></thead><tbody>\n",
       "                <tr>\n",
       "                        <th id=\"T_b3bb7_level0_row0\" class=\"row_heading level0 row0\" >user_score</th>\n",
       "                        <td id=\"T_b3bb7_row0_col0\" class=\"data row0 col0\" >54.6</td>\n",
       "            </tr>\n",
       "            <tr>\n",
       "                        <th id=\"T_b3bb7_level0_row1\" class=\"row_heading level0 row1\" >critic_score</th>\n",
       "                        <td id=\"T_b3bb7_row1_col0\" class=\"data row1 col0\" >51.3</td>\n",
       "            </tr>\n",
       "            <tr>\n",
       "                        <th id=\"T_b3bb7_level0_row2\" class=\"row_heading level0 row2\" >rating</th>\n",
       "                        <td id=\"T_b3bb7_row2_col0\" class=\"data row2 col0\" >40.5</td>\n",
       "            </tr>\n",
       "            <tr>\n",
       "                        <th id=\"T_b3bb7_level0_row3\" class=\"row_heading level0 row3\" >year_of_release</th>\n",
       "                        <td id=\"T_b3bb7_row3_col0\" class=\"data row3 col0\" >1.6</td>\n",
       "            </tr>\n",
       "            <tr>\n",
       "                        <th id=\"T_b3bb7_level0_row4\" class=\"row_heading level0 row4\" >name</th>\n",
       "                        <td id=\"T_b3bb7_row4_col0\" class=\"data row4 col0\" >0.0</td>\n",
       "            </tr>\n",
       "            <tr>\n",
       "                        <th id=\"T_b3bb7_level0_row5\" class=\"row_heading level0 row5\" >genre</th>\n",
       "                        <td id=\"T_b3bb7_row5_col0\" class=\"data row5 col0\" >0.0</td>\n",
       "            </tr>\n",
       "            <tr>\n",
       "                        <th id=\"T_b3bb7_level0_row6\" class=\"row_heading level0 row6\" >platform</th>\n",
       "                        <td id=\"T_b3bb7_row6_col0\" class=\"data row6 col0\" >0.0</td>\n",
       "            </tr>\n",
       "            <tr>\n",
       "                        <th id=\"T_b3bb7_level0_row7\" class=\"row_heading level0 row7\" >na_sales</th>\n",
       "                        <td id=\"T_b3bb7_row7_col0\" class=\"data row7 col0\" >0.0</td>\n",
       "            </tr>\n",
       "            <tr>\n",
       "                        <th id=\"T_b3bb7_level0_row8\" class=\"row_heading level0 row8\" >eu_sales</th>\n",
       "                        <td id=\"T_b3bb7_row8_col0\" class=\"data row8 col0\" >0.0</td>\n",
       "            </tr>\n",
       "            <tr>\n",
       "                        <th id=\"T_b3bb7_level0_row9\" class=\"row_heading level0 row9\" >jp_sales</th>\n",
       "                        <td id=\"T_b3bb7_row9_col0\" class=\"data row9 col0\" >0.0</td>\n",
       "            </tr>\n",
       "            <tr>\n",
       "                        <th id=\"T_b3bb7_level0_row10\" class=\"row_heading level0 row10\" >other_sales</th>\n",
       "                        <td id=\"T_b3bb7_row10_col0\" class=\"data row10 col0\" >0.0</td>\n",
       "            </tr>\n",
       "    </tbody></table>"
      ],
      "text/plain": [
       "<pandas.io.formats.style.Styler at 0x7f9905730640>"
      ]
     },
     "execution_count": 11,
     "metadata": {},
     "output_type": "execute_result"
    }
   ],
   "source": [
    "# check\n",
    "(\n",
    "    (data.isna().mean()*100)\n",
    "    .sort_values(ascending=False)\n",
    "    .to_frame()\n",
    "    .rename(columns = {0:'percent_space'})\n",
    "    .style.background_gradient('coolwarm').format(\"{:.1f}\")\n",
    ")"
   ]
  },
  {
   "cell_type": "code",
   "execution_count": 12,
   "metadata": {},
   "outputs": [],
   "source": [
    "data = data.dropna(subset=['name', 'genre'])"
   ]
  },
  {
   "cell_type": "markdown",
   "metadata": {},
   "source": [
    "Пропуски в столбце `year_of_release` заполнять не будем, так как мы не можем восстановить их с достаточной точностью. При заполнении столбца `year_of_release` могла произойти техническая ошибка, и не все данные были подгружены."
   ]
  },
  {
   "cell_type": "markdown",
   "metadata": {},
   "source": [
    "Пропуски в столбце `rating` заменим на значение \"WR\" (Without Rating), т. е. игры без оценки. Пропуски в столбце `rating` можно объяснить тем, что некоторые компьютерные игры из датасета были выпущены до 1994 (год основания ESRB), этим играм рейтинг не был проставлен, или же игра ожидает оценки."
   ]
  },
  {
   "cell_type": "code",
   "execution_count": 13,
   "metadata": {},
   "outputs": [],
   "source": [
    "data['rating'] = data['rating'].fillna('WR')"
   ]
  },
  {
   "cell_type": "markdown",
   "metadata": {},
   "source": [
    "Пропуски в столбцах `critic_score` и `user_score` заменим на медианное значение по каждому жанру из столбца `genre`. Пропуски в этих столбцах могли появиться по причине того, что игра вышла давно или же, наоборот, недавно, и оценки ей проставлены не были, также пропуски могут быть обусловлены технической ошибкой."
   ]
  },
  {
   "cell_type": "code",
   "execution_count": 14,
   "metadata": {},
   "outputs": [],
   "source": [
    "data['critic_score'] = data.groupby('genre')['critic_score'].apply(lambda x: x.fillna(x.median()))"
   ]
  },
  {
   "cell_type": "markdown",
   "metadata": {},
   "source": [
    "В столбце `user_score` до замены типа данных были значения 'tbd' (аббревиатура с англиского - 'подлежит уточнению'), фактически это тоже пропуски, которые необходимо заменить."
   ]
  },
  {
   "cell_type": "code",
   "execution_count": 15,
   "metadata": {},
   "outputs": [],
   "source": [
    "data['user_score'] = data.groupby('genre')['user_score'].apply(lambda x: x.fillna(x.median()))"
   ]
  },
  {
   "cell_type": "markdown",
   "metadata": {},
   "source": [
    "#### Посчитайте суммарные продажи во всех регионах и запишите их в отдельный столбец."
   ]
  },
  {
   "cell_type": "markdown",
   "metadata": {},
   "source": [
    "Добавим новый столбец `total_sales`:"
   ]
  },
  {
   "cell_type": "code",
   "execution_count": 16,
   "metadata": {},
   "outputs": [],
   "source": [
    "data['total_sales'] = data['na_sales'] + data['eu_sales'] + data['jp_sales'] + data['other_sales']"
   ]
  },
  {
   "cell_type": "markdown",
   "metadata": {},
   "source": [
    "Выведем первые 15 строк обновленной таблицы:"
   ]
  },
  {
   "cell_type": "code",
   "execution_count": 17,
   "metadata": {
    "scrolled": false
   },
   "outputs": [
    {
     "data": {
      "text/html": [
       "<div>\n",
       "<style scoped>\n",
       "    .dataframe tbody tr th:only-of-type {\n",
       "        vertical-align: middle;\n",
       "    }\n",
       "\n",
       "    .dataframe tbody tr th {\n",
       "        vertical-align: top;\n",
       "    }\n",
       "\n",
       "    .dataframe thead th {\n",
       "        text-align: right;\n",
       "    }\n",
       "</style>\n",
       "<table border=\"1\" class=\"dataframe\">\n",
       "  <thead>\n",
       "    <tr style=\"text-align: right;\">\n",
       "      <th></th>\n",
       "      <th>name</th>\n",
       "      <th>platform</th>\n",
       "      <th>year_of_release</th>\n",
       "      <th>genre</th>\n",
       "      <th>na_sales</th>\n",
       "      <th>eu_sales</th>\n",
       "      <th>jp_sales</th>\n",
       "      <th>other_sales</th>\n",
       "      <th>critic_score</th>\n",
       "      <th>user_score</th>\n",
       "      <th>rating</th>\n",
       "      <th>total_sales</th>\n",
       "    </tr>\n",
       "  </thead>\n",
       "  <tbody>\n",
       "    <tr>\n",
       "      <th>0</th>\n",
       "      <td>Wii Sports</td>\n",
       "      <td>Wii</td>\n",
       "      <td>2006.0</td>\n",
       "      <td>Sports</td>\n",
       "      <td>41.36</td>\n",
       "      <td>28.96</td>\n",
       "      <td>3.77</td>\n",
       "      <td>8.45</td>\n",
       "      <td>76.0</td>\n",
       "      <td>8.0</td>\n",
       "      <td>E</td>\n",
       "      <td>82.54</td>\n",
       "    </tr>\n",
       "    <tr>\n",
       "      <th>1</th>\n",
       "      <td>Super Mario Bros.</td>\n",
       "      <td>NES</td>\n",
       "      <td>1985.0</td>\n",
       "      <td>Platform</td>\n",
       "      <td>29.08</td>\n",
       "      <td>3.58</td>\n",
       "      <td>6.81</td>\n",
       "      <td>0.77</td>\n",
       "      <td>69.0</td>\n",
       "      <td>7.7</td>\n",
       "      <td>WR</td>\n",
       "      <td>40.24</td>\n",
       "    </tr>\n",
       "    <tr>\n",
       "      <th>2</th>\n",
       "      <td>Mario Kart Wii</td>\n",
       "      <td>Wii</td>\n",
       "      <td>2008.0</td>\n",
       "      <td>Racing</td>\n",
       "      <td>15.68</td>\n",
       "      <td>12.76</td>\n",
       "      <td>3.79</td>\n",
       "      <td>3.29</td>\n",
       "      <td>82.0</td>\n",
       "      <td>8.3</td>\n",
       "      <td>E</td>\n",
       "      <td>35.52</td>\n",
       "    </tr>\n",
       "    <tr>\n",
       "      <th>3</th>\n",
       "      <td>Wii Sports Resort</td>\n",
       "      <td>Wii</td>\n",
       "      <td>2009.0</td>\n",
       "      <td>Sports</td>\n",
       "      <td>15.61</td>\n",
       "      <td>10.93</td>\n",
       "      <td>3.28</td>\n",
       "      <td>2.95</td>\n",
       "      <td>80.0</td>\n",
       "      <td>8.0</td>\n",
       "      <td>E</td>\n",
       "      <td>32.77</td>\n",
       "    </tr>\n",
       "    <tr>\n",
       "      <th>4</th>\n",
       "      <td>Pokemon Red/Pokemon Blue</td>\n",
       "      <td>GB</td>\n",
       "      <td>1996.0</td>\n",
       "      <td>Role-Playing</td>\n",
       "      <td>11.27</td>\n",
       "      <td>8.89</td>\n",
       "      <td>10.22</td>\n",
       "      <td>1.00</td>\n",
       "      <td>74.0</td>\n",
       "      <td>7.8</td>\n",
       "      <td>WR</td>\n",
       "      <td>31.38</td>\n",
       "    </tr>\n",
       "    <tr>\n",
       "      <th>5</th>\n",
       "      <td>Tetris</td>\n",
       "      <td>GB</td>\n",
       "      <td>1989.0</td>\n",
       "      <td>Puzzle</td>\n",
       "      <td>23.20</td>\n",
       "      <td>2.26</td>\n",
       "      <td>4.22</td>\n",
       "      <td>0.58</td>\n",
       "      <td>70.0</td>\n",
       "      <td>7.5</td>\n",
       "      <td>WR</td>\n",
       "      <td>30.26</td>\n",
       "    </tr>\n",
       "    <tr>\n",
       "      <th>6</th>\n",
       "      <td>New Super Mario Bros.</td>\n",
       "      <td>DS</td>\n",
       "      <td>2006.0</td>\n",
       "      <td>Platform</td>\n",
       "      <td>11.28</td>\n",
       "      <td>9.14</td>\n",
       "      <td>6.50</td>\n",
       "      <td>2.88</td>\n",
       "      <td>89.0</td>\n",
       "      <td>8.5</td>\n",
       "      <td>E</td>\n",
       "      <td>29.80</td>\n",
       "    </tr>\n",
       "    <tr>\n",
       "      <th>7</th>\n",
       "      <td>Wii Play</td>\n",
       "      <td>Wii</td>\n",
       "      <td>2006.0</td>\n",
       "      <td>Misc</td>\n",
       "      <td>13.96</td>\n",
       "      <td>9.18</td>\n",
       "      <td>2.93</td>\n",
       "      <td>2.84</td>\n",
       "      <td>58.0</td>\n",
       "      <td>6.6</td>\n",
       "      <td>E</td>\n",
       "      <td>28.91</td>\n",
       "    </tr>\n",
       "    <tr>\n",
       "      <th>8</th>\n",
       "      <td>New Super Mario Bros. Wii</td>\n",
       "      <td>Wii</td>\n",
       "      <td>2009.0</td>\n",
       "      <td>Platform</td>\n",
       "      <td>14.44</td>\n",
       "      <td>6.94</td>\n",
       "      <td>4.70</td>\n",
       "      <td>2.24</td>\n",
       "      <td>87.0</td>\n",
       "      <td>8.4</td>\n",
       "      <td>E</td>\n",
       "      <td>28.32</td>\n",
       "    </tr>\n",
       "    <tr>\n",
       "      <th>9</th>\n",
       "      <td>Duck Hunt</td>\n",
       "      <td>NES</td>\n",
       "      <td>1984.0</td>\n",
       "      <td>Shooter</td>\n",
       "      <td>26.93</td>\n",
       "      <td>0.63</td>\n",
       "      <td>0.28</td>\n",
       "      <td>0.47</td>\n",
       "      <td>73.0</td>\n",
       "      <td>7.4</td>\n",
       "      <td>WR</td>\n",
       "      <td>28.31</td>\n",
       "    </tr>\n",
       "    <tr>\n",
       "      <th>10</th>\n",
       "      <td>Nintendogs</td>\n",
       "      <td>DS</td>\n",
       "      <td>2005.0</td>\n",
       "      <td>Simulation</td>\n",
       "      <td>9.05</td>\n",
       "      <td>10.95</td>\n",
       "      <td>1.93</td>\n",
       "      <td>2.74</td>\n",
       "      <td>70.0</td>\n",
       "      <td>7.5</td>\n",
       "      <td>WR</td>\n",
       "      <td>24.67</td>\n",
       "    </tr>\n",
       "    <tr>\n",
       "      <th>11</th>\n",
       "      <td>Mario Kart DS</td>\n",
       "      <td>DS</td>\n",
       "      <td>2005.0</td>\n",
       "      <td>Racing</td>\n",
       "      <td>9.71</td>\n",
       "      <td>7.47</td>\n",
       "      <td>4.13</td>\n",
       "      <td>1.90</td>\n",
       "      <td>91.0</td>\n",
       "      <td>8.6</td>\n",
       "      <td>E</td>\n",
       "      <td>23.21</td>\n",
       "    </tr>\n",
       "    <tr>\n",
       "      <th>12</th>\n",
       "      <td>Pokemon Gold/Pokemon Silver</td>\n",
       "      <td>GB</td>\n",
       "      <td>1999.0</td>\n",
       "      <td>Role-Playing</td>\n",
       "      <td>9.00</td>\n",
       "      <td>6.18</td>\n",
       "      <td>7.20</td>\n",
       "      <td>0.71</td>\n",
       "      <td>74.0</td>\n",
       "      <td>7.8</td>\n",
       "      <td>WR</td>\n",
       "      <td>23.09</td>\n",
       "    </tr>\n",
       "    <tr>\n",
       "      <th>13</th>\n",
       "      <td>Wii Fit</td>\n",
       "      <td>Wii</td>\n",
       "      <td>2007.0</td>\n",
       "      <td>Sports</td>\n",
       "      <td>8.92</td>\n",
       "      <td>8.03</td>\n",
       "      <td>3.60</td>\n",
       "      <td>2.15</td>\n",
       "      <td>80.0</td>\n",
       "      <td>7.7</td>\n",
       "      <td>E</td>\n",
       "      <td>22.70</td>\n",
       "    </tr>\n",
       "    <tr>\n",
       "      <th>14</th>\n",
       "      <td>Kinect Adventures!</td>\n",
       "      <td>X360</td>\n",
       "      <td>2010.0</td>\n",
       "      <td>Misc</td>\n",
       "      <td>15.00</td>\n",
       "      <td>4.89</td>\n",
       "      <td>0.24</td>\n",
       "      <td>1.69</td>\n",
       "      <td>61.0</td>\n",
       "      <td>6.3</td>\n",
       "      <td>E</td>\n",
       "      <td>21.82</td>\n",
       "    </tr>\n",
       "  </tbody>\n",
       "</table>\n",
       "</div>"
      ],
      "text/plain": [
       "                           name platform  year_of_release         genre  \\\n",
       "0                    Wii Sports      Wii           2006.0        Sports   \n",
       "1             Super Mario Bros.      NES           1985.0      Platform   \n",
       "2                Mario Kart Wii      Wii           2008.0        Racing   \n",
       "3             Wii Sports Resort      Wii           2009.0        Sports   \n",
       "4      Pokemon Red/Pokemon Blue       GB           1996.0  Role-Playing   \n",
       "5                        Tetris       GB           1989.0        Puzzle   \n",
       "6         New Super Mario Bros.       DS           2006.0      Platform   \n",
       "7                      Wii Play      Wii           2006.0          Misc   \n",
       "8     New Super Mario Bros. Wii      Wii           2009.0      Platform   \n",
       "9                     Duck Hunt      NES           1984.0       Shooter   \n",
       "10                   Nintendogs       DS           2005.0    Simulation   \n",
       "11                Mario Kart DS       DS           2005.0        Racing   \n",
       "12  Pokemon Gold/Pokemon Silver       GB           1999.0  Role-Playing   \n",
       "13                      Wii Fit      Wii           2007.0        Sports   \n",
       "14           Kinect Adventures!     X360           2010.0          Misc   \n",
       "\n",
       "    na_sales  eu_sales  jp_sales  other_sales  critic_score  user_score  \\\n",
       "0      41.36     28.96      3.77         8.45          76.0         8.0   \n",
       "1      29.08      3.58      6.81         0.77          69.0         7.7   \n",
       "2      15.68     12.76      3.79         3.29          82.0         8.3   \n",
       "3      15.61     10.93      3.28         2.95          80.0         8.0   \n",
       "4      11.27      8.89     10.22         1.00          74.0         7.8   \n",
       "5      23.20      2.26      4.22         0.58          70.0         7.5   \n",
       "6      11.28      9.14      6.50         2.88          89.0         8.5   \n",
       "7      13.96      9.18      2.93         2.84          58.0         6.6   \n",
       "8      14.44      6.94      4.70         2.24          87.0         8.4   \n",
       "9      26.93      0.63      0.28         0.47          73.0         7.4   \n",
       "10      9.05     10.95      1.93         2.74          70.0         7.5   \n",
       "11      9.71      7.47      4.13         1.90          91.0         8.6   \n",
       "12      9.00      6.18      7.20         0.71          74.0         7.8   \n",
       "13      8.92      8.03      3.60         2.15          80.0         7.7   \n",
       "14     15.00      4.89      0.24         1.69          61.0         6.3   \n",
       "\n",
       "   rating  total_sales  \n",
       "0       E        82.54  \n",
       "1      WR        40.24  \n",
       "2       E        35.52  \n",
       "3       E        32.77  \n",
       "4      WR        31.38  \n",
       "5      WR        30.26  \n",
       "6       E        29.80  \n",
       "7       E        28.91  \n",
       "8       E        28.32  \n",
       "9      WR        28.31  \n",
       "10     WR        24.67  \n",
       "11      E        23.21  \n",
       "12     WR        23.09  \n",
       "13      E        22.70  \n",
       "14      E        21.82  "
      ]
     },
     "execution_count": 17,
     "metadata": {},
     "output_type": "execute_result"
    }
   ],
   "source": [
    "data.head(15)"
   ]
  },
  {
   "cell_type": "code",
   "execution_count": 18,
   "metadata": {},
   "outputs": [
    {
     "name": "stdout",
     "output_type": "stream",
     "text": [
      "<class 'pandas.core.frame.DataFrame'>\n",
      "Int64Index: 16713 entries, 0 to 16714\n",
      "Data columns (total 12 columns):\n",
      " #   Column           Non-Null Count  Dtype  \n",
      "---  ------           --------------  -----  \n",
      " 0   name             16713 non-null  object \n",
      " 1   platform         16713 non-null  object \n",
      " 2   year_of_release  16444 non-null  float64\n",
      " 3   genre            16713 non-null  object \n",
      " 4   na_sales         16713 non-null  float64\n",
      " 5   eu_sales         16713 non-null  float64\n",
      " 6   jp_sales         16713 non-null  float64\n",
      " 7   other_sales      16713 non-null  float64\n",
      " 8   critic_score     16713 non-null  float64\n",
      " 9   user_score       16713 non-null  float64\n",
      " 10  rating           16713 non-null  object \n",
      " 11  total_sales      16713 non-null  float64\n",
      "dtypes: float64(8), object(4)\n",
      "memory usage: 1.7+ MB\n"
     ]
    }
   ],
   "source": [
    "# check\n",
    "data.info()"
   ]
  },
  {
   "cell_type": "markdown",
   "metadata": {},
   "source": [
    "### Проведите исследовательский анализ данных."
   ]
  },
  {
   "cell_type": "markdown",
   "metadata": {},
   "source": [
    "#### Посмотрите, сколько игр выпускалось в разные годы."
   ]
  },
  {
   "cell_type": "markdown",
   "metadata": {},
   "source": [
    "Построим гистограмму для столбца `year_of_release`:"
   ]
  },
  {
   "cell_type": "code",
   "execution_count": 19,
   "metadata": {},
   "outputs": [
    {
     "data": {
      "image/png": "[encoded data removed]",
      "text/plain": [
       "<Figure size 432x288 with 1 Axes>"
      ]
     },
     "metadata": {
      "needs_background": "light"
     },
     "output_type": "display_data"
    }
   ],
   "source": [
    "data['year_of_release'].hist(bins=37)\n",
    "plt.title('Распределение количества выпускаемых игр по годам', pad = 20)\n",
    "plt.show()"
   ]
  },
  {
   "cell_type": "markdown",
   "metadata": {},
   "source": [
    "На гистограмме видно, что наибольшее количество игр выпускалось в 2008-2009 году. Мешьше всего игр выпускалось до 2000 года. После 2009 года количество выпускаемых игр идет на спад."
   ]
  },
  {
   "cell_type": "markdown",
   "metadata": {},
   "source": [
    "#### Посмотрите, как менялись продажи по платформам. Выберите платформы с наибольшими суммарными продажами и постройте распределение по годам."
   ]
  },
  {
   "cell_type": "markdown",
   "metadata": {},
   "source": [
    "Создадим сводную таблицу с наибольшими суммарными продажами игр по платформам и построим столбчатую диаграмму."
   ]
  },
  {
   "cell_type": "code",
   "execution_count": 20,
   "metadata": {
    "scrolled": false
   },
   "outputs": [
    {
     "data": {
      "image/png": "[encoded data removed]",
      "text/plain": [
       "<Figure size 432x288 with 1 Axes>"
      ]
     },
     "metadata": {
      "needs_background": "light"
     },
     "output_type": "display_data"
    }
   ],
   "source": [
    "data.pivot_table(index='platform', values='total_sales', aggfunc='sum')\\\n",
    ".sort_values('total_sales', ascending=False).plot.bar()\n",
    "plt.title('Продажи игр по платформам', pad = 20)\n",
    "plt.show()"
   ]
  },
  {
   "cell_type": "markdown",
   "metadata": {},
   "source": [
    "Выберем топ-10 платформ по наибольшему количеству продаж."
   ]
  },
  {
   "cell_type": "code",
   "execution_count": 21,
   "metadata": {},
   "outputs": [
    {
     "data": {
      "image/png": "[encoded data removed]",
      "text/plain": [
       "<Figure size 720x360 with 1 Axes>"
      ]
     },
     "metadata": {
      "needs_background": "light"
     },
     "output_type": "display_data"
    }
   ],
   "source": [
    "data.query('year_of_release > 1993').pivot_table(index='year_of_release', columns='platform', values='total_sales', aggfunc='sum')\\\n",
    "[['X360', 'PS2', 'PS3', 'Wii', 'DS', 'PS', 'GBA', 'PS4', 'PSP', 'PC']].plot(figsize=(10,5))\n",
    "plt.title('Продажи игр по платформам по годам', pad = 20)\n",
    "plt.show()"
   ]
  },
  {
   "cell_type": "markdown",
   "metadata": {},
   "source": [
    "На графике видно, что у каждой платформы есть пик продаж, кроме PC, после которого идет спад, и продажи игр на платформу прекращаются. Срок актуальности платформы 7 - 12 лет."
   ]
  },
  {
   "cell_type": "markdown",
   "metadata": {},
   "source": [
    "#### Возьмите данные за соответствующий актуальный период. Актуальный период определите самостоятельно в результате исследования предыдущих вопросов."
   ]
  },
  {
   "cell_type": "markdown",
   "metadata": {},
   "source": [
    "Для последующего анализа возьмем период равный 3 годам, т. е. с 2014 по 2016 год. За этот период игр выпускалось меньше, чем за предыдущие 4 года, но и неактуальные на этот период платформы анализироваться не будут. Создадим новую таблицу `actual_data`."
   ]
  },
  {
   "cell_type": "code",
   "execution_count": 22,
   "metadata": {},
   "outputs": [],
   "source": [
    "actual_data = data.query('year_of_release >= 2014')"
   ]
  },
  {
   "cell_type": "markdown",
   "metadata": {},
   "source": [
    "#### Какие платформы лидируют по продажам, растут или падают? Выберите несколько потенциально прибыльных платформ.\n"
   ]
  },
  {
   "cell_type": "markdown",
   "metadata": {},
   "source": [
    "Создадим сводную таблицу за актуальный период с наибольшими суммарными продажами игр по платформам и построим столбчатую диаграмму."
   ]
  },
  {
   "cell_type": "code",
   "execution_count": 23,
   "metadata": {},
   "outputs": [
    {
     "data": {
      "image/png": "[encoded data removed]",
      "text/plain": [
       "<Figure size 432x288 with 1 Axes>"
      ]
     },
     "metadata": {
      "needs_background": "light"
     },
     "output_type": "display_data"
    }
   ],
   "source": [
    "actual_data.pivot_table(index='platform', values='total_sales', aggfunc='sum')\\\n",
    ".sort_values('total_sales', ascending=False).plot.bar()\n",
    "plt.title('Продажи игр по платформам за актуальный период', pad = 20)\n",
    "plt.show()"
   ]
  },
  {
   "cell_type": "markdown",
   "metadata": {},
   "source": [
    "Также построим график суммарных продаж игр по платформам."
   ]
  },
  {
   "cell_type": "code",
   "execution_count": 24,
   "metadata": {
    "scrolled": false
   },
   "outputs": [
    {
     "data": {
      "image/png": "[encoded data removed]",
      "text/plain": [
       "<Figure size 720x504 with 1 Axes>"
      ]
     },
     "metadata": {
      "needs_background": "light"
     },
     "output_type": "display_data"
    }
   ],
   "source": [
    "actual_data.pivot_table(index='year_of_release', columns='platform', values='total_sales', aggfunc='sum')\\\n",
    ".plot(figsize=(10, 7))\n",
    "plt.title('Продажи игр по платформам по годам за актуальный период', pad = 20)\n",
    "plt.show()"
   ]
  },
  {
   "cell_type": "markdown",
   "metadata": {},
   "source": [
    "Наибольшее количество сумаррных продаж игр на платформах PS4 и XOne. В 2015 году прекратились продажи игр на PSP. В целом продажи на всех платформах падают.\n",
    "\n",
    "Потенциально прибыльные платформы - PS4 и XOne, платформа PC - актуальна всегда, хотя и приносит меньше прибыли по сравнению с остальными платформами."
   ]
  },
  {
   "cell_type": "markdown",
   "metadata": {},
   "source": [
    "#### Постройте график «ящик с усами» по глобальным продажам игр в разбивке по платформам. Опишите результат.\n"
   ]
  },
  {
   "cell_type": "markdown",
   "metadata": {},
   "source": [
    "Построим диаграммы размаха для каждой платформы с выбросами и без. "
   ]
  },
  {
   "cell_type": "code",
   "execution_count": 25,
   "metadata": {},
   "outputs": [
    {
     "data": {
      "image/png": "[encoded data removed]",
      "text/plain": [
       "<Figure size 1152x792 with 1 Axes>"
      ]
     },
     "metadata": {
      "needs_background": "light"
     },
     "output_type": "display_data"
    }
   ],
   "source": [
    "actual_data.boxplot(column = ['total_sales'], by='platform', figsize=(16, 11))\n",
    "plt.title('Диаграммы размаха по глобальным продажам', pad = 20, fontsize=16)\n",
    "plt.show()"
   ]
  },
  {
   "cell_type": "code",
   "execution_count": 26,
   "metadata": {},
   "outputs": [
    {
     "data": {
      "image/png": "[encoded data removed]",
      "text/plain": [
       "<Figure size 1152x792 with 1 Axes>"
      ]
     },
     "metadata": {
      "needs_background": "light"
     },
     "output_type": "display_data"
    }
   ],
   "source": [
    "actual_data.boxplot(column = ['total_sales'], by='platform', figsize=(16, 11), showfliers=False)\n",
    "plt.title('Диаграммы размаха по глобальным продажам без выбросов', pad = 20, fontsize=16)\n",
    "plt.show()"
   ]
  },
  {
   "cell_type": "markdown",
   "metadata": {},
   "source": [
    "На диаграммах видно, что по всем платформам есть выбивающиеся значения. Большего всего выбросов у платформ PS4, XOne и 3DS. Наибольшая медиана у платформ PS4 и XOne, наименьшая - PSP и PSV. Таким образом, самые прибыльные платформы - PS4, XOne, самые неприбыльные - PSP и PSV."
   ]
  },
  {
   "cell_type": "markdown",
   "metadata": {},
   "source": [
    "#### Посмотрите, как влияют на продажи внутри одной популярной платформы отзывы пользователей и критиков. Постройте диаграмму рассеяния и посчитайте корреляцию между отзывами и продажами. Сформулируйте выводы.\n"
   ]
  },
  {
   "cell_type": "markdown",
   "metadata": {},
   "source": [
    "Для анализа выберем платформу с самими большими суммарными продажами за актуальный период - PS4."
   ]
  },
  {
   "cell_type": "markdown",
   "metadata": {},
   "source": [
    "Диаграмма рассеяния и корреляция для зависимости продаж от отзывов пользователей:"
   ]
  },
  {
   "cell_type": "code",
   "execution_count": 27,
   "metadata": {
    "scrolled": true
   },
   "outputs": [
    {
     "data": {
      "image/png": "[encoded data removed]",
      "text/plain": [
       "<Figure size 432x288 with 2 Axes>"
      ]
     },
     "metadata": {
      "needs_background": "light"
     },
     "output_type": "display_data"
    }
   ],
   "source": [
    "data_PS4 = actual_data.query('platform == \"PS4\"')\n",
    "data_PS4.plot(x='user_score', y='total_sales', kind='hexbin', gridsize=20, sharex=False, grid=True)\n",
    "plt.title('Зависимость суммарных продаж от отзывов пользователей на платформе PS4')\n",
    "plt.show()"
   ]
  },
  {
   "cell_type": "code",
   "execution_count": 28,
   "metadata": {},
   "outputs": [
    {
     "name": "stdout",
     "output_type": "stream",
     "text": [
      "Коэффициент Пирсона: -0.067\n"
     ]
    }
   ],
   "source": [
    "print(f\"Коэффициент Пирсона: {data_PS4['user_score'].corr(data_PS4['total_sales']):.2}\")"
   ]
  },
  {
   "cell_type": "markdown",
   "metadata": {},
   "source": [
    "По диаграмме и вычисленному коэффициенту, можно сделать вывод, что на суммарные продажи отзывы пользователей практически не влияют."
   ]
  },
  {
   "cell_type": "markdown",
   "metadata": {},
   "source": [
    "Диаграмма рассеяния и корреляция для зависимости продаж от отзывов критиков:"
   ]
  },
  {
   "cell_type": "code",
   "execution_count": 29,
   "metadata": {},
   "outputs": [
    {
     "data": {
      "image/png": "[encoded data removed]",
      "text/plain": [
       "<Figure size 432x288 with 2 Axes>"
      ]
     },
     "metadata": {
      "needs_background": "light"
     },
     "output_type": "display_data"
    }
   ],
   "source": [
    "data_PS4.plot(x='critic_score', y='total_sales', kind='hexbin', gridsize=20, sharex=False, grid=True)\n",
    "plt.title('Зависимость суммарных продаж от отзывов критиков на платформе PS4')\n",
    "plt.show()"
   ]
  },
  {
   "cell_type": "code",
   "execution_count": 30,
   "metadata": {},
   "outputs": [
    {
     "name": "stdout",
     "output_type": "stream",
     "text": [
      "Коэффициент Пирсона: 0.35\n"
     ]
    }
   ],
   "source": [
    "print(f\"Коэффициент Пирсона: {data_PS4['critic_score'].corr(data_PS4['total_sales']):.2}\")"
   ]
  },
  {
   "cell_type": "markdown",
   "metadata": {},
   "source": [
    "По диаграмме и вычисленному коэффициенту, можно сделать вывод, что суммарные продажи зависят от отзывов критиков, но не сильно."
   ]
  },
  {
   "cell_type": "markdown",
   "metadata": {},
   "source": [
    "#### Соотнесите выводы с продажами игр на других платформах.\n"
   ]
  },
  {
   "cell_type": "markdown",
   "metadata": {},
   "source": [
    "Проанализируем зависмость суммарных продаж от отзывов пользователей и критиков на других платформах. "
   ]
  },
  {
   "cell_type": "markdown",
   "metadata": {},
   "source": [
    "Диаграмма рассеяния и корреляция для зависимости продаж от отзывов пользователей:"
   ]
  },
  {
   "cell_type": "code",
   "execution_count": 31,
   "metadata": {},
   "outputs": [
    {
     "data": {
      "image/png": "[encoded data removed]",
      "text/plain": [
       "<Figure size 432x288 with 2 Axes>"
      ]
     },
     "metadata": {
      "needs_background": "light"
     },
     "output_type": "display_data"
    }
   ],
   "source": [
    "data_other = actual_data.query('platform != \"PS4\"')\n",
    "data_other.plot(x='user_score', y='total_sales', kind='hexbin', gridsize=20, sharex=False, grid=True)\n",
    "plt.title('Зависимость суммарных продаж от отзывов пользователей на других платформах')\n",
    "plt.show()"
   ]
  },
  {
   "cell_type": "code",
   "execution_count": 32,
   "metadata": {},
   "outputs": [
    {
     "name": "stdout",
     "output_type": "stream",
     "text": [
      "Коэффициент Пирсона: -0.073\n"
     ]
    }
   ],
   "source": [
    "print(f\"Коэффициент Пирсона: {data_other['user_score'].corr(data_other['total_sales']):.2}\")"
   ]
  },
  {
   "cell_type": "markdown",
   "metadata": {},
   "source": [
    "Так же, как и при анализе платформы PS3, по диаграмме и вычисленному коэффициенту, можно сделать вывод, что на суммарные продажи отзывы пользователей практически не влияют."
   ]
  },
  {
   "cell_type": "markdown",
   "metadata": {},
   "source": [
    "Диаграмма рассеяния и корреляция для зависимости продаж от отзывов критиков:"
   ]
  },
  {
   "cell_type": "code",
   "execution_count": 33,
   "metadata": {},
   "outputs": [
    {
     "data": {
      "image/png": "[encoded data removed]",
      "text/plain": [
       "<Figure size 432x288 with 2 Axes>"
      ]
     },
     "metadata": {
      "needs_background": "light"
     },
     "output_type": "display_data"
    }
   ],
   "source": [
    "data_other.plot(x='critic_score', y='total_sales', kind='hexbin', gridsize=20, sharex=False, grid=True)\n",
    "plt.title('Зависимость суммарных продаж от отзывов критиков на других платформах')\n",
    "plt.show()"
   ]
  },
  {
   "cell_type": "code",
   "execution_count": 34,
   "metadata": {},
   "outputs": [
    {
     "name": "stdout",
     "output_type": "stream",
     "text": [
      "Коэффициент Пирсона: 0.25\n"
     ]
    }
   ],
   "source": [
    "print(f\"Коэффициент Пирсона: {data_other['critic_score'].corr(data_other['total_sales']):.2}\")"
   ]
  },
  {
   "cell_type": "markdown",
   "metadata": {},
   "source": [
    "Так же, как и при анализе платформы PS4, по диаграмме и вычисленному коэффициенту, можно сделать вывод, что суммарные продажи зависят от отзывов критиков, но не сильно."
   ]
  },
  {
   "cell_type": "markdown",
   "metadata": {},
   "source": [
    "#### Посмотрите на общее распределение игр по жанрам. Что можно сказать о самых прибыльных жанрах? Выделяются ли жанры с высокими и низкими продажами?"
   ]
  },
  {
   "cell_type": "code",
   "execution_count": 35,
   "metadata": {},
   "outputs": [
    {
     "data": {
      "image/png": "[encoded data removed]",
      "text/plain": [
       "<Figure size 432x288 with 1 Axes>"
      ]
     },
     "metadata": {
      "needs_background": "light"
     },
     "output_type": "display_data"
    }
   ],
   "source": [
    "actual_data.value_counts('genre').plot.bar()\n",
    "plt.title('Распределение количества выпускаемых игр по жанрам', pad = 20)\n",
    "plt.show()"
   ]
  },
  {
   "cell_type": "markdown",
   "metadata": {},
   "source": [
    "Большего всего игр выпускается жанра - Action, меньше всего - Puzzle. Рассмотрим, как распределяются жанры по суммарным продажам."
   ]
  },
  {
   "cell_type": "code",
   "execution_count": 36,
   "metadata": {},
   "outputs": [
    {
     "data": {
      "image/png": "[encoded data removed]",
      "text/plain": [
       "<Figure size 432x288 with 1 Axes>"
      ]
     },
     "metadata": {
      "needs_background": "light"
     },
     "output_type": "display_data"
    }
   ],
   "source": [
    "actual_data.pivot_table(index='genre', values='total_sales', aggfunc='sum').sort_values('total_sales', ascending=False).plot.bar()\n",
    "plt.title('Распределение суммарных продаж игр по жанрам', pad = 20)\n",
    "plt.show()"
   ]
  },
  {
   "cell_type": "markdown",
   "metadata": {},
   "source": [
    "Так как игр жанра Action выпускается больше всего, суммарные продажи соответсвенного игр этого жанра больше. Жанр Puzzle также соответсвенно на последнем месте. На этом графике выделяются жанры Shooter и Adventure. По количеству выпускаемых игр - жанр Shooter на 5-ом месте, а по суммарным продажам на 2-ом. По количеству выпускаемых игр - жанр Adventure на 3-ом месте, а по суммарным продажам на 9-ом. "
   ]
  },
  {
   "cell_type": "markdown",
   "metadata": {},
   "source": [
    "Рассмотрим жанры на диграмме размаха."
   ]
  },
  {
   "cell_type": "code",
   "execution_count": 37,
   "metadata": {},
   "outputs": [
    {
     "data": {
      "image/png": "[encoded data removed]",
      "text/plain": [
       "<Figure size 1152x792 with 1 Axes>"
      ]
     },
     "metadata": {
      "needs_background": "light"
     },
     "output_type": "display_data"
    }
   ],
   "source": [
    "actual_data.boxplot(column = ['total_sales'], by='genre', figsize=(16, 11))\n",
    "plt.title('Диаграммы размаха по глобальным продажам', pad = 20, fontsize=16)\n",
    "plt.show()"
   ]
  },
  {
   "cell_type": "code",
   "execution_count": 38,
   "metadata": {
    "scrolled": false
   },
   "outputs": [
    {
     "data": {
      "image/png": "[encoded data removed]",
      "text/plain": [
       "<Figure size 1152x792 with 1 Axes>"
      ]
     },
     "metadata": {
      "needs_background": "light"
     },
     "output_type": "display_data"
    }
   ],
   "source": [
    "actual_data.boxplot(column = ['total_sales'], by='genre', figsize=(16, 11), showfliers=False)\n",
    "plt.title('Диаграммы размаха по глобальным продажам без выбросов', pad = 20, fontsize=16)\n",
    "plt.show()"
   ]
  },
  {
   "cell_type": "markdown",
   "metadata": {},
   "source": [
    "Большего всего выбросов у жанра Action, меньше всего - у жанра Puzzle. Наибольшая медиана у жанра Shooter, наименьшая - у жанра Adventure. Таким образом, самые прибыльные жанры - Shooter и Sports, самые неприбыльные - Puzzle и Adventure."
   ]
  },
  {
   "cell_type": "markdown",
   "metadata": {},
   "source": [
    "### Составьте портрет пользователя каждого региона."
   ]
  },
  {
   "cell_type": "markdown",
   "metadata": {},
   "source": [
    "#### Самые популярные платформы (топ-5). Опишите различия в долях продаж."
   ]
  },
  {
   "cell_type": "markdown",
   "metadata": {},
   "source": [
    "Построим столбчатую диаграмму по продажам игр по платформам в каждом регионе."
   ]
  },
  {
   "cell_type": "code",
   "execution_count": 39,
   "metadata": {
    "scrolled": false
   },
   "outputs": [
    {
     "data": {
      "image/png": "[encoded data removed]",
      "text/plain": [
       "<Figure size 720x360 with 1 Axes>"
      ]
     },
     "metadata": {
      "needs_background": "light"
     },
     "output_type": "display_data"
    }
   ],
   "source": [
    "actual_data.pivot_table(index='platform', values=['na_sales', 'eu_sales', 'jp_sales'], aggfunc='sum')\\\n",
    ".plot.bar(figsize=(10,5))\n",
    "plt.title('Продажи игр по платформам за актуальный период в разных регионах', pad = 20)\n",
    "plt.show()"
   ]
  },
  {
   "cell_type": "markdown",
   "metadata": {},
   "source": [
    "На общем графике видно, что есть различия, особенно между Японией и Северной Америкой, Европой. Рассмотрим каждый регион отдельно."
   ]
  },
  {
   "cell_type": "code",
   "execution_count": 40,
   "metadata": {},
   "outputs": [
    {
     "data": {
      "image/png": "[encoded data removed]",
      "text/plain": [
       "<Figure size 432x288 with 1 Axes>"
      ]
     },
     "metadata": {
      "needs_background": "light"
     },
     "output_type": "display_data"
    }
   ],
   "source": [
    "actual_data.pivot_table(index='platform', values='na_sales', aggfunc='sum')\\\n",
    ".sort_values('na_sales', ascending=False).head(5).plot.bar(color='green')\n",
    "plt.title('Топ-5 платформ в Северной Америке', pad = 20)\n",
    "plt.show()"
   ]
  },
  {
   "cell_type": "markdown",
   "metadata": {},
   "source": [
    "Самая популярная платформа в Северной Америке PS4, далее XOne."
   ]
  },
  {
   "cell_type": "code",
   "execution_count": 41,
   "metadata": {},
   "outputs": [
    {
     "data": {
      "image/png": "[encoded data removed]",
      "text/plain": [
       "<Figure size 432x288 with 1 Axes>"
      ]
     },
     "metadata": {
      "needs_background": "light"
     },
     "output_type": "display_data"
    }
   ],
   "source": [
    "actual_data.pivot_table(index='platform', values='eu_sales', aggfunc='sum')\\\n",
    ".sort_values('eu_sales', ascending=False).head(5).plot.bar()\n",
    "plt.title('Топ-5 платформ в Европе', pad = 20)\n",
    "plt.show()"
   ]
  },
  {
   "cell_type": "markdown",
   "metadata": {},
   "source": [
    "В Европе так же, как и в Северной Америке самые популярные платформы PS4 и XOne. В топ-5 популярных платформ оказался PC."
   ]
  },
  {
   "cell_type": "code",
   "execution_count": 42,
   "metadata": {},
   "outputs": [
    {
     "data": {
      "image/png": "[encoded data removed]",
      "text/plain": [
       "<Figure size 432x288 with 1 Axes>"
      ]
     },
     "metadata": {
      "needs_background": "light"
     },
     "output_type": "display_data"
    }
   ],
   "source": [
    "actual_data.pivot_table(index='platform', values='jp_sales', aggfunc='sum')\\\n",
    ".sort_values('jp_sales', ascending=False).head(5).plot.bar(color='orange')\n",
    "plt.title('Топ-5 платформ в Японии', pad = 20)\n",
    "plt.show()"
   ]
  },
  {
   "cell_type": "markdown",
   "metadata": {},
   "source": [
    "Топ-5 платформ в Японии сильно различаются с Северной Америкой и Европой, во всех регионах популярнs только PS4 и PS3. В Японии пользователи предпочитают портативные платформы - 3DS, WiiU, PSV."
   ]
  },
  {
   "cell_type": "markdown",
   "metadata": {},
   "source": [
    "#### Самые популярные жанры (топ-5). Поясните разницу."
   ]
  },
  {
   "cell_type": "markdown",
   "metadata": {},
   "source": [
    "Построим столбчатую диаграмму по продажам игр по жанрам в каждом регионе."
   ]
  },
  {
   "cell_type": "code",
   "execution_count": 43,
   "metadata": {},
   "outputs": [
    {
     "data": {
      "image/png": "[encoded data removed]",
      "text/plain": [
       "<Figure size 720x360 with 1 Axes>"
      ]
     },
     "metadata": {
      "needs_background": "light"
     },
     "output_type": "display_data"
    }
   ],
   "source": [
    "actual_data.pivot_table(index='genre', values=['na_sales', 'eu_sales', 'jp_sales'], aggfunc='sum')\\\n",
    ".plot.bar(figsize=(10,5))\n",
    "plt.title('Продажи игр по жанрам за актуальный период в разных регионах', pad = 20)\n",
    "plt.show()"
   ]
  },
  {
   "cell_type": "markdown",
   "metadata": {},
   "source": [
    "На общем графике видно, что есть небольшие различия в жанрах по регионам. Рассмотрим каждый регион отдельно."
   ]
  },
  {
   "cell_type": "code",
   "execution_count": 44,
   "metadata": {},
   "outputs": [
    {
     "data": {
      "image/png": "[encoded data removed]",
      "text/plain": [
       "<Figure size 432x288 with 1 Axes>"
      ]
     },
     "metadata": {
      "needs_background": "light"
     },
     "output_type": "display_data"
    }
   ],
   "source": [
    "actual_data.pivot_table(index='genre', values='na_sales', aggfunc='sum')\\\n",
    ".sort_values('na_sales', ascending=False).head(5).plot.bar(color='green')\n",
    "plt.title('Топ-5 жанров в Северной Америке', pad = 20)\n",
    "plt.show()"
   ]
  },
  {
   "cell_type": "code",
   "execution_count": 45,
   "metadata": {},
   "outputs": [
    {
     "data": {
      "image/png": "[encoded data removed]",
      "text/plain": [
       "<Figure size 432x288 with 1 Axes>"
      ]
     },
     "metadata": {
      "needs_background": "light"
     },
     "output_type": "display_data"
    }
   ],
   "source": [
    "actual_data.pivot_table(index='genre', values='eu_sales', aggfunc='sum')\\\n",
    ".sort_values('eu_sales', ascending=False).head(5).plot.bar()\n",
    "plt.title('Топ-5 жанров в Европе', pad = 20)\n",
    "plt.show()"
   ]
  },
  {
   "cell_type": "markdown",
   "metadata": {},
   "source": [
    "Топ-5 жанров в Северной Америке и Европе практически совпадают, различия только 5-ом жанре. В топ-5 Северной Америки входит жанр Misc, а в Европе - Racing."
   ]
  },
  {
   "cell_type": "code",
   "execution_count": 46,
   "metadata": {},
   "outputs": [
    {
     "data": {
      "image/png": "[encoded data removed]",
      "text/plain": [
       "<Figure size 432x288 with 1 Axes>"
      ]
     },
     "metadata": {
      "needs_background": "light"
     },
     "output_type": "display_data"
    }
   ],
   "source": [
    "actual_data.pivot_table(index='genre', values='jp_sales', aggfunc='sum')\\\n",
    ".sort_values('jp_sales', ascending=False).head(5).plot.bar(color='orange')\n",
    "plt.title('Топ-5 жанров в Японии', pad = 20)\n",
    "plt.show()"
   ]
  },
  {
   "cell_type": "markdown",
   "metadata": {},
   "source": [
    "В Японии, как и в других регионах, в топ-5 жанров Action, Shooter и Role-Playing. Также в топ-5 входят жанры Misc и Fighting. Самый популярный жанр - Role-Playing, жанр Action на 2-ом месте."
   ]
  },
  {
   "cell_type": "markdown",
   "metadata": {},
   "source": [
    "#### Влияет ли рейтинг ESRB на продажи в отдельном регионе?"
   ]
  },
  {
   "cell_type": "code",
   "execution_count": 47,
   "metadata": {},
   "outputs": [
    {
     "data": {
      "image/png": "[encoded data removed]",
      "text/plain": [
       "<Figure size 720x360 with 1 Axes>"
      ]
     },
     "metadata": {
      "needs_background": "light"
     },
     "output_type": "display_data"
    }
   ],
   "source": [
    "actual_data.pivot_table(index='rating', values=['na_sales', 'eu_sales', 'jp_sales'], aggfunc='sum')\\\n",
    ".plot.bar(figsize=(10,5))\n",
    "plt.title('Продажи игр по жанрам за актуальный период в разных регионах', pad = 20)\n",
    "plt.show()"
   ]
  },
  {
   "cell_type": "markdown",
   "metadata": {},
   "source": [
    "В целом на общем графике отличий между регионами нет. Рассмотрим каждый регион отдельно."
   ]
  },
  {
   "cell_type": "code",
   "execution_count": 48,
   "metadata": {},
   "outputs": [
    {
     "data": {
      "image/png": "[encoded data removed]",
      "text/plain": [
       "<Figure size 432x288 with 1 Axes>"
      ]
     },
     "metadata": {
      "needs_background": "light"
     },
     "output_type": "display_data"
    }
   ],
   "source": [
    "actual_data.pivot_table(index='rating', values='na_sales', aggfunc='sum')\\\n",
    ".sort_values('na_sales', ascending=False).plot.bar(color='green')\n",
    "plt.title('Влияние рейтинга на продажи в Северной Америке', pad = 20)\n",
    "plt.show()"
   ]
  },
  {
   "cell_type": "code",
   "execution_count": 49,
   "metadata": {},
   "outputs": [
    {
     "data": {
      "image/png": "[encoded data removed]",
      "text/plain": [
       "<Figure size 432x288 with 1 Axes>"
      ]
     },
     "metadata": {
      "needs_background": "light"
     },
     "output_type": "display_data"
    }
   ],
   "source": [
    "actual_data.pivot_table(index='rating', values='eu_sales', aggfunc='sum')\\\n",
    ".sort_values('eu_sales', ascending=False).plot.bar()\n",
    "plt.title('Влияние рейтинга на продажи в Европе', pad = 20)\n",
    "plt.show()"
   ]
  },
  {
   "cell_type": "code",
   "execution_count": 50,
   "metadata": {},
   "outputs": [
    {
     "data": {
      "image/png": "[encoded data removed]",
      "text/plain": [
       "<Figure size 432x288 with 1 Axes>"
      ]
     },
     "metadata": {
      "needs_background": "light"
     },
     "output_type": "display_data"
    }
   ],
   "source": [
    "actual_data.pivot_table(index='rating', values='jp_sales', aggfunc='sum')\\\n",
    ".sort_values('jp_sales', ascending=False).plot.bar(color='orange')\n",
    "plt.title('Влияние рейтинга на продажи в Японии', pad = 20)\n",
    "plt.show()"
   ]
  },
  {
   "cell_type": "markdown",
   "metadata": {},
   "source": [
    "Во всех регионах наименьшие продажи у игр с рейтингом E10+ (Для всех от 10 лет и старше). Довольно много продаж у игр без рейтинга, в Японии они на 1-ом месте, в Северной Америке и Европе - на 2-ом. В Северной Америке и Европе на 1-ом месте рейтинг M (Для взрослых), в Японии он на 4-ом месте. В топ-2 в Японии игры с рейтингом T (Подросткам), в Северной Америке и Европе он на 4-ом месте."
   ]
  },
  {
   "cell_type": "markdown",
   "metadata": {},
   "source": [
    "### Проверьте гипотезы."
   ]
  },
  {
   "cell_type": "markdown",
   "metadata": {},
   "source": [
    "Сформулируем нулевую и альтернативную гипотезы.\n",
    "\n",
    "Нулевая гипотеза формулируется с использованием знака равенства, так и были сформулированы вышеуказанные гипотезы. Альтернативная гипотеза противоположна нулевой и формулируется со знаком неравенства в этих случаях.\n",
    "\n",
    "Для проверки гипотез будем использовать st.ttest_ind - метод для проверки гипотезы о равенстве среднего двух генеральных совокупностей, также укажем параметр equal_var = False, т. к. выборки разного размера и их дисперсии не одинаковы.\n",
    "\n",
    "Пороговое значение установим общепринятое - 0.05.\n",
    "\n",
    "Уровень значимости, p-value — это суммарная вероятность того, что измеренное эмпирически значение окажется далеко от среднего. Если наблюдаемое на выборке значение попадает в эту зону, вероятность такого события при верной нулевой гипотезе признаётся слишком малым, значит, у нас есть основание отвергнуть нулевую гипотезу. Когда значение попадает в зону «Не отвергаем H₀», то\n",
    "оснований отвергать нулевую гипотезу нет."
   ]
  },
  {
   "cell_type": "markdown",
   "metadata": {},
   "source": [
    "Проверка гипотезы: средние пользовательские рейтинги платформ Xbox One и PC одинаковые;\n",
    "\n",
    "```\n",
    "H_0: Средние пользовательские рейтинги платформы Xbox One = cредние пользовательские рейтинги платформы PC\n",
    "H_a: Средние пользовательские рейтинги платформы Xbox One ≠ cредние пользовательские рейтинги платформы PC\n",
    "alpha = 0.05\n",
    "```"
   ]
  },
  {
   "cell_type": "code",
   "execution_count": 51,
   "metadata": {},
   "outputs": [
    {
     "name": "stdout",
     "output_type": "stream",
     "text": [
      "p-значение: 0.05074473945849195\n",
      "Не получилось отвергнуть нулевую гипотезу\n"
     ]
    }
   ],
   "source": [
    "sample_xone = actual_data.query('platform == \"XOne\"')['user_score']\n",
    "sample_pc = actual_data.query('platform == \"PC\"')['user_score']\n",
    "results = st.ttest_ind(sample_xone, sample_pc, equal_var=False)\n",
    "\n",
    "alpha = .05\n",
    "\n",
    "print('p-значение:', results.pvalue)\n",
    "\n",
    "if results.pvalue < alpha:\n",
    "    print('Отвергаем нулевую гипотезу')\n",
    "else:\n",
    "    print('Не получилось отвергнуть нулевую гипотезу')"
   ]
  },
  {
   "cell_type": "markdown",
   "metadata": {},
   "source": [
    "# Оценка влияния заполнения оценок медианами на стат тест"
   ]
  },
  {
   "cell_type": "code",
   "execution_count": 52,
   "metadata": {},
   "outputs": [],
   "source": [
    "import numpy as np"
   ]
  },
  {
   "cell_type": "code",
   "execution_count": 53,
   "metadata": {},
   "outputs": [],
   "source": [
    "data_game = pd.read_csv('/datasets/games.csv')"
   ]
  },
  {
   "cell_type": "code",
   "execution_count": 54,
   "metadata": {},
   "outputs": [],
   "source": [
    "data_game.columns = map(str.lower, data_game.columns)"
   ]
  },
  {
   "cell_type": "code",
   "execution_count": 55,
   "metadata": {},
   "outputs": [],
   "source": [
    "data_game = data_game.dropna(subset = ['year_of_release', 'name', 'genre'])"
   ]
  },
  {
   "cell_type": "code",
   "execution_count": 56,
   "metadata": {},
   "outputs": [],
   "source": [
    "data_game['user_score'] = data_game['user_score'].replace('tbd', np.nan).astype('float')"
   ]
  },
  {
   "cell_type": "code",
   "execution_count": 57,
   "metadata": {},
   "outputs": [],
   "source": [
    "data_game['total_sales'] = data_game[['na_sales','eu_sales','jp_sales', 'other_sales']].sum(axis = 1)"
   ]
  },
  {
   "cell_type": "code",
   "execution_count": 58,
   "metadata": {},
   "outputs": [
    {
     "name": "stdout",
     "output_type": "stream",
     "text": [
      "p-значение: 0.11601398086668827\n",
      "Не получилось отвергнуть нулевую гипотезу\n"
     ]
    }
   ],
   "source": [
    "xone_1 = data_game.query('platform == \"XOne\" and year_of_release >= 2014')['user_score'].dropna()\n",
    "pc_1 = data_game.query('platform == \"PC\" and year_of_release >= 2014')['user_score'].dropna()\n",
    "results = st.ttest_ind(xone_1, pc_1, equal_var=False)\n",
    "\n",
    "alpha = .05\n",
    "\n",
    "print('p-значение:', results.pvalue)\n",
    "\n",
    "if results.pvalue < alpha:\n",
    "    print('Отвергаем нулевую гипотезу')\n",
    "else:\n",
    "    print('Не получилось отвергнуть нулевую гипотезу')"
   ]
  },
  {
   "cell_type": "code",
   "execution_count": 59,
   "metadata": {},
   "outputs": [
    {
     "name": "stdout",
     "output_type": "stream",
     "text": [
      "p-значение: 0.1912450522572209\n",
      "Не получилось отвергнуть нулевую гипотезу\n"
     ]
    }
   ],
   "source": [
    "# Приведены два датасета: сумма покупок, совершённых за месяц посетителями ...\n",
    "\n",
    "sample_1 = [3071, 3636, 3454, 3151, 2185, 3259, 1727, 2263, 2015,\n",
    "2582, 4815, 633, 3186, 887, 2028, 3589, 2564, 1422, 1785,\n",
    "3180, 1770, 2716, 2546, 1848, 4644, 3134, 475, 2686,\n",
    "1838, 3352]\n",
    "sample_2 = [1211, 1228, 2157, 3699, 600, 1898, 1688, 1420, 5048, 3007,\n",
    "509, 3777, 5583, 3949, 121, 1674, 4300, 1338, 3066,\n",
    "3562, 1010, 2311, 462, 863, 2021, 528, 1849, 255,\n",
    "1740, 2596]\n",
    "alpha = .05 # критический уровень статистической значимости\n",
    "# если p-value окажется меньше него - отвергнем гипотезу\n",
    "results = st.ttest_ind(\n",
    "sample_1,\n",
    "sample_2)\n",
    "print('p-значение:', results.pvalue)\n",
    "if (results.pvalue < alpha):\n",
    "    print(\"Отвергаем нулевую гипотезу\")\n",
    "else:\n",
    "\n",
    "    print(\"Не получилось отвергнуть нулевую гипотезу\")"
   ]
  },
  {
   "cell_type": "markdown",
   "metadata": {},
   "source": [
    "Проверка гипотезы: Средние пользовательские рейтинги жанров Action (англ. «действие», экшен-игры) и Sports (англ. «спортивные соревнования») разные;\n",
    "\n",
    "```\n",
    "H_0: Средние пользовательские рейтинги жанра Action = средние пользовательские рейтинги жанр Sports\n",
    "H_a: Средние пользовательские рейтинги жанра Action ≠ средние пользовательские рейтинги жанр Sports\n",
    "alpha = 0.05\n",
    "```"
   ]
  },
  {
   "cell_type": "code",
   "execution_count": 60,
   "metadata": {},
   "outputs": [
    {
     "name": "stdout",
     "output_type": "stream",
     "text": [
      "p-значение: 7.412639945317349e-17\n",
      "Отвергаем нулевую гипотезу\n"
     ]
    }
   ],
   "source": [
    "sample_action = actual_data.query('genre == \"Action\"')['user_score']\n",
    "sample_sports = actual_data.query('genre == \"Sports\"')['user_score']\n",
    "results = st.ttest_ind(sample_action, sample_sports, equal_var=False)\n",
    "\n",
    "alpha = .05\n",
    "\n",
    "print('p-значение:', results.pvalue)\n",
    "\n",
    "if results.pvalue < alpha:\n",
    "    print('Отвергаем нулевую гипотезу')\n",
    "else:\n",
    "    print('Не получилось отвергнуть нулевую гипотезу')"
   ]
  },
  {
   "cell_type": "markdown",
   "metadata": {},
   "source": [
    "### Общий вывод."
   ]
  },
  {
   "cell_type": "markdown",
   "metadata": {},
   "source": [
    "В результате исследования были выполнены следующие шаги: предобработка данных, исследовательский анализ данных, составлен портрет пользователя каждого региона и проверены гипотезы.\n",
    "\n",
    "На этапе предобработки были переименованны столбцы, приведены в нижний регистр. Данные были преобразованы в нужные типы. В данных было выявлено множество пропусков столбцах. Большая часть пропусков была заменена характерным значением - медианой, в некоторых столбцах остались пропуски.\n",
    "\n",
    "На этапе ислледовательского анализа было проанализированно количество выпускаемых игр и построено распределение продаж по годам. На основе этих данных была сделана выборка для дальнейшего анализа. Актуальный период равняется 3-м годам. Далее для актуальных данных были проанализированны продажи по платформам и выбраны потенциально прибыльные - PS4 и XOne. Для определения зависимости продаж от отзывов были построены диаграммы рассеяния и посчитаны коэффициенты. Отзывы пользователей практически не влияют на продажи, отзывы критиков влиют, но не сильно. Также было проанализированно распределение игр по жанрам, были выявлены наиболее прибыльные жанры - Shooter и Sports. \n",
    "\n",
    "При составлении портрета пользователя каждого региона были рассмотрены самые популярные платформы и жанры. Пользователи Японии по топ-5 платформ, жанров и рейтингов отличаются от пользователей Северной Америки и Европы.\n",
    "\n",
    "Также были проверены две гипотезы средние пользовательские рейтинги платформ Xbox One и PC одинаковые и средние пользовательские рейтинги жанров Action и Sports разные. Были сформулированы нулевая и альтернативные гипотезы. В результате теста данные гипотезы отвергнуты не были."
   ]
  }
 ],
 "metadata": {
  "ExecuteTimeLog": [
   {
    "duration": 1196,
    "start_time": "2022-08-08T08:16:58.743Z"
   },
   {
    "duration": 134,
    "start_time": "2022-08-08T08:20:00.461Z"
   },
   {
    "duration": 21,
    "start_time": "2022-08-08T08:21:16.710Z"
   },
   {
    "duration": 34,
    "start_time": "2022-08-08T08:24:42.914Z"
   },
   {
    "duration": 737,
    "start_time": "2022-08-08T08:26:58.155Z"
   },
   {
    "duration": 705,
    "start_time": "2022-08-08T08:27:08.382Z"
   },
   {
    "duration": 751,
    "start_time": "2022-08-08T08:27:23.899Z"
   },
   {
    "duration": 94,
    "start_time": "2022-08-08T10:47:25.235Z"
   },
   {
    "duration": 28,
    "start_time": "2022-08-08T10:47:36.789Z"
   },
   {
    "duration": 20,
    "start_time": "2022-08-08T10:47:47.436Z"
   },
   {
    "duration": 4,
    "start_time": "2022-08-08T10:47:55.536Z"
   },
   {
    "duration": 23,
    "start_time": "2022-08-08T10:47:57.593Z"
   },
   {
    "duration": 20,
    "start_time": "2022-08-08T10:48:19.804Z"
   },
   {
    "duration": 4,
    "start_time": "2022-08-08T10:50:01.660Z"
   },
   {
    "duration": 20,
    "start_time": "2022-08-08T10:50:03.345Z"
   },
   {
    "duration": 14,
    "start_time": "2022-08-08T12:02:41.428Z"
   },
   {
    "duration": 4,
    "start_time": "2022-08-08T15:37:01.977Z"
   },
   {
    "duration": 13,
    "start_time": "2022-08-08T15:37:03.713Z"
   },
   {
    "duration": 1085,
    "start_time": "2022-08-08T15:37:17.750Z"
   },
   {
    "duration": 67,
    "start_time": "2022-08-08T15:37:18.837Z"
   },
   {
    "duration": 14,
    "start_time": "2022-08-08T15:37:18.906Z"
   },
   {
    "duration": 27,
    "start_time": "2022-08-08T15:37:18.922Z"
   },
   {
    "duration": 673,
    "start_time": "2022-08-08T15:37:18.951Z"
   },
   {
    "duration": 4,
    "start_time": "2022-08-08T15:37:19.626Z"
   },
   {
    "duration": 17,
    "start_time": "2022-08-08T15:37:19.631Z"
   },
   {
    "duration": 3,
    "start_time": "2022-08-08T15:37:19.650Z"
   },
   {
    "duration": 14,
    "start_time": "2022-08-08T15:37:26.967Z"
   },
   {
    "duration": 72,
    "start_time": "2022-08-08T15:41:00.742Z"
   },
   {
    "duration": 5,
    "start_time": "2022-08-08T15:41:45.559Z"
   },
   {
    "duration": 14,
    "start_time": "2022-08-08T15:41:47.883Z"
   },
   {
    "duration": 14,
    "start_time": "2022-08-08T15:43:01.489Z"
   },
   {
    "duration": 4,
    "start_time": "2022-08-08T15:45:56.379Z"
   },
   {
    "duration": 4,
    "start_time": "2022-08-08T15:45:58.628Z"
   },
   {
    "duration": 13,
    "start_time": "2022-08-08T15:46:00.860Z"
   },
   {
    "duration": 91,
    "start_time": "2022-08-08T15:50:31.502Z"
   },
   {
    "duration": 3,
    "start_time": "2022-08-08T15:50:48.504Z"
   },
   {
    "duration": 13,
    "start_time": "2022-08-08T15:50:51.456Z"
   },
   {
    "duration": 17,
    "start_time": "2022-08-08T15:51:04.453Z"
   },
   {
    "duration": 13,
    "start_time": "2022-08-08T15:53:31.902Z"
   },
   {
    "duration": 16,
    "start_time": "2022-08-08T16:15:21.210Z"
   },
   {
    "duration": 11,
    "start_time": "2022-08-08T16:15:55.532Z"
   },
   {
    "duration": 10,
    "start_time": "2022-08-08T16:16:03.233Z"
   },
   {
    "duration": 6,
    "start_time": "2022-08-08T16:16:27.425Z"
   },
   {
    "duration": 5,
    "start_time": "2022-08-08T16:16:47.019Z"
   },
   {
    "duration": 5,
    "start_time": "2022-08-08T16:17:28.512Z"
   },
   {
    "duration": 5,
    "start_time": "2022-08-08T16:18:17.754Z"
   },
   {
    "duration": 6,
    "start_time": "2022-08-08T16:18:22.488Z"
   },
   {
    "duration": 1519,
    "start_time": "2022-08-08T17:05:06.973Z"
   },
   {
    "duration": 1170,
    "start_time": "2022-08-08T17:05:27.995Z"
   },
   {
    "duration": 5,
    "start_time": "2022-08-08T17:05:33.751Z"
   },
   {
    "duration": 18,
    "start_time": "2022-08-08T17:06:08.265Z"
   },
   {
    "duration": 9,
    "start_time": "2022-08-08T17:30:05.920Z"
   },
   {
    "duration": 63,
    "start_time": "2022-08-09T06:51:32.930Z"
   },
   {
    "duration": 1197,
    "start_time": "2022-08-09T06:51:40.262Z"
   },
   {
    "duration": 111,
    "start_time": "2022-08-09T06:51:41.460Z"
   },
   {
    "duration": 14,
    "start_time": "2022-08-09T06:51:41.572Z"
   },
   {
    "duration": 25,
    "start_time": "2022-08-09T06:51:41.588Z"
   },
   {
    "duration": 638,
    "start_time": "2022-08-09T06:51:41.615Z"
   },
   {
    "duration": 4,
    "start_time": "2022-08-09T06:51:42.255Z"
   },
   {
    "duration": 16,
    "start_time": "2022-08-09T06:51:42.261Z"
   },
   {
    "duration": 4,
    "start_time": "2022-08-09T06:51:42.278Z"
   },
   {
    "duration": 28,
    "start_time": "2022-08-09T06:51:42.283Z"
   },
   {
    "duration": 20,
    "start_time": "2022-08-09T06:51:42.314Z"
   },
   {
    "duration": 9,
    "start_time": "2022-08-09T06:51:42.336Z"
   },
   {
    "duration": 10,
    "start_time": "2022-08-09T06:51:42.346Z"
   },
   {
    "duration": 22,
    "start_time": "2022-08-09T06:51:42.357Z"
   },
   {
    "duration": 9,
    "start_time": "2022-08-09T06:51:53.352Z"
   },
   {
    "duration": 974,
    "start_time": "2022-08-09T06:52:18.571Z"
   },
   {
    "duration": 71,
    "start_time": "2022-08-09T06:52:19.547Z"
   },
   {
    "duration": 13,
    "start_time": "2022-08-09T06:52:19.619Z"
   },
   {
    "duration": 40,
    "start_time": "2022-08-09T06:52:19.634Z"
   },
   {
    "duration": 628,
    "start_time": "2022-08-09T06:52:19.676Z"
   },
   {
    "duration": 7,
    "start_time": "2022-08-09T06:52:20.306Z"
   },
   {
    "duration": 52,
    "start_time": "2022-08-09T06:52:20.314Z"
   },
   {
    "duration": 47,
    "start_time": "2022-08-09T06:52:20.368Z"
   },
   {
    "duration": 27,
    "start_time": "2022-08-09T06:52:20.416Z"
   },
   {
    "duration": 31,
    "start_time": "2022-08-09T06:52:20.446Z"
   },
   {
    "duration": 53,
    "start_time": "2022-08-09T06:52:20.479Z"
   },
   {
    "duration": 49,
    "start_time": "2022-08-09T06:52:20.534Z"
   },
   {
    "duration": 47,
    "start_time": "2022-08-09T06:52:20.584Z"
   },
   {
    "duration": 10,
    "start_time": "2022-08-09T06:52:35.357Z"
   },
   {
    "duration": 5,
    "start_time": "2022-08-09T06:53:26.777Z"
   },
   {
    "duration": 21,
    "start_time": "2022-08-09T06:53:38.352Z"
   },
   {
    "duration": 15,
    "start_time": "2022-08-09T09:04:20.743Z"
   },
   {
    "duration": 10,
    "start_time": "2022-08-09T09:04:22.880Z"
   },
   {
    "duration": 145,
    "start_time": "2022-08-09T09:23:08.961Z"
   },
   {
    "duration": 30,
    "start_time": "2022-08-09T09:25:18.156Z"
   },
   {
    "duration": 24,
    "start_time": "2022-08-09T09:25:32.327Z"
   },
   {
    "duration": 21,
    "start_time": "2022-08-09T10:41:57.610Z"
   },
   {
    "duration": 20,
    "start_time": "2022-08-09T10:41:59.636Z"
   },
   {
    "duration": 5,
    "start_time": "2022-08-09T10:47:35.401Z"
   },
   {
    "duration": 8,
    "start_time": "2022-08-09T10:47:56.927Z"
   },
   {
    "duration": 18,
    "start_time": "2022-08-09T10:48:03.041Z"
   },
   {
    "duration": 9,
    "start_time": "2022-08-09T10:48:14.909Z"
   },
   {
    "duration": 8,
    "start_time": "2022-08-09T10:49:21.742Z"
   },
   {
    "duration": 8,
    "start_time": "2022-08-09T10:50:03.770Z"
   },
   {
    "duration": 13,
    "start_time": "2022-08-09T10:50:11.141Z"
   },
   {
    "duration": 15,
    "start_time": "2022-08-09T10:50:40.605Z"
   },
   {
    "duration": 23,
    "start_time": "2022-08-09T10:51:08.121Z"
   },
   {
    "duration": 14,
    "start_time": "2022-08-09T10:51:25.352Z"
   },
   {
    "duration": 22,
    "start_time": "2022-08-09T10:51:35.164Z"
   },
   {
    "duration": 4,
    "start_time": "2022-08-09T10:52:05.827Z"
   },
   {
    "duration": 14,
    "start_time": "2022-08-09T10:52:15.338Z"
   },
   {
    "duration": 10,
    "start_time": "2022-08-09T10:52:39.619Z"
   },
   {
    "duration": 14,
    "start_time": "2022-08-09T10:53:04.880Z"
   },
   {
    "duration": 14,
    "start_time": "2022-08-09T10:53:20.032Z"
   },
   {
    "duration": 14,
    "start_time": "2022-08-09T11:28:51.535Z"
   },
   {
    "duration": 8,
    "start_time": "2022-08-09T11:28:57.130Z"
   },
   {
    "duration": 1114,
    "start_time": "2022-08-09T11:29:09.931Z"
   },
   {
    "duration": 9,
    "start_time": "2022-08-09T11:29:25.302Z"
   },
   {
    "duration": 20,
    "start_time": "2022-08-09T11:29:30.819Z"
   },
   {
    "duration": 6,
    "start_time": "2022-08-09T11:30:35.789Z"
   },
   {
    "duration": 7,
    "start_time": "2022-08-09T11:30:49.483Z"
   },
   {
    "duration": 12,
    "start_time": "2022-08-09T11:32:25.924Z"
   },
   {
    "duration": 3,
    "start_time": "2022-08-09T11:33:11.046Z"
   },
   {
    "duration": 981,
    "start_time": "2022-08-09T11:33:17.869Z"
   },
   {
    "duration": 72,
    "start_time": "2022-08-09T11:33:18.852Z"
   },
   {
    "duration": 14,
    "start_time": "2022-08-09T11:33:18.925Z"
   },
   {
    "duration": 43,
    "start_time": "2022-08-09T11:33:18.941Z"
   },
   {
    "duration": 629,
    "start_time": "2022-08-09T11:33:18.986Z"
   },
   {
    "duration": 5,
    "start_time": "2022-08-09T11:33:19.617Z"
   },
   {
    "duration": 18,
    "start_time": "2022-08-09T11:33:19.624Z"
   },
   {
    "duration": 17,
    "start_time": "2022-08-09T11:33:19.644Z"
   },
   {
    "duration": 26,
    "start_time": "2022-08-09T11:33:19.663Z"
   },
   {
    "duration": 32,
    "start_time": "2022-08-09T11:33:19.691Z"
   },
   {
    "duration": 20,
    "start_time": "2022-08-09T11:33:19.725Z"
   },
   {
    "duration": 29,
    "start_time": "2022-08-09T11:33:19.747Z"
   },
   {
    "duration": 140,
    "start_time": "2022-08-09T11:33:19.778Z"
   },
   {
    "duration": 0,
    "start_time": "2022-08-09T11:33:19.920Z"
   },
   {
    "duration": 0,
    "start_time": "2022-08-09T11:33:19.922Z"
   },
   {
    "duration": 0,
    "start_time": "2022-08-09T11:33:19.923Z"
   },
   {
    "duration": 0,
    "start_time": "2022-08-09T11:33:19.924Z"
   },
   {
    "duration": 13,
    "start_time": "2022-08-09T11:33:23.564Z"
   },
   {
    "duration": 12,
    "start_time": "2022-08-09T11:33:38.451Z"
   },
   {
    "duration": 8,
    "start_time": "2022-08-09T11:34:00.271Z"
   },
   {
    "duration": 9,
    "start_time": "2022-08-09T11:34:08.870Z"
   },
   {
    "duration": 19,
    "start_time": "2022-08-09T11:34:17.548Z"
   },
   {
    "duration": 17,
    "start_time": "2022-08-09T11:34:26.755Z"
   },
   {
    "duration": 19,
    "start_time": "2022-08-09T11:34:31.583Z"
   },
   {
    "duration": 9,
    "start_time": "2022-08-09T11:34:43.718Z"
   },
   {
    "duration": 9,
    "start_time": "2022-08-09T11:34:58.544Z"
   },
   {
    "duration": 19,
    "start_time": "2022-08-09T11:35:04.572Z"
   },
   {
    "duration": 8,
    "start_time": "2022-08-09T11:35:17.914Z"
   },
   {
    "duration": 4,
    "start_time": "2022-08-09T11:35:42.379Z"
   },
   {
    "duration": 1043,
    "start_time": "2022-08-09T11:35:50.701Z"
   },
   {
    "duration": 72,
    "start_time": "2022-08-09T11:35:51.746Z"
   },
   {
    "duration": 12,
    "start_time": "2022-08-09T11:35:51.820Z"
   },
   {
    "duration": 25,
    "start_time": "2022-08-09T11:35:51.834Z"
   },
   {
    "duration": 663,
    "start_time": "2022-08-09T11:35:51.861Z"
   },
   {
    "duration": 6,
    "start_time": "2022-08-09T11:35:52.527Z"
   },
   {
    "duration": 28,
    "start_time": "2022-08-09T11:35:52.535Z"
   },
   {
    "duration": 9,
    "start_time": "2022-08-09T11:35:52.565Z"
   },
   {
    "duration": 11,
    "start_time": "2022-08-09T11:35:52.576Z"
   },
   {
    "duration": 24,
    "start_time": "2022-08-09T11:35:52.593Z"
   },
   {
    "duration": 15,
    "start_time": "2022-08-09T11:35:52.619Z"
   },
   {
    "duration": 20,
    "start_time": "2022-08-09T11:35:52.636Z"
   },
   {
    "duration": 188,
    "start_time": "2022-08-09T11:35:52.658Z"
   },
   {
    "duration": 0,
    "start_time": "2022-08-09T11:35:52.848Z"
   },
   {
    "duration": 0,
    "start_time": "2022-08-09T11:35:52.849Z"
   },
   {
    "duration": 0,
    "start_time": "2022-08-09T11:35:52.852Z"
   },
   {
    "duration": 0,
    "start_time": "2022-08-09T11:35:52.853Z"
   },
   {
    "duration": 8,
    "start_time": "2022-08-09T11:35:59.792Z"
   },
   {
    "duration": 4,
    "start_time": "2022-08-09T11:36:16.257Z"
   },
   {
    "duration": 486,
    "start_time": "2022-08-09T11:36:23.126Z"
   },
   {
    "duration": 8,
    "start_time": "2022-08-09T11:36:43.892Z"
   },
   {
    "duration": 8,
    "start_time": "2022-08-09T11:37:20.549Z"
   },
   {
    "duration": 14,
    "start_time": "2022-08-09T11:37:31.968Z"
   },
   {
    "duration": 8,
    "start_time": "2022-08-09T11:37:34.871Z"
   },
   {
    "duration": 12,
    "start_time": "2022-08-09T11:37:46.580Z"
   },
   {
    "duration": 3,
    "start_time": "2022-08-09T11:37:55.500Z"
   },
   {
    "duration": 11,
    "start_time": "2022-08-09T11:48:58.476Z"
   },
   {
    "duration": 13,
    "start_time": "2022-08-09T11:49:36.593Z"
   },
   {
    "duration": 4,
    "start_time": "2022-08-09T11:49:44.587Z"
   },
   {
    "duration": 12,
    "start_time": "2022-08-09T11:49:54.704Z"
   },
   {
    "duration": 989,
    "start_time": "2022-08-09T11:50:12.557Z"
   },
   {
    "duration": 68,
    "start_time": "2022-08-09T11:50:13.548Z"
   },
   {
    "duration": 12,
    "start_time": "2022-08-09T11:50:13.618Z"
   },
   {
    "duration": 42,
    "start_time": "2022-08-09T11:50:13.632Z"
   },
   {
    "duration": 635,
    "start_time": "2022-08-09T11:50:13.676Z"
   },
   {
    "duration": 4,
    "start_time": "2022-08-09T11:50:14.312Z"
   },
   {
    "duration": 34,
    "start_time": "2022-08-09T11:50:14.318Z"
   },
   {
    "duration": 7,
    "start_time": "2022-08-09T11:50:14.353Z"
   },
   {
    "duration": 23,
    "start_time": "2022-08-09T11:50:14.361Z"
   },
   {
    "duration": 31,
    "start_time": "2022-08-09T11:50:14.386Z"
   },
   {
    "duration": 39,
    "start_time": "2022-08-09T11:50:14.418Z"
   },
   {
    "duration": 31,
    "start_time": "2022-08-09T11:50:14.458Z"
   },
   {
    "duration": 23,
    "start_time": "2022-08-09T11:50:14.491Z"
   },
   {
    "duration": 11,
    "start_time": "2022-08-09T11:50:14.515Z"
   },
   {
    "duration": 36,
    "start_time": "2022-08-09T11:50:14.527Z"
   },
   {
    "duration": 5,
    "start_time": "2022-08-09T12:41:06.987Z"
   },
   {
    "duration": 18,
    "start_time": "2022-08-09T12:41:09.304Z"
   },
   {
    "duration": 4,
    "start_time": "2022-08-09T12:42:50.747Z"
   },
   {
    "duration": 13,
    "start_time": "2022-08-09T12:42:53.216Z"
   },
   {
    "duration": 4,
    "start_time": "2022-08-09T12:43:13.867Z"
   },
   {
    "duration": 18,
    "start_time": "2022-08-09T12:43:15.883Z"
   },
   {
    "duration": 1060,
    "start_time": "2022-08-09T12:43:33.281Z"
   },
   {
    "duration": 67,
    "start_time": "2022-08-09T12:43:34.343Z"
   },
   {
    "duration": 12,
    "start_time": "2022-08-09T12:43:34.412Z"
   },
   {
    "duration": 24,
    "start_time": "2022-08-09T12:43:34.426Z"
   },
   {
    "duration": 660,
    "start_time": "2022-08-09T12:43:34.452Z"
   },
   {
    "duration": 4,
    "start_time": "2022-08-09T12:43:35.114Z"
   },
   {
    "duration": 19,
    "start_time": "2022-08-09T12:43:35.119Z"
   },
   {
    "duration": 5,
    "start_time": "2022-08-09T12:43:35.140Z"
   },
   {
    "duration": 15,
    "start_time": "2022-08-09T12:43:35.146Z"
   },
   {
    "duration": 22,
    "start_time": "2022-08-09T12:43:35.163Z"
   },
   {
    "duration": 13,
    "start_time": "2022-08-09T12:43:35.187Z"
   },
   {
    "duration": 21,
    "start_time": "2022-08-09T12:43:35.202Z"
   },
   {
    "duration": 11,
    "start_time": "2022-08-09T12:43:35.224Z"
   },
   {
    "duration": 4,
    "start_time": "2022-08-09T12:43:35.237Z"
   },
   {
    "duration": 27,
    "start_time": "2022-08-09T12:43:35.242Z"
   },
   {
    "duration": 8,
    "start_time": "2022-08-09T12:45:19.634Z"
   },
   {
    "duration": 5,
    "start_time": "2022-08-09T12:47:59.672Z"
   },
   {
    "duration": 27,
    "start_time": "2022-08-09T12:55:42.599Z"
   },
   {
    "duration": 23,
    "start_time": "2022-08-09T12:56:23.986Z"
   },
   {
    "duration": 12,
    "start_time": "2022-08-09T14:38:00.493Z"
   },
   {
    "duration": 12,
    "start_time": "2022-08-09T14:38:02.051Z"
   },
   {
    "duration": 1170,
    "start_time": "2022-08-09T14:38:11.819Z"
   },
   {
    "duration": 68,
    "start_time": "2022-08-09T14:38:12.990Z"
   },
   {
    "duration": 19,
    "start_time": "2022-08-09T14:38:13.060Z"
   },
   {
    "duration": 36,
    "start_time": "2022-08-09T14:38:13.082Z"
   },
   {
    "duration": 655,
    "start_time": "2022-08-09T14:38:13.119Z"
   },
   {
    "duration": 5,
    "start_time": "2022-08-09T14:38:13.776Z"
   },
   {
    "duration": 29,
    "start_time": "2022-08-09T14:38:13.782Z"
   },
   {
    "duration": 3,
    "start_time": "2022-08-09T14:38:13.813Z"
   },
   {
    "duration": 9,
    "start_time": "2022-08-09T14:38:13.817Z"
   },
   {
    "duration": 12,
    "start_time": "2022-08-09T14:38:13.829Z"
   },
   {
    "duration": 9,
    "start_time": "2022-08-09T14:38:13.843Z"
   },
   {
    "duration": 18,
    "start_time": "2022-08-09T14:38:13.853Z"
   },
   {
    "duration": 51,
    "start_time": "2022-08-09T14:38:13.873Z"
   },
   {
    "duration": 13,
    "start_time": "2022-08-09T14:38:13.925Z"
   },
   {
    "duration": 13,
    "start_time": "2022-08-09T14:38:13.939Z"
   },
   {
    "duration": 5,
    "start_time": "2022-08-09T14:38:13.953Z"
   },
   {
    "duration": 21,
    "start_time": "2022-08-09T14:38:13.959Z"
   },
   {
    "duration": 10,
    "start_time": "2022-08-09T14:40:11.306Z"
   },
   {
    "duration": 1022,
    "start_time": "2022-08-09T14:40:29.120Z"
   },
   {
    "duration": 86,
    "start_time": "2022-08-09T14:40:30.144Z"
   },
   {
    "duration": 16,
    "start_time": "2022-08-09T14:40:30.231Z"
   },
   {
    "duration": 55,
    "start_time": "2022-08-09T14:40:30.250Z"
   },
   {
    "duration": 671,
    "start_time": "2022-08-09T14:40:30.307Z"
   },
   {
    "duration": 5,
    "start_time": "2022-08-09T14:40:30.979Z"
   },
   {
    "duration": 25,
    "start_time": "2022-08-09T14:40:30.986Z"
   },
   {
    "duration": 8,
    "start_time": "2022-08-09T14:40:31.012Z"
   },
   {
    "duration": 36,
    "start_time": "2022-08-09T14:40:31.022Z"
   },
   {
    "duration": 14,
    "start_time": "2022-08-09T14:40:31.061Z"
   },
   {
    "duration": 28,
    "start_time": "2022-08-09T14:40:31.076Z"
   },
   {
    "duration": 40,
    "start_time": "2022-08-09T14:40:31.106Z"
   },
   {
    "duration": 20,
    "start_time": "2022-08-09T14:40:31.148Z"
   },
   {
    "duration": 13,
    "start_time": "2022-08-09T14:40:31.169Z"
   },
   {
    "duration": 21,
    "start_time": "2022-08-09T14:40:31.184Z"
   },
   {
    "duration": 30,
    "start_time": "2022-08-09T14:40:31.207Z"
   },
   {
    "duration": 28,
    "start_time": "2022-08-09T14:40:31.239Z"
   },
   {
    "duration": 128,
    "start_time": "2022-08-09T18:09:50.760Z"
   },
   {
    "duration": 35,
    "start_time": "2022-08-09T18:10:03.311Z"
   },
   {
    "duration": 11,
    "start_time": "2022-08-09T18:10:18.172Z"
   },
   {
    "duration": 9,
    "start_time": "2022-08-09T18:10:26.760Z"
   },
   {
    "duration": 12,
    "start_time": "2022-08-09T18:10:36.091Z"
   },
   {
    "duration": 9,
    "start_time": "2022-08-09T18:10:42.572Z"
   },
   {
    "duration": 112,
    "start_time": "2022-08-09T18:11:37.757Z"
   },
   {
    "duration": 5,
    "start_time": "2022-08-09T18:14:01.879Z"
   },
   {
    "duration": 8,
    "start_time": "2022-08-09T18:14:12.708Z"
   },
   {
    "duration": 4,
    "start_time": "2022-08-09T18:14:19.313Z"
   },
   {
    "duration": 8,
    "start_time": "2022-08-09T18:14:26.729Z"
   },
   {
    "duration": 109,
    "start_time": "2022-08-09T18:14:39.116Z"
   },
   {
    "duration": 8,
    "start_time": "2022-08-09T18:14:42.750Z"
   },
   {
    "duration": 4,
    "start_time": "2022-08-09T18:14:48.959Z"
   },
   {
    "duration": 165,
    "start_time": "2022-08-09T18:14:57.031Z"
   },
   {
    "duration": 148,
    "start_time": "2022-08-09T18:17:00.381Z"
   },
   {
    "duration": 155,
    "start_time": "2022-08-09T18:17:06.760Z"
   },
   {
    "duration": 197,
    "start_time": "2022-08-09T18:17:22.696Z"
   },
   {
    "duration": 167,
    "start_time": "2022-08-09T18:17:31.284Z"
   },
   {
    "duration": 234,
    "start_time": "2022-08-09T18:18:50.284Z"
   },
   {
    "duration": 12,
    "start_time": "2022-08-09T18:20:02.618Z"
   },
   {
    "duration": 9,
    "start_time": "2022-08-09T18:22:33.436Z"
   },
   {
    "duration": 155,
    "start_time": "2022-08-09T18:23:09.715Z"
   },
   {
    "duration": 185,
    "start_time": "2022-08-09T18:23:32.441Z"
   },
   {
    "duration": 153,
    "start_time": "2022-08-09T18:23:38.514Z"
   },
   {
    "duration": 52,
    "start_time": "2022-08-10T07:53:25.208Z"
   },
   {
    "duration": 1415,
    "start_time": "2022-08-10T07:53:34.012Z"
   },
   {
    "duration": 457,
    "start_time": "2022-08-10T07:53:35.429Z"
   },
   {
    "duration": 30,
    "start_time": "2022-08-10T07:53:35.887Z"
   },
   {
    "duration": 47,
    "start_time": "2022-08-10T07:53:35.919Z"
   },
   {
    "duration": 871,
    "start_time": "2022-08-10T07:53:35.968Z"
   },
   {
    "duration": 5,
    "start_time": "2022-08-10T07:53:36.841Z"
   },
   {
    "duration": 22,
    "start_time": "2022-08-10T07:53:36.848Z"
   },
   {
    "duration": 25,
    "start_time": "2022-08-10T07:53:36.871Z"
   },
   {
    "duration": 33,
    "start_time": "2022-08-10T07:53:36.898Z"
   },
   {
    "duration": 15,
    "start_time": "2022-08-10T07:53:36.936Z"
   },
   {
    "duration": 10,
    "start_time": "2022-08-10T07:53:36.954Z"
   },
   {
    "duration": 16,
    "start_time": "2022-08-10T07:53:36.966Z"
   },
   {
    "duration": 31,
    "start_time": "2022-08-10T07:53:36.996Z"
   },
   {
    "duration": 7,
    "start_time": "2022-08-10T07:53:37.030Z"
   },
   {
    "duration": 42,
    "start_time": "2022-08-10T07:53:37.039Z"
   },
   {
    "duration": 229,
    "start_time": "2022-08-10T07:53:37.084Z"
   },
   {
    "duration": 9,
    "start_time": "2022-08-10T07:53:37.315Z"
   },
   {
    "duration": 24,
    "start_time": "2022-08-10T07:57:43.086Z"
   },
   {
    "duration": 117,
    "start_time": "2022-08-10T07:57:59.600Z"
   },
   {
    "duration": 16,
    "start_time": "2022-08-10T07:58:14.368Z"
   },
   {
    "duration": 19,
    "start_time": "2022-08-10T07:58:32.982Z"
   },
   {
    "duration": 151,
    "start_time": "2022-08-10T08:01:35.556Z"
   },
   {
    "duration": 23,
    "start_time": "2022-08-10T08:01:44.186Z"
   },
   {
    "duration": 33,
    "start_time": "2022-08-10T08:35:01.398Z"
   },
   {
    "duration": 29,
    "start_time": "2022-08-10T08:35:27.790Z"
   },
   {
    "duration": 29,
    "start_time": "2022-08-10T08:35:43.389Z"
   },
   {
    "duration": 4603,
    "start_time": "2022-08-10T08:36:21.106Z"
   },
   {
    "duration": 34,
    "start_time": "2022-08-10T08:38:15.553Z"
   },
   {
    "duration": 29,
    "start_time": "2022-08-10T08:41:20.940Z"
   },
   {
    "duration": 24,
    "start_time": "2022-08-10T08:41:31.507Z"
   },
   {
    "duration": 90,
    "start_time": "2022-08-10T08:42:25.234Z"
   },
   {
    "duration": 102,
    "start_time": "2022-08-10T08:42:28.836Z"
   },
   {
    "duration": 202,
    "start_time": "2022-08-10T08:42:51.286Z"
   },
   {
    "duration": 3279,
    "start_time": "2022-08-10T08:42:54.776Z"
   },
   {
    "duration": 99,
    "start_time": "2022-08-10T08:51:37.713Z"
   },
   {
    "duration": 34,
    "start_time": "2022-08-10T09:13:50.086Z"
   },
   {
    "duration": 17,
    "start_time": "2022-08-10T09:14:19.620Z"
   },
   {
    "duration": 16,
    "start_time": "2022-08-10T09:14:44.866Z"
   },
   {
    "duration": 18,
    "start_time": "2022-08-10T09:17:45.725Z"
   },
   {
    "duration": 29,
    "start_time": "2022-08-10T09:18:21.891Z"
   },
   {
    "duration": 16,
    "start_time": "2022-08-10T09:19:04.823Z"
   },
   {
    "duration": 40,
    "start_time": "2022-08-10T09:19:52.382Z"
   },
   {
    "duration": 6256,
    "start_time": "2022-08-10T09:20:09.124Z"
   },
   {
    "duration": 2644,
    "start_time": "2022-08-10T09:20:26.623Z"
   },
   {
    "duration": 19,
    "start_time": "2022-08-10T09:20:34.032Z"
   },
   {
    "duration": 11,
    "start_time": "2022-08-10T09:21:28.857Z"
   },
   {
    "duration": 114,
    "start_time": "2022-08-10T09:21:35.755Z"
   },
   {
    "duration": 16,
    "start_time": "2022-08-10T09:21:40.599Z"
   },
   {
    "duration": 16,
    "start_time": "2022-08-10T09:21:45.526Z"
   },
   {
    "duration": 2541,
    "start_time": "2022-08-10T09:21:57.823Z"
   },
   {
    "duration": 1889,
    "start_time": "2022-08-10T09:22:06.643Z"
   },
   {
    "duration": 2119,
    "start_time": "2022-08-10T09:22:11.120Z"
   },
   {
    "duration": 20,
    "start_time": "2022-08-10T09:22:18.212Z"
   },
   {
    "duration": 74,
    "start_time": "2022-08-10T09:22:34.346Z"
   },
   {
    "duration": 16,
    "start_time": "2022-08-10T10:38:13.215Z"
   },
   {
    "duration": 17,
    "start_time": "2022-08-10T10:40:17.841Z"
   },
   {
    "duration": 17,
    "start_time": "2022-08-10T10:59:34.996Z"
   },
   {
    "duration": 146,
    "start_time": "2022-08-10T11:00:07.866Z"
   },
   {
    "duration": 20,
    "start_time": "2022-08-10T11:00:13.777Z"
   },
   {
    "duration": 1403,
    "start_time": "2022-08-10T11:00:30.728Z"
   },
   {
    "duration": 233,
    "start_time": "2022-08-10T11:00:41.857Z"
   },
   {
    "duration": 302,
    "start_time": "2022-08-10T11:01:10.404Z"
   },
   {
    "duration": 11,
    "start_time": "2022-08-10T11:03:54.603Z"
   },
   {
    "duration": 18,
    "start_time": "2022-08-10T11:03:59.618Z"
   },
   {
    "duration": 67,
    "start_time": "2022-08-10T11:04:23.356Z"
   },
   {
    "duration": 10,
    "start_time": "2022-08-10T11:31:03.458Z"
   },
   {
    "duration": 9,
    "start_time": "2022-08-10T11:31:22.657Z"
   },
   {
    "duration": 1301,
    "start_time": "2022-08-10T11:31:26.856Z"
   },
   {
    "duration": 1218,
    "start_time": "2022-08-10T11:31:42.496Z"
   },
   {
    "duration": 9,
    "start_time": "2022-08-10T11:31:48.083Z"
   },
   {
    "duration": 2107,
    "start_time": "2022-08-10T11:31:52.231Z"
   },
   {
    "duration": 11,
    "start_time": "2022-08-10T11:40:55.984Z"
   },
   {
    "duration": 10,
    "start_time": "2022-08-10T11:41:14.415Z"
   },
   {
    "duration": 1562,
    "start_time": "2022-08-10T11:41:20.481Z"
   },
   {
    "duration": 1766,
    "start_time": "2022-08-10T11:41:24.038Z"
   },
   {
    "duration": 19,
    "start_time": "2022-08-10T11:44:29.161Z"
   },
   {
    "duration": 28,
    "start_time": "2022-08-10T11:47:20.539Z"
   },
   {
    "duration": 25,
    "start_time": "2022-08-10T11:48:17.083Z"
   },
   {
    "duration": 638,
    "start_time": "2022-08-10T11:48:33.301Z"
   },
   {
    "duration": 9,
    "start_time": "2022-08-10T11:50:10.850Z"
   },
   {
    "duration": 1145,
    "start_time": "2022-08-10T11:52:02.031Z"
   },
   {
    "duration": 1300,
    "start_time": "2022-08-10T11:52:17.767Z"
   },
   {
    "duration": 779,
    "start_time": "2022-08-10T11:53:13.799Z"
   },
   {
    "duration": 288,
    "start_time": "2022-08-10T11:53:59.728Z"
   },
   {
    "duration": 259,
    "start_time": "2022-08-10T11:56:26.499Z"
   },
   {
    "duration": 261,
    "start_time": "2022-08-10T11:56:44.019Z"
   },
   {
    "duration": 269,
    "start_time": "2022-08-10T11:56:50.066Z"
   },
   {
    "duration": 317,
    "start_time": "2022-08-10T11:59:02.074Z"
   },
   {
    "duration": 450,
    "start_time": "2022-08-10T11:59:04.883Z"
   },
   {
    "duration": 408,
    "start_time": "2022-08-10T12:15:18.383Z"
   },
   {
    "duration": 299,
    "start_time": "2022-08-10T12:15:24.800Z"
   },
   {
    "duration": 288,
    "start_time": "2022-08-10T12:15:29.325Z"
   },
   {
    "duration": 293,
    "start_time": "2022-08-10T12:15:39.218Z"
   },
   {
    "duration": 293,
    "start_time": "2022-08-10T12:43:15.864Z"
   },
   {
    "duration": 18,
    "start_time": "2022-08-10T12:53:53.015Z"
   },
   {
    "duration": 301,
    "start_time": "2022-08-10T12:55:44.704Z"
   },
   {
    "duration": 338,
    "start_time": "2022-08-10T12:55:56.203Z"
   },
   {
    "duration": 290,
    "start_time": "2022-08-10T12:56:27.266Z"
   },
   {
    "duration": 293,
    "start_time": "2022-08-10T12:56:38.627Z"
   },
   {
    "duration": 296,
    "start_time": "2022-08-10T12:57:26.534Z"
   },
   {
    "duration": 281,
    "start_time": "2022-08-10T12:58:49.050Z"
   },
   {
    "duration": 6,
    "start_time": "2022-08-10T13:11:12.762Z"
   },
   {
    "duration": 6,
    "start_time": "2022-08-10T13:12:56.095Z"
   },
   {
    "duration": 30,
    "start_time": "2022-08-10T13:13:02.160Z"
   },
   {
    "duration": 28,
    "start_time": "2022-08-10T13:13:43.970Z"
   },
   {
    "duration": 25,
    "start_time": "2022-08-10T13:14:22.850Z"
   },
   {
    "duration": 28,
    "start_time": "2022-08-10T13:15:40.437Z"
   },
   {
    "duration": 6,
    "start_time": "2022-08-10T13:15:47.167Z"
   },
   {
    "duration": 183,
    "start_time": "2022-08-10T13:44:42.607Z"
   },
   {
    "duration": 349,
    "start_time": "2022-08-10T13:45:35.166Z"
   },
   {
    "duration": 419,
    "start_time": "2022-08-10T13:46:33.152Z"
   },
   {
    "duration": 629,
    "start_time": "2022-08-10T13:46:45.337Z"
   },
   {
    "duration": 319,
    "start_time": "2022-08-10T13:46:59.165Z"
   },
   {
    "duration": 1210,
    "start_time": "2022-08-10T13:58:35.458Z"
   },
   {
    "duration": 77,
    "start_time": "2022-08-10T13:58:36.670Z"
   },
   {
    "duration": 16,
    "start_time": "2022-08-10T13:58:36.751Z"
   },
   {
    "duration": 40,
    "start_time": "2022-08-10T13:58:36.769Z"
   },
   {
    "duration": 812,
    "start_time": "2022-08-10T13:58:36.811Z"
   },
   {
    "duration": 5,
    "start_time": "2022-08-10T13:58:37.625Z"
   },
   {
    "duration": 16,
    "start_time": "2022-08-10T13:58:37.631Z"
   },
   {
    "duration": 3,
    "start_time": "2022-08-10T13:58:37.649Z"
   },
   {
    "duration": 12,
    "start_time": "2022-08-10T13:58:37.655Z"
   },
   {
    "duration": 25,
    "start_time": "2022-08-10T13:58:37.669Z"
   },
   {
    "duration": 10,
    "start_time": "2022-08-10T13:58:37.696Z"
   },
   {
    "duration": 16,
    "start_time": "2022-08-10T13:58:37.708Z"
   },
   {
    "duration": 16,
    "start_time": "2022-08-10T13:58:37.725Z"
   },
   {
    "duration": 4,
    "start_time": "2022-08-10T13:58:37.743Z"
   },
   {
    "duration": 55,
    "start_time": "2022-08-10T13:58:37.749Z"
   },
   {
    "duration": 206,
    "start_time": "2022-08-10T13:58:37.805Z"
   },
   {
    "duration": 310,
    "start_time": "2022-08-10T13:58:38.013Z"
   },
   {
    "duration": 330,
    "start_time": "2022-08-10T13:58:38.325Z"
   },
   {
    "duration": 6,
    "start_time": "2022-08-10T13:58:38.657Z"
   },
   {
    "duration": 185,
    "start_time": "2022-08-10T13:58:38.664Z"
   },
   {
    "duration": 333,
    "start_time": "2022-08-10T13:58:38.851Z"
   },
   {
    "duration": 291,
    "start_time": "2022-08-10T17:39:04.223Z"
   },
   {
    "duration": 475,
    "start_time": "2022-08-10T17:48:21.693Z"
   },
   {
    "duration": 26,
    "start_time": "2022-08-10T17:48:46.526Z"
   },
   {
    "duration": 417,
    "start_time": "2022-08-10T17:49:22.185Z"
   },
   {
    "duration": 13,
    "start_time": "2022-08-10T17:50:40.830Z"
   },
   {
    "duration": 9,
    "start_time": "2022-08-10T17:50:43.823Z"
   },
   {
    "duration": 351,
    "start_time": "2022-08-10T17:51:03.175Z"
   },
   {
    "duration": 343,
    "start_time": "2022-08-10T17:51:48.524Z"
   },
   {
    "duration": 360,
    "start_time": "2022-08-10T17:52:46.546Z"
   },
   {
    "duration": 455,
    "start_time": "2022-08-10T17:54:23.030Z"
   },
   {
    "duration": 362,
    "start_time": "2022-08-10T17:54:34.202Z"
   },
   {
    "duration": 370,
    "start_time": "2022-08-10T17:55:17.747Z"
   },
   {
    "duration": 354,
    "start_time": "2022-08-10T17:58:18.682Z"
   },
   {
    "duration": 356,
    "start_time": "2022-08-10T17:58:41.066Z"
   },
   {
    "duration": 521,
    "start_time": "2022-08-10T17:58:50.605Z"
   },
   {
    "duration": 453,
    "start_time": "2022-08-10T17:58:56.090Z"
   },
   {
    "duration": 466,
    "start_time": "2022-08-10T17:58:59.421Z"
   },
   {
    "duration": 446,
    "start_time": "2022-08-10T17:59:02.770Z"
   },
   {
    "duration": 475,
    "start_time": "2022-08-10T17:59:06.937Z"
   },
   {
    "duration": 629,
    "start_time": "2022-08-10T17:59:14.132Z"
   },
   {
    "duration": 468,
    "start_time": "2022-08-10T17:59:23.462Z"
   },
   {
    "duration": 506,
    "start_time": "2022-08-10T17:59:27.120Z"
   },
   {
    "duration": 862,
    "start_time": "2022-08-10T17:59:41.496Z"
   },
   {
    "duration": 944,
    "start_time": "2022-08-10T18:00:12.139Z"
   },
   {
    "duration": 780,
    "start_time": "2022-08-10T18:00:47.192Z"
   },
   {
    "duration": 762,
    "start_time": "2022-08-10T18:01:07.618Z"
   },
   {
    "duration": 753,
    "start_time": "2022-08-10T18:01:15.835Z"
   },
   {
    "duration": 968,
    "start_time": "2022-08-10T18:01:32.436Z"
   },
   {
    "duration": 799,
    "start_time": "2022-08-10T18:01:41.919Z"
   },
   {
    "duration": 794,
    "start_time": "2022-08-10T18:02:06.313Z"
   },
   {
    "duration": 796,
    "start_time": "2022-08-10T18:02:30.381Z"
   },
   {
    "duration": 1020,
    "start_time": "2022-08-10T18:03:14.060Z"
   },
   {
    "duration": 793,
    "start_time": "2022-08-10T18:03:40.004Z"
   },
   {
    "duration": 998,
    "start_time": "2022-08-10T18:03:56.144Z"
   },
   {
    "duration": 835,
    "start_time": "2022-08-10T18:04:02.214Z"
   },
   {
    "duration": 835,
    "start_time": "2022-08-10T18:04:08.606Z"
   },
   {
    "duration": 1128,
    "start_time": "2022-08-10T18:04:23.277Z"
   },
   {
    "duration": 984,
    "start_time": "2022-08-10T18:06:21.056Z"
   },
   {
    "duration": 953,
    "start_time": "2022-08-10T18:08:24.803Z"
   },
   {
    "duration": 193,
    "start_time": "2022-08-10T18:12:17.392Z"
   },
   {
    "duration": 199,
    "start_time": "2022-08-10T18:12:37.144Z"
   },
   {
    "duration": 314,
    "start_time": "2022-08-10T18:12:49.066Z"
   },
   {
    "duration": 353,
    "start_time": "2022-08-10T18:13:11.629Z"
   },
   {
    "duration": 215,
    "start_time": "2022-08-10T18:13:19.257Z"
   },
   {
    "duration": 192,
    "start_time": "2022-08-10T18:13:48.134Z"
   },
   {
    "duration": 189,
    "start_time": "2022-08-10T18:14:09.652Z"
   },
   {
    "duration": 296,
    "start_time": "2022-08-10T18:14:13.580Z"
   },
   {
    "duration": 568,
    "start_time": "2022-08-10T18:14:17.273Z"
   },
   {
    "duration": 202,
    "start_time": "2022-08-10T18:14:23.051Z"
   },
   {
    "duration": 310,
    "start_time": "2022-08-10T18:14:26.131Z"
   },
   {
    "duration": 1019,
    "start_time": "2022-08-10T18:14:31.629Z"
   },
   {
    "duration": 50,
    "start_time": "2022-08-11T08:41:00.056Z"
   },
   {
    "duration": 1127,
    "start_time": "2022-08-11T08:41:10.762Z"
   },
   {
    "duration": 210,
    "start_time": "2022-08-11T08:41:11.891Z"
   },
   {
    "duration": 13,
    "start_time": "2022-08-11T08:41:12.103Z"
   },
   {
    "duration": 26,
    "start_time": "2022-08-11T08:41:12.118Z"
   },
   {
    "duration": 614,
    "start_time": "2022-08-11T08:41:12.145Z"
   },
   {
    "duration": 4,
    "start_time": "2022-08-11T08:41:12.760Z"
   },
   {
    "duration": 15,
    "start_time": "2022-08-11T08:41:12.766Z"
   },
   {
    "duration": 3,
    "start_time": "2022-08-11T08:41:12.783Z"
   },
   {
    "duration": 25,
    "start_time": "2022-08-11T08:41:12.787Z"
   },
   {
    "duration": 9,
    "start_time": "2022-08-11T08:41:12.814Z"
   },
   {
    "duration": 8,
    "start_time": "2022-08-11T08:41:12.824Z"
   },
   {
    "duration": 12,
    "start_time": "2022-08-11T08:41:12.833Z"
   },
   {
    "duration": 11,
    "start_time": "2022-08-11T08:41:12.846Z"
   },
   {
    "duration": 4,
    "start_time": "2022-08-11T08:41:12.858Z"
   },
   {
    "duration": 44,
    "start_time": "2022-08-11T08:41:12.863Z"
   },
   {
    "duration": 162,
    "start_time": "2022-08-11T08:41:12.908Z"
   },
   {
    "duration": 266,
    "start_time": "2022-08-11T08:41:13.072Z"
   },
   {
    "duration": 257,
    "start_time": "2022-08-11T08:41:13.339Z"
   },
   {
    "duration": 5,
    "start_time": "2022-08-11T08:41:13.598Z"
   },
   {
    "duration": 154,
    "start_time": "2022-08-11T08:41:13.604Z"
   },
   {
    "duration": 313,
    "start_time": "2022-08-11T08:41:13.759Z"
   },
   {
    "duration": 892,
    "start_time": "2022-08-11T08:41:14.073Z"
   },
   {
    "duration": 1468,
    "start_time": "2022-08-11T08:41:14.966Z"
   },
   {
    "duration": 0,
    "start_time": "2022-08-11T08:41:16.436Z"
   },
   {
    "duration": 25,
    "start_time": "2022-08-11T08:41:29.944Z"
   },
   {
    "duration": 174,
    "start_time": "2022-08-11T08:42:04.749Z"
   },
   {
    "duration": 176,
    "start_time": "2022-08-11T08:43:14.529Z"
   },
   {
    "duration": 98,
    "start_time": "2022-08-11T08:44:08.564Z"
   },
   {
    "duration": 83,
    "start_time": "2022-08-11T08:44:48.763Z"
   },
   {
    "duration": 5,
    "start_time": "2022-08-11T08:45:35.842Z"
   },
   {
    "duration": 195,
    "start_time": "2022-08-11T08:45:53.591Z"
   },
   {
    "duration": 74,
    "start_time": "2022-08-11T08:45:55.520Z"
   },
   {
    "duration": 4,
    "start_time": "2022-08-11T08:46:08.755Z"
   },
   {
    "duration": 166,
    "start_time": "2022-08-11T08:47:28.367Z"
   },
   {
    "duration": 5,
    "start_time": "2022-08-11T08:47:30.541Z"
   },
   {
    "duration": 170,
    "start_time": "2022-08-11T08:50:06.512Z"
   },
   {
    "duration": 4,
    "start_time": "2022-08-11T08:50:08.580Z"
   },
   {
    "duration": 200,
    "start_time": "2022-08-11T08:51:15.994Z"
   },
   {
    "duration": 249,
    "start_time": "2022-08-11T09:08:49.178Z"
   },
   {
    "duration": 185,
    "start_time": "2022-08-11T09:08:53.450Z"
   },
   {
    "duration": 198,
    "start_time": "2022-08-11T09:10:14.008Z"
   },
   {
    "duration": 5,
    "start_time": "2022-08-11T09:11:22.750Z"
   },
   {
    "duration": 176,
    "start_time": "2022-08-11T09:11:47.424Z"
   },
   {
    "duration": 4,
    "start_time": "2022-08-11T09:12:03.371Z"
   },
   {
    "duration": 180,
    "start_time": "2022-08-11T09:12:05.325Z"
   },
   {
    "duration": 217,
    "start_time": "2022-08-11T09:12:35.914Z"
   },
   {
    "duration": 1148,
    "start_time": "2022-08-11T09:17:15.781Z"
   },
   {
    "duration": 69,
    "start_time": "2022-08-11T09:17:16.932Z"
   },
   {
    "duration": 14,
    "start_time": "2022-08-11T09:17:17.003Z"
   },
   {
    "duration": 32,
    "start_time": "2022-08-11T09:17:17.020Z"
   },
   {
    "duration": 672,
    "start_time": "2022-08-11T09:17:17.054Z"
   },
   {
    "duration": 5,
    "start_time": "2022-08-11T09:17:17.728Z"
   },
   {
    "duration": 20,
    "start_time": "2022-08-11T09:17:17.734Z"
   },
   {
    "duration": 4,
    "start_time": "2022-08-11T09:17:17.756Z"
   },
   {
    "duration": 9,
    "start_time": "2022-08-11T09:17:17.762Z"
   },
   {
    "duration": 31,
    "start_time": "2022-08-11T09:17:17.774Z"
   },
   {
    "duration": 22,
    "start_time": "2022-08-11T09:17:17.806Z"
   },
   {
    "duration": 13,
    "start_time": "2022-08-11T09:17:17.829Z"
   },
   {
    "duration": 12,
    "start_time": "2022-08-11T09:17:17.844Z"
   },
   {
    "duration": 6,
    "start_time": "2022-08-11T09:17:17.857Z"
   },
   {
    "duration": 20,
    "start_time": "2022-08-11T09:17:17.865Z"
   },
   {
    "duration": 211,
    "start_time": "2022-08-11T09:17:17.886Z"
   },
   {
    "duration": 254,
    "start_time": "2022-08-11T09:17:18.099Z"
   },
   {
    "duration": 273,
    "start_time": "2022-08-11T09:17:18.355Z"
   },
   {
    "duration": 8,
    "start_time": "2022-08-11T09:17:18.630Z"
   },
   {
    "duration": 207,
    "start_time": "2022-08-11T09:17:18.640Z"
   },
   {
    "duration": 278,
    "start_time": "2022-08-11T09:17:18.849Z"
   },
   {
    "duration": 948,
    "start_time": "2022-08-11T09:17:19.128Z"
   },
   {
    "duration": 195,
    "start_time": "2022-08-11T09:17:20.078Z"
   },
   {
    "duration": 5,
    "start_time": "2022-08-11T09:17:20.274Z"
   },
   {
    "duration": 190,
    "start_time": "2022-08-11T09:17:20.280Z"
   },
   {
    "duration": 4,
    "start_time": "2022-08-11T09:17:20.472Z"
   },
   {
    "duration": 205,
    "start_time": "2022-08-11T09:17:20.479Z"
   },
   {
    "duration": 5,
    "start_time": "2022-08-11T09:17:20.687Z"
   },
   {
    "duration": 198,
    "start_time": "2022-08-11T09:17:20.694Z"
   },
   {
    "duration": 13,
    "start_time": "2022-08-11T09:17:20.893Z"
   },
   {
    "duration": 221,
    "start_time": "2022-08-11T11:41:45.904Z"
   },
   {
    "duration": 107,
    "start_time": "2022-08-11T11:43:49.982Z"
   },
   {
    "duration": 26,
    "start_time": "2022-08-11T11:43:55.707Z"
   },
   {
    "duration": 187,
    "start_time": "2022-08-11T11:45:56.485Z"
   },
   {
    "duration": 5,
    "start_time": "2022-08-11T11:46:14.597Z"
   },
   {
    "duration": 11,
    "start_time": "2022-08-11T11:46:32.622Z"
   },
   {
    "duration": 245,
    "start_time": "2022-08-11T11:46:38.725Z"
   },
   {
    "duration": 178,
    "start_time": "2022-08-11T11:47:10.301Z"
   },
   {
    "duration": 151,
    "start_time": "2022-08-11T11:47:49.238Z"
   },
   {
    "duration": 154,
    "start_time": "2022-08-11T11:47:55.261Z"
   },
   {
    "duration": 18,
    "start_time": "2022-08-11T11:49:21.645Z"
   },
   {
    "duration": 9,
    "start_time": "2022-08-11T11:49:44.682Z"
   },
   {
    "duration": 6,
    "start_time": "2022-08-11T11:49:52.058Z"
   },
   {
    "duration": 129,
    "start_time": "2022-08-11T11:49:59.864Z"
   },
   {
    "duration": 153,
    "start_time": "2022-08-11T11:50:09.121Z"
   },
   {
    "duration": 193,
    "start_time": "2022-08-11T11:50:30.083Z"
   },
   {
    "duration": 7,
    "start_time": "2022-08-11T11:51:25.990Z"
   },
   {
    "duration": 167,
    "start_time": "2022-08-11T11:51:36.981Z"
   },
   {
    "duration": 19,
    "start_time": "2022-08-11T12:06:49.023Z"
   },
   {
    "duration": 12,
    "start_time": "2022-08-11T12:07:55.441Z"
   },
   {
    "duration": 16,
    "start_time": "2022-08-11T12:08:31.551Z"
   },
   {
    "duration": 12,
    "start_time": "2022-08-11T12:08:34.751Z"
   },
   {
    "duration": 168,
    "start_time": "2022-08-11T12:08:51.637Z"
   },
   {
    "duration": 179,
    "start_time": "2022-08-11T12:09:26.868Z"
   },
   {
    "duration": 181,
    "start_time": "2022-08-11T12:10:33.968Z"
   },
   {
    "duration": 264,
    "start_time": "2022-08-11T12:11:33.091Z"
   },
   {
    "duration": 160,
    "start_time": "2022-08-11T12:11:58.342Z"
   },
   {
    "duration": 174,
    "start_time": "2022-08-11T12:12:00.717Z"
   },
   {
    "duration": 181,
    "start_time": "2022-08-11T12:12:40.443Z"
   },
   {
    "duration": 167,
    "start_time": "2022-08-11T12:12:43.082Z"
   },
   {
    "duration": 166,
    "start_time": "2022-08-11T12:12:51.134Z"
   },
   {
    "duration": 164,
    "start_time": "2022-08-11T12:16:06.663Z"
   },
   {
    "duration": 177,
    "start_time": "2022-08-11T12:29:01.660Z"
   },
   {
    "duration": 179,
    "start_time": "2022-08-11T12:29:03.929Z"
   },
   {
    "duration": 165,
    "start_time": "2022-08-11T14:27:50.736Z"
   },
   {
    "duration": 174,
    "start_time": "2022-08-11T14:28:51.289Z"
   },
   {
    "duration": 315,
    "start_time": "2022-08-11T14:29:01.660Z"
   },
   {
    "duration": 19,
    "start_time": "2022-08-11T14:31:04.286Z"
   },
   {
    "duration": 288,
    "start_time": "2022-08-11T14:31:16.058Z"
   },
   {
    "duration": 283,
    "start_time": "2022-08-11T14:32:02.500Z"
   },
   {
    "duration": 244,
    "start_time": "2022-08-11T14:32:29.814Z"
   },
   {
    "duration": 244,
    "start_time": "2022-08-11T14:33:22.269Z"
   },
   {
    "duration": 15,
    "start_time": "2022-08-11T14:35:08.165Z"
   },
   {
    "duration": 19,
    "start_time": "2022-08-11T14:36:39.068Z"
   },
   {
    "duration": 16,
    "start_time": "2022-08-11T14:36:50.518Z"
   },
   {
    "duration": 192,
    "start_time": "2022-08-11T14:36:57.918Z"
   },
   {
    "duration": 18,
    "start_time": "2022-08-11T14:39:38.653Z"
   },
   {
    "duration": 13,
    "start_time": "2022-08-11T14:39:45.094Z"
   },
   {
    "duration": 13,
    "start_time": "2022-08-11T14:40:01.604Z"
   },
   {
    "duration": 13,
    "start_time": "2022-08-11T14:40:36.290Z"
   },
   {
    "duration": 213,
    "start_time": "2022-08-11T14:41:12.253Z"
   },
   {
    "duration": 135,
    "start_time": "2022-08-11T14:42:42.165Z"
   },
   {
    "duration": 132,
    "start_time": "2022-08-11T14:42:55.821Z"
   },
   {
    "duration": 146,
    "start_time": "2022-08-11T14:43:45.901Z"
   },
   {
    "duration": 139,
    "start_time": "2022-08-11T14:43:48.461Z"
   },
   {
    "duration": 214,
    "start_time": "2022-08-11T14:44:15.468Z"
   },
   {
    "duration": 116,
    "start_time": "2022-08-11T14:44:35.096Z"
   },
   {
    "duration": 184,
    "start_time": "2022-08-11T14:47:04.410Z"
   },
   {
    "duration": 157,
    "start_time": "2022-08-11T14:47:24.693Z"
   },
   {
    "duration": 143,
    "start_time": "2022-08-11T14:47:31.750Z"
   },
   {
    "duration": 114,
    "start_time": "2022-08-11T14:50:17.092Z"
   },
   {
    "duration": 217,
    "start_time": "2022-08-11T16:47:08.436Z"
   },
   {
    "duration": 220,
    "start_time": "2022-08-11T16:47:30.872Z"
   },
   {
    "duration": 121,
    "start_time": "2022-08-11T16:49:58.715Z"
   },
   {
    "duration": 130,
    "start_time": "2022-08-11T16:50:24.447Z"
   },
   {
    "duration": 119,
    "start_time": "2022-08-11T16:51:04.582Z"
   },
   {
    "duration": 122,
    "start_time": "2022-08-11T16:51:15.458Z"
   },
   {
    "duration": 120,
    "start_time": "2022-08-11T16:51:18.349Z"
   },
   {
    "duration": 970,
    "start_time": "2022-08-11T17:05:07.857Z"
   },
   {
    "duration": 69,
    "start_time": "2022-08-11T17:05:08.829Z"
   },
   {
    "duration": 12,
    "start_time": "2022-08-11T17:05:08.900Z"
   },
   {
    "duration": 26,
    "start_time": "2022-08-11T17:05:08.914Z"
   },
   {
    "duration": 659,
    "start_time": "2022-08-11T17:05:08.942Z"
   },
   {
    "duration": 4,
    "start_time": "2022-08-11T17:05:09.602Z"
   },
   {
    "duration": 15,
    "start_time": "2022-08-11T17:05:09.608Z"
   },
   {
    "duration": 3,
    "start_time": "2022-08-11T17:05:09.625Z"
   },
   {
    "duration": 9,
    "start_time": "2022-08-11T17:05:09.629Z"
   },
   {
    "duration": 9,
    "start_time": "2022-08-11T17:05:09.641Z"
   },
   {
    "duration": 8,
    "start_time": "2022-08-11T17:05:09.651Z"
   },
   {
    "duration": 12,
    "start_time": "2022-08-11T17:05:09.660Z"
   },
   {
    "duration": 38,
    "start_time": "2022-08-11T17:05:09.673Z"
   },
   {
    "duration": 5,
    "start_time": "2022-08-11T17:05:09.713Z"
   },
   {
    "duration": 22,
    "start_time": "2022-08-11T17:05:09.720Z"
   },
   {
    "duration": 181,
    "start_time": "2022-08-11T17:05:09.744Z"
   },
   {
    "duration": 265,
    "start_time": "2022-08-11T17:05:09.926Z"
   },
   {
    "duration": 312,
    "start_time": "2022-08-11T17:05:10.192Z"
   },
   {
    "duration": 6,
    "start_time": "2022-08-11T17:05:10.507Z"
   },
   {
    "duration": 169,
    "start_time": "2022-08-11T17:05:10.514Z"
   },
   {
    "duration": 265,
    "start_time": "2022-08-11T17:05:10.684Z"
   },
   {
    "duration": 838,
    "start_time": "2022-08-11T17:05:10.951Z"
   },
   {
    "duration": 171,
    "start_time": "2022-08-11T17:05:11.791Z"
   },
   {
    "duration": 4,
    "start_time": "2022-08-11T17:05:11.963Z"
   },
   {
    "duration": 174,
    "start_time": "2022-08-11T17:05:11.968Z"
   },
   {
    "duration": 4,
    "start_time": "2022-08-11T17:05:12.143Z"
   },
   {
    "duration": 180,
    "start_time": "2022-08-11T17:05:12.148Z"
   },
   {
    "duration": 5,
    "start_time": "2022-08-11T17:05:12.331Z"
   },
   {
    "duration": 179,
    "start_time": "2022-08-11T17:05:12.337Z"
   },
   {
    "duration": 3,
    "start_time": "2022-08-11T17:05:12.518Z"
   },
   {
    "duration": 161,
    "start_time": "2022-08-11T17:05:12.523Z"
   },
   {
    "duration": 176,
    "start_time": "2022-08-11T17:05:12.685Z"
   },
   {
    "duration": 238,
    "start_time": "2022-08-11T17:05:12.862Z"
   },
   {
    "duration": 215,
    "start_time": "2022-08-11T17:05:13.101Z"
   },
   {
    "duration": 133,
    "start_time": "2022-08-11T17:05:13.318Z"
   },
   {
    "duration": 137,
    "start_time": "2022-08-11T17:05:13.453Z"
   },
   {
    "duration": 124,
    "start_time": "2022-08-11T17:05:13.592Z"
   },
   {
    "duration": 230,
    "start_time": "2022-08-11T17:05:13.717Z"
   },
   {
    "duration": 136,
    "start_time": "2022-08-11T17:05:13.948Z"
   },
   {
    "duration": 128,
    "start_time": "2022-08-11T17:05:14.086Z"
   },
   {
    "duration": 150,
    "start_time": "2022-08-11T17:05:14.216Z"
   },
   {
    "duration": 190,
    "start_time": "2022-08-11T17:22:54.255Z"
   },
   {
    "duration": 114,
    "start_time": "2022-08-11T17:23:51.399Z"
   },
   {
    "duration": 210,
    "start_time": "2022-08-11T17:23:54.794Z"
   },
   {
    "duration": 133,
    "start_time": "2022-08-11T17:23:57.137Z"
   },
   {
    "duration": 5,
    "start_time": "2022-08-11T17:24:55.669Z"
   },
   {
    "duration": 140,
    "start_time": "2022-08-11T17:26:10.924Z"
   },
   {
    "duration": 127,
    "start_time": "2022-08-11T17:26:13.721Z"
   },
   {
    "duration": 123,
    "start_time": "2022-08-11T17:26:17.168Z"
   },
   {
    "duration": 146,
    "start_time": "2022-08-11T17:27:24.988Z"
   },
   {
    "duration": 139,
    "start_time": "2022-08-11T17:27:27.076Z"
   },
   {
    "duration": 129,
    "start_time": "2022-08-11T17:27:29.168Z"
   },
   {
    "duration": 10,
    "start_time": "2022-08-11T18:25:35.941Z"
   },
   {
    "duration": 10,
    "start_time": "2022-08-11T18:26:22.439Z"
   },
   {
    "duration": 9,
    "start_time": "2022-08-11T18:27:09.068Z"
   },
   {
    "duration": 9,
    "start_time": "2022-08-11T18:27:10.940Z"
   },
   {
    "duration": 11,
    "start_time": "2022-08-11T18:27:14.604Z"
   },
   {
    "duration": 11,
    "start_time": "2022-08-11T18:27:19.764Z"
   },
   {
    "duration": 10,
    "start_time": "2022-08-11T18:34:02.231Z"
   },
   {
    "duration": 11,
    "start_time": "2022-08-11T18:34:30.313Z"
   },
   {
    "duration": 10,
    "start_time": "2022-08-11T18:35:43.925Z"
   },
   {
    "duration": 10,
    "start_time": "2022-08-11T18:35:48.945Z"
   },
   {
    "duration": 47,
    "start_time": "2022-08-12T14:00:49.072Z"
   },
   {
    "duration": 6,
    "start_time": "2022-08-12T14:01:45.474Z"
   },
   {
    "duration": 1248,
    "start_time": "2022-08-12T14:01:49.362Z"
   },
   {
    "duration": 115,
    "start_time": "2022-08-12T14:01:50.612Z"
   },
   {
    "duration": 14,
    "start_time": "2022-08-12T14:01:50.728Z"
   },
   {
    "duration": 32,
    "start_time": "2022-08-12T14:01:50.743Z"
   },
   {
    "duration": 730,
    "start_time": "2022-08-12T14:01:50.777Z"
   },
   {
    "duration": 4,
    "start_time": "2022-08-12T14:01:51.509Z"
   },
   {
    "duration": 23,
    "start_time": "2022-08-12T14:01:51.515Z"
   },
   {
    "duration": 3,
    "start_time": "2022-08-12T14:01:51.540Z"
   },
   {
    "duration": 18,
    "start_time": "2022-08-12T14:01:51.544Z"
   },
   {
    "duration": 12,
    "start_time": "2022-08-12T14:01:51.563Z"
   },
   {
    "duration": 53,
    "start_time": "2022-08-12T14:01:51.576Z"
   },
   {
    "duration": 9,
    "start_time": "2022-08-12T14:01:51.631Z"
   },
   {
    "duration": 17,
    "start_time": "2022-08-12T14:01:51.658Z"
   },
   {
    "duration": 15,
    "start_time": "2022-08-12T14:01:51.678Z"
   },
   {
    "duration": 5,
    "start_time": "2022-08-12T14:01:51.694Z"
   },
   {
    "duration": 24,
    "start_time": "2022-08-12T14:01:51.701Z"
   },
   {
    "duration": 38,
    "start_time": "2022-08-12T14:01:51.727Z"
   },
   {
    "duration": 196,
    "start_time": "2022-08-12T14:01:51.766Z"
   },
   {
    "duration": 286,
    "start_time": "2022-08-12T14:01:51.964Z"
   },
   {
    "duration": 280,
    "start_time": "2022-08-12T14:01:52.257Z"
   },
   {
    "duration": 7,
    "start_time": "2022-08-12T14:01:52.538Z"
   },
   {
    "duration": 198,
    "start_time": "2022-08-12T14:01:52.546Z"
   },
   {
    "duration": 382,
    "start_time": "2022-08-12T14:01:52.746Z"
   },
   {
    "duration": 942,
    "start_time": "2022-08-12T14:01:53.129Z"
   },
   {
    "duration": 201,
    "start_time": "2022-08-12T14:01:54.073Z"
   },
   {
    "duration": 5,
    "start_time": "2022-08-12T14:01:54.277Z"
   },
   {
    "duration": 210,
    "start_time": "2022-08-12T14:01:54.284Z"
   },
   {
    "duration": 5,
    "start_time": "2022-08-12T14:01:54.496Z"
   },
   {
    "duration": 258,
    "start_time": "2022-08-12T14:01:54.503Z"
   },
   {
    "duration": 7,
    "start_time": "2022-08-12T14:01:54.763Z"
   },
   {
    "duration": 218,
    "start_time": "2022-08-12T14:01:54.772Z"
   },
   {
    "duration": 5,
    "start_time": "2022-08-12T14:01:54.992Z"
   },
   {
    "duration": 192,
    "start_time": "2022-08-12T14:01:54.999Z"
   },
   {
    "duration": 372,
    "start_time": "2022-08-12T14:01:55.194Z"
   },
   {
    "duration": 228,
    "start_time": "2022-08-12T14:01:55.568Z"
   },
   {
    "duration": 248,
    "start_time": "2022-08-12T14:01:55.798Z"
   },
   {
    "duration": 148,
    "start_time": "2022-08-12T14:01:56.048Z"
   },
   {
    "duration": 159,
    "start_time": "2022-08-12T14:01:56.198Z"
   },
   {
    "duration": 142,
    "start_time": "2022-08-12T14:01:56.359Z"
   },
   {
    "duration": 281,
    "start_time": "2022-08-12T14:01:56.502Z"
   },
   {
    "duration": 163,
    "start_time": "2022-08-12T14:01:56.789Z"
   },
   {
    "duration": 154,
    "start_time": "2022-08-12T14:01:56.953Z"
   },
   {
    "duration": 167,
    "start_time": "2022-08-12T14:01:57.109Z"
   },
   {
    "duration": 213,
    "start_time": "2022-08-12T14:01:57.278Z"
   },
   {
    "duration": 304,
    "start_time": "2022-08-12T14:01:57.492Z"
   },
   {
    "duration": 153,
    "start_time": "2022-08-12T14:01:57.798Z"
   },
   {
    "duration": 151,
    "start_time": "2022-08-12T14:01:57.953Z"
   },
   {
    "duration": 9,
    "start_time": "2022-08-12T14:01:58.106Z"
   },
   {
    "duration": 12,
    "start_time": "2022-08-12T14:01:58.117Z"
   },
   {
    "duration": 56,
    "start_time": "2022-08-12T17:59:41.048Z"
   },
   {
    "duration": 1511,
    "start_time": "2022-08-12T17:59:48.020Z"
   },
   {
    "duration": 232,
    "start_time": "2022-08-12T17:59:49.534Z"
   },
   {
    "duration": 17,
    "start_time": "2022-08-12T17:59:49.768Z"
   },
   {
    "duration": 54,
    "start_time": "2022-08-12T17:59:49.786Z"
   },
   {
    "duration": 918,
    "start_time": "2022-08-12T17:59:49.843Z"
   },
   {
    "duration": 5,
    "start_time": "2022-08-12T17:59:50.763Z"
   },
   {
    "duration": 39,
    "start_time": "2022-08-12T17:59:50.770Z"
   },
   {
    "duration": 6,
    "start_time": "2022-08-12T17:59:50.812Z"
   },
   {
    "duration": 20,
    "start_time": "2022-08-12T17:59:50.819Z"
   },
   {
    "duration": 18,
    "start_time": "2022-08-12T17:59:50.842Z"
   },
   {
    "duration": 107,
    "start_time": "2022-08-12T17:59:50.863Z"
   },
   {
    "duration": 9,
    "start_time": "2022-08-12T17:59:50.972Z"
   },
   {
    "duration": 35,
    "start_time": "2022-08-12T17:59:50.983Z"
   },
   {
    "duration": 22,
    "start_time": "2022-08-12T17:59:51.024Z"
   },
   {
    "duration": 6,
    "start_time": "2022-08-12T17:59:51.048Z"
   },
   {
    "duration": 30,
    "start_time": "2022-08-12T17:59:51.055Z"
   },
   {
    "duration": 34,
    "start_time": "2022-08-12T17:59:51.098Z"
   },
   {
    "duration": 239,
    "start_time": "2022-08-12T17:59:51.134Z"
   },
   {
    "duration": 366,
    "start_time": "2022-08-12T17:59:51.374Z"
   },
   {
    "duration": 422,
    "start_time": "2022-08-12T17:59:51.742Z"
   },
   {
    "duration": 8,
    "start_time": "2022-08-12T17:59:52.166Z"
   },
   {
    "duration": 286,
    "start_time": "2022-08-12T17:59:52.176Z"
   },
   {
    "duration": 466,
    "start_time": "2022-08-12T17:59:52.464Z"
   },
   {
    "duration": 985,
    "start_time": "2022-08-12T17:59:52.932Z"
   },
   {
    "duration": 261,
    "start_time": "2022-08-12T17:59:53.918Z"
   },
   {
    "duration": 14,
    "start_time": "2022-08-12T17:59:54.181Z"
   },
   {
    "duration": 241,
    "start_time": "2022-08-12T17:59:54.198Z"
   },
   {
    "duration": 5,
    "start_time": "2022-08-12T17:59:54.441Z"
   },
   {
    "duration": 267,
    "start_time": "2022-08-12T17:59:54.448Z"
   },
   {
    "duration": 6,
    "start_time": "2022-08-12T17:59:54.717Z"
   },
   {
    "duration": 264,
    "start_time": "2022-08-12T17:59:54.725Z"
   },
   {
    "duration": 10,
    "start_time": "2022-08-12T17:59:54.994Z"
   },
   {
    "duration": 261,
    "start_time": "2022-08-12T17:59:55.006Z"
   },
   {
    "duration": 337,
    "start_time": "2022-08-12T17:59:55.269Z"
   },
   {
    "duration": 255,
    "start_time": "2022-08-12T17:59:55.609Z"
   },
   {
    "duration": 340,
    "start_time": "2022-08-12T17:59:55.866Z"
   },
   {
    "duration": 171,
    "start_time": "2022-08-12T17:59:56.209Z"
   },
   {
    "duration": 199,
    "start_time": "2022-08-12T17:59:56.382Z"
   },
   {
    "duration": 175,
    "start_time": "2022-08-12T17:59:56.583Z"
   },
   {
    "duration": 338,
    "start_time": "2022-08-12T17:59:56.760Z"
   },
   {
    "duration": 217,
    "start_time": "2022-08-12T17:59:57.105Z"
   },
   {
    "duration": 173,
    "start_time": "2022-08-12T17:59:57.324Z"
   },
   {
    "duration": 168,
    "start_time": "2022-08-12T17:59:57.499Z"
   },
   {
    "duration": 262,
    "start_time": "2022-08-12T17:59:57.669Z"
   },
   {
    "duration": 340,
    "start_time": "2022-08-12T17:59:57.933Z"
   },
   {
    "duration": 202,
    "start_time": "2022-08-12T17:59:58.275Z"
   },
   {
    "duration": 185,
    "start_time": "2022-08-12T17:59:58.480Z"
   },
   {
    "duration": 27,
    "start_time": "2022-08-12T17:59:58.667Z"
   },
   {
    "duration": 43,
    "start_time": "2022-08-12T17:59:58.697Z"
   },
   {
    "duration": 16,
    "start_time": "2022-08-12T18:00:16.642Z"
   },
   {
    "duration": 9,
    "start_time": "2022-08-12T18:01:17.905Z"
   },
   {
    "duration": 12,
    "start_time": "2022-08-12T18:01:35.612Z"
   },
   {
    "duration": 150,
    "start_time": "2022-08-12T18:01:54.912Z"
   },
   {
    "duration": 7,
    "start_time": "2022-08-12T18:02:54.759Z"
   },
   {
    "duration": 16,
    "start_time": "2022-08-12T18:03:03.330Z"
   },
   {
    "duration": 16,
    "start_time": "2022-08-12T18:04:58.955Z"
   },
   {
    "duration": 7,
    "start_time": "2022-08-12T18:05:08.733Z"
   },
   {
    "duration": 7,
    "start_time": "2022-08-12T18:06:22.932Z"
   },
   {
    "duration": 42,
    "start_time": "2022-08-12T18:07:54.274Z"
   },
   {
    "duration": 8,
    "start_time": "2022-08-12T18:08:14.132Z"
   },
   {
    "duration": 9,
    "start_time": "2022-08-12T18:08:18.123Z"
   },
   {
    "duration": 20,
    "start_time": "2022-08-12T18:08:42.211Z"
   },
   {
    "duration": 14,
    "start_time": "2022-08-12T18:08:51.984Z"
   },
   {
    "duration": 14,
    "start_time": "2022-08-12T18:08:58.787Z"
   },
   {
    "duration": 7,
    "start_time": "2022-08-12T18:09:06.249Z"
   },
   {
    "duration": 16,
    "start_time": "2022-08-12T18:09:10.033Z"
   },
   {
    "duration": 29,
    "start_time": "2022-08-12T18:09:19.888Z"
   },
   {
    "duration": 9,
    "start_time": "2022-08-12T18:09:22.263Z"
   },
   {
    "duration": 25,
    "start_time": "2022-08-12T18:10:08.704Z"
   },
   {
    "duration": 4,
    "start_time": "2022-08-12T18:10:33.278Z"
   },
   {
    "duration": 36,
    "start_time": "2022-08-12T18:10:36.274Z"
   },
   {
    "duration": 40,
    "start_time": "2022-08-12T18:14:18.572Z"
   },
   {
    "duration": 25,
    "start_time": "2022-08-12T18:14:32.820Z"
   },
   {
    "duration": 27,
    "start_time": "2022-08-12T18:14:57.145Z"
   },
   {
    "duration": 5,
    "start_time": "2022-08-12T18:15:17.440Z"
   },
   {
    "duration": 43,
    "start_time": "2022-08-13T15:43:40.876Z"
   },
   {
    "duration": 6,
    "start_time": "2022-08-13T15:44:28.922Z"
   },
   {
    "duration": 1239,
    "start_time": "2022-08-13T15:44:36.501Z"
   },
   {
    "duration": 112,
    "start_time": "2022-08-13T15:44:37.743Z"
   },
   {
    "duration": 13,
    "start_time": "2022-08-13T15:44:37.856Z"
   },
   {
    "duration": 26,
    "start_time": "2022-08-13T15:44:37.871Z"
   },
   {
    "duration": 637,
    "start_time": "2022-08-13T15:44:37.898Z"
   },
   {
    "duration": 5,
    "start_time": "2022-08-13T15:44:38.537Z"
   },
   {
    "duration": 16,
    "start_time": "2022-08-13T15:44:38.543Z"
   },
   {
    "duration": 3,
    "start_time": "2022-08-13T15:44:38.561Z"
   },
   {
    "duration": 12,
    "start_time": "2022-08-13T15:44:38.565Z"
   },
   {
    "duration": 24,
    "start_time": "2022-08-13T15:44:38.580Z"
   },
   {
    "duration": 49,
    "start_time": "2022-08-13T15:44:38.606Z"
   },
   {
    "duration": 8,
    "start_time": "2022-08-13T15:44:38.656Z"
   },
   {
    "duration": 7,
    "start_time": "2022-08-13T15:44:38.665Z"
   },
   {
    "duration": 38,
    "start_time": "2022-08-13T15:44:38.673Z"
   },
   {
    "duration": 12,
    "start_time": "2022-08-13T15:44:38.713Z"
   },
   {
    "duration": 4,
    "start_time": "2022-08-13T15:44:38.727Z"
   },
   {
    "duration": 22,
    "start_time": "2022-08-13T15:44:38.733Z"
   },
   {
    "duration": 15,
    "start_time": "2022-08-13T15:44:38.757Z"
   },
   {
    "duration": 183,
    "start_time": "2022-08-13T15:44:38.774Z"
   },
   {
    "duration": 282,
    "start_time": "2022-08-13T15:44:38.959Z"
   },
   {
    "duration": 256,
    "start_time": "2022-08-13T15:44:39.242Z"
   },
   {
    "duration": 6,
    "start_time": "2022-08-13T15:44:39.500Z"
   },
   {
    "duration": 167,
    "start_time": "2022-08-13T15:44:39.508Z"
   },
   {
    "duration": 343,
    "start_time": "2022-08-13T15:44:39.676Z"
   },
   {
    "duration": 930,
    "start_time": "2022-08-13T15:44:40.022Z"
   },
   {
    "duration": 180,
    "start_time": "2022-08-13T15:44:40.953Z"
   },
   {
    "duration": 4,
    "start_time": "2022-08-13T15:44:41.135Z"
   },
   {
    "duration": 192,
    "start_time": "2022-08-13T15:44:41.142Z"
   },
   {
    "duration": 4,
    "start_time": "2022-08-13T15:44:41.336Z"
   },
   {
    "duration": 247,
    "start_time": "2022-08-13T15:44:41.342Z"
   },
   {
    "duration": 5,
    "start_time": "2022-08-13T15:44:41.590Z"
   },
   {
    "duration": 195,
    "start_time": "2022-08-13T15:44:41.600Z"
   },
   {
    "duration": 4,
    "start_time": "2022-08-13T15:44:41.800Z"
   },
   {
    "duration": 171,
    "start_time": "2022-08-13T15:44:41.805Z"
   },
   {
    "duration": 262,
    "start_time": "2022-08-13T15:44:41.978Z"
   },
   {
    "duration": 177,
    "start_time": "2022-08-13T15:44:42.242Z"
   },
   {
    "duration": 212,
    "start_time": "2022-08-13T15:44:42.421Z"
   },
   {
    "duration": 131,
    "start_time": "2022-08-13T15:44:42.635Z"
   },
   {
    "duration": 143,
    "start_time": "2022-08-13T15:44:42.767Z"
   },
   {
    "duration": 143,
    "start_time": "2022-08-13T15:44:42.912Z"
   },
   {
    "duration": 236,
    "start_time": "2022-08-13T15:44:43.057Z"
   },
   {
    "duration": 144,
    "start_time": "2022-08-13T15:44:43.295Z"
   },
   {
    "duration": 134,
    "start_time": "2022-08-13T15:44:43.442Z"
   },
   {
    "duration": 134,
    "start_time": "2022-08-13T15:44:43.578Z"
   },
   {
    "duration": 174,
    "start_time": "2022-08-13T15:44:43.714Z"
   },
   {
    "duration": 251,
    "start_time": "2022-08-13T15:44:43.890Z"
   },
   {
    "duration": 129,
    "start_time": "2022-08-13T15:44:44.143Z"
   },
   {
    "duration": 141,
    "start_time": "2022-08-13T15:44:44.274Z"
   },
   {
    "duration": 9,
    "start_time": "2022-08-13T15:44:44.417Z"
   },
   {
    "duration": 11,
    "start_time": "2022-08-13T15:44:44.427Z"
   },
   {
    "duration": 4,
    "start_time": "2022-08-13T15:45:25.694Z"
   },
   {
    "duration": 15,
    "start_time": "2022-08-13T15:45:29.521Z"
   },
   {
    "duration": 22,
    "start_time": "2022-08-13T15:53:19.690Z"
   },
   {
    "duration": 22,
    "start_time": "2022-08-13T15:53:25.563Z"
   },
   {
    "duration": 23,
    "start_time": "2022-08-13T15:53:30.109Z"
   },
   {
    "duration": 22,
    "start_time": "2022-08-13T15:53:42.175Z"
   },
   {
    "duration": 23,
    "start_time": "2022-08-13T15:53:51.862Z"
   },
   {
    "duration": 23,
    "start_time": "2022-08-13T15:53:55.060Z"
   },
   {
    "duration": 5,
    "start_time": "2022-08-13T15:54:17.782Z"
   },
   {
    "duration": 8,
    "start_time": "2022-08-13T15:54:41.527Z"
   },
   {
    "duration": 25,
    "start_time": "2022-08-13T15:56:20.302Z"
   },
   {
    "duration": 21,
    "start_time": "2022-08-13T15:56:24.955Z"
   },
   {
    "duration": 26,
    "start_time": "2022-08-13T15:56:56.678Z"
   },
   {
    "duration": 6,
    "start_time": "2022-08-13T15:58:32.558Z"
   },
   {
    "duration": 970,
    "start_time": "2022-08-13T16:02:12.256Z"
   },
   {
    "duration": 66,
    "start_time": "2022-08-13T16:02:13.227Z"
   },
   {
    "duration": 15,
    "start_time": "2022-08-13T16:02:13.295Z"
   },
   {
    "duration": 38,
    "start_time": "2022-08-13T16:02:13.313Z"
   },
   {
    "duration": 610,
    "start_time": "2022-08-13T16:02:13.353Z"
   },
   {
    "duration": 4,
    "start_time": "2022-08-13T16:02:13.965Z"
   },
   {
    "duration": 33,
    "start_time": "2022-08-13T16:02:13.970Z"
   },
   {
    "duration": 17,
    "start_time": "2022-08-13T16:02:14.005Z"
   },
   {
    "duration": 17,
    "start_time": "2022-08-13T16:02:14.023Z"
   },
   {
    "duration": 37,
    "start_time": "2022-08-13T16:02:14.042Z"
   },
   {
    "duration": 59,
    "start_time": "2022-08-13T16:02:14.080Z"
   },
   {
    "duration": 7,
    "start_time": "2022-08-13T16:02:14.140Z"
   },
   {
    "duration": 18,
    "start_time": "2022-08-13T16:02:14.148Z"
   },
   {
    "duration": 34,
    "start_time": "2022-08-13T16:02:14.167Z"
   },
   {
    "duration": 21,
    "start_time": "2022-08-13T16:02:14.202Z"
   },
   {
    "duration": 22,
    "start_time": "2022-08-13T16:02:14.224Z"
   },
   {
    "duration": 34,
    "start_time": "2022-08-13T16:02:14.248Z"
   },
   {
    "duration": 31,
    "start_time": "2022-08-13T16:02:14.283Z"
   },
   {
    "duration": 167,
    "start_time": "2022-08-13T16:02:14.315Z"
   },
   {
    "duration": 238,
    "start_time": "2022-08-13T16:02:14.483Z"
   },
   {
    "duration": 264,
    "start_time": "2022-08-13T16:02:14.722Z"
   },
   {
    "duration": 7,
    "start_time": "2022-08-13T16:02:14.988Z"
   },
   {
    "duration": 183,
    "start_time": "2022-08-13T16:02:14.996Z"
   },
   {
    "duration": 323,
    "start_time": "2022-08-13T16:02:15.180Z"
   },
   {
    "duration": 824,
    "start_time": "2022-08-13T16:02:15.504Z"
   },
   {
    "duration": 174,
    "start_time": "2022-08-13T16:02:16.330Z"
   },
   {
    "duration": 4,
    "start_time": "2022-08-13T16:02:16.506Z"
   },
   {
    "duration": 199,
    "start_time": "2022-08-13T16:02:16.513Z"
   },
   {
    "duration": 4,
    "start_time": "2022-08-13T16:02:16.714Z"
   },
   {
    "duration": 175,
    "start_time": "2022-08-13T16:02:16.719Z"
   },
   {
    "duration": 7,
    "start_time": "2022-08-13T16:02:16.895Z"
   },
   {
    "duration": 189,
    "start_time": "2022-08-13T16:02:16.903Z"
   },
   {
    "duration": 8,
    "start_time": "2022-08-13T16:02:17.093Z"
   },
   {
    "duration": 145,
    "start_time": "2022-08-13T16:02:17.103Z"
   },
   {
    "duration": 264,
    "start_time": "2022-08-13T16:02:17.250Z"
   },
   {
    "duration": 164,
    "start_time": "2022-08-13T16:02:17.515Z"
   },
   {
    "duration": 193,
    "start_time": "2022-08-13T16:02:17.680Z"
   },
   {
    "duration": 125,
    "start_time": "2022-08-13T16:02:17.875Z"
   },
   {
    "duration": 121,
    "start_time": "2022-08-13T16:02:18.001Z"
   },
   {
    "duration": 127,
    "start_time": "2022-08-13T16:02:18.123Z"
   },
   {
    "duration": 247,
    "start_time": "2022-08-13T16:02:18.251Z"
   },
   {
    "duration": 150,
    "start_time": "2022-08-13T16:02:18.500Z"
   },
   {
    "duration": 132,
    "start_time": "2022-08-13T16:02:18.651Z"
   },
   {
    "duration": 127,
    "start_time": "2022-08-13T16:02:18.784Z"
   },
   {
    "duration": 167,
    "start_time": "2022-08-13T16:02:18.913Z"
   },
   {
    "duration": 230,
    "start_time": "2022-08-13T16:02:19.082Z"
   },
   {
    "duration": 123,
    "start_time": "2022-08-13T16:02:19.313Z"
   },
   {
    "duration": 134,
    "start_time": "2022-08-13T16:02:19.437Z"
   },
   {
    "duration": 9,
    "start_time": "2022-08-13T16:02:19.573Z"
   },
   {
    "duration": 21,
    "start_time": "2022-08-13T16:02:19.583Z"
   },
   {
    "duration": 306,
    "start_time": "2022-08-13T16:12:56.431Z"
   },
   {
    "duration": 268,
    "start_time": "2022-08-13T16:13:12.582Z"
   },
   {
    "duration": 250,
    "start_time": "2022-08-13T16:13:19.290Z"
   },
   {
    "duration": 270,
    "start_time": "2022-08-13T16:13:28.142Z"
   },
   {
    "duration": 248,
    "start_time": "2022-08-13T16:13:35.659Z"
   },
   {
    "duration": 241,
    "start_time": "2022-08-13T16:13:40.937Z"
   },
   {
    "duration": 260,
    "start_time": "2022-08-13T16:13:54.855Z"
   },
   {
    "duration": 257,
    "start_time": "2022-08-13T16:14:10.446Z"
   },
   {
    "duration": 358,
    "start_time": "2022-08-13T16:14:24.534Z"
   },
   {
    "duration": 243,
    "start_time": "2022-08-13T16:14:42.410Z"
   },
   {
    "duration": 251,
    "start_time": "2022-08-13T16:14:49.039Z"
   },
   {
    "duration": 283,
    "start_time": "2022-08-13T16:14:55.246Z"
   },
   {
    "duration": 241,
    "start_time": "2022-08-13T16:15:05.291Z"
   },
   {
    "duration": 237,
    "start_time": "2022-08-13T16:15:08.637Z"
   },
   {
    "duration": 248,
    "start_time": "2022-08-13T16:15:19.629Z"
   },
   {
    "duration": 253,
    "start_time": "2022-08-13T16:16:05.500Z"
   },
   {
    "duration": 284,
    "start_time": "2022-08-13T16:16:10.555Z"
   },
   {
    "duration": 268,
    "start_time": "2022-08-13T16:19:44.826Z"
   },
   {
    "duration": 251,
    "start_time": "2022-08-13T16:20:00.552Z"
   },
   {
    "duration": 353,
    "start_time": "2022-08-13T16:20:06.103Z"
   },
   {
    "duration": 746,
    "start_time": "2022-08-13T16:24:33.967Z"
   },
   {
    "duration": 750,
    "start_time": "2022-08-13T16:59:27.299Z"
   },
   {
    "duration": 788,
    "start_time": "2022-08-13T17:00:56.000Z"
   },
   {
    "duration": 1126,
    "start_time": "2022-08-13T17:02:55.530Z"
   },
   {
    "duration": 1490,
    "start_time": "2022-08-13T17:03:14.188Z"
   },
   {
    "duration": 1452,
    "start_time": "2022-08-13T17:03:25.085Z"
   },
   {
    "duration": 1140,
    "start_time": "2022-08-13T17:03:34.415Z"
   },
   {
    "duration": 1408,
    "start_time": "2022-08-13T17:03:41.279Z"
   },
   {
    "duration": 1344,
    "start_time": "2022-08-13T17:04:33.347Z"
   },
   {
    "duration": 1168,
    "start_time": "2022-08-13T17:04:44.544Z"
   },
   {
    "duration": 1458,
    "start_time": "2022-08-13T17:05:00.691Z"
   },
   {
    "duration": 1192,
    "start_time": "2022-08-13T17:05:14.640Z"
   },
   {
    "duration": 1303,
    "start_time": "2022-08-13T17:05:20.718Z"
   },
   {
    "duration": 1420,
    "start_time": "2022-08-13T17:05:30.627Z"
   },
   {
    "duration": 1295,
    "start_time": "2022-08-13T17:05:49.405Z"
   },
   {
    "duration": 1195,
    "start_time": "2022-08-13T17:07:09.482Z"
   },
   {
    "duration": 1430,
    "start_time": "2022-08-13T17:08:37.883Z"
   },
   {
    "duration": 1516,
    "start_time": "2022-08-13T17:09:31.147Z"
   },
   {
    "duration": 58,
    "start_time": "2022-08-14T13:20:28.758Z"
   },
   {
    "duration": 272,
    "start_time": "2022-08-14T13:48:15.173Z"
   },
   {
    "duration": 6,
    "start_time": "2022-08-14T13:48:15.446Z"
   },
   {
    "duration": 167,
    "start_time": "2022-08-14T13:48:15.453Z"
   },
   {
    "duration": 283,
    "start_time": "2022-08-14T13:48:15.622Z"
   },
   {
    "duration": 1756,
    "start_time": "2022-08-14T13:48:15.907Z"
   },
   {
    "duration": 208,
    "start_time": "2022-08-14T13:48:17.665Z"
   },
   {
    "duration": 4,
    "start_time": "2022-08-14T13:48:17.875Z"
   },
   {
    "duration": 232,
    "start_time": "2022-08-14T13:48:17.886Z"
   },
   {
    "duration": 4,
    "start_time": "2022-08-14T13:48:18.119Z"
   },
   {
    "duration": 205,
    "start_time": "2022-08-14T13:48:18.124Z"
   },
   {
    "duration": 5,
    "start_time": "2022-08-14T13:48:18.331Z"
   },
   {
    "duration": 214,
    "start_time": "2022-08-14T13:48:18.337Z"
   },
   {
    "duration": 4,
    "start_time": "2022-08-14T13:48:18.553Z"
   },
   {
    "duration": 173,
    "start_time": "2022-08-14T13:48:18.558Z"
   },
   {
    "duration": 196,
    "start_time": "2022-08-14T13:48:18.733Z"
   },
   {
    "duration": 198,
    "start_time": "2022-08-14T13:48:18.930Z"
   },
   {
    "duration": 227,
    "start_time": "2022-08-14T13:48:19.130Z"
   },
   {
    "duration": 252,
    "start_time": "2022-08-14T13:48:19.359Z"
   },
   {
    "duration": 142,
    "start_time": "2022-08-14T13:48:19.613Z"
   },
   {
    "duration": 124,
    "start_time": "2022-08-14T13:48:19.757Z"
   },
   {
    "duration": 270,
    "start_time": "2022-08-14T13:48:19.883Z"
   },
   {
    "duration": 150,
    "start_time": "2022-08-14T13:48:20.154Z"
   },
   {
    "duration": 136,
    "start_time": "2022-08-14T13:48:20.306Z"
   },
   {
    "duration": 135,
    "start_time": "2022-08-14T13:48:20.444Z"
   },
   {
    "duration": 181,
    "start_time": "2022-08-14T13:48:20.587Z"
   },
   {
    "duration": 141,
    "start_time": "2022-08-14T13:48:20.769Z"
   },
   {
    "duration": 139,
    "start_time": "2022-08-14T13:48:20.911Z"
   },
   {
    "duration": 137,
    "start_time": "2022-08-14T13:48:21.052Z"
   },
   {
    "duration": 9,
    "start_time": "2022-08-14T13:48:21.191Z"
   },
   {
    "duration": 18,
    "start_time": "2022-08-14T13:48:21.202Z"
   },
   {
    "duration": 1117,
    "start_time": "2022-08-14T13:48:41.813Z"
   },
   {
    "duration": 75,
    "start_time": "2022-08-14T13:48:42.932Z"
   },
   {
    "duration": 14,
    "start_time": "2022-08-14T13:48:43.008Z"
   },
   {
    "duration": 27,
    "start_time": "2022-08-14T13:48:43.023Z"
   },
   {
    "duration": 728,
    "start_time": "2022-08-14T13:48:43.051Z"
   },
   {
    "duration": 7,
    "start_time": "2022-08-14T13:48:43.792Z"
   },
   {
    "duration": 26,
    "start_time": "2022-08-14T13:48:43.802Z"
   },
   {
    "duration": 13,
    "start_time": "2022-08-14T13:48:43.829Z"
   },
   {
    "duration": 12,
    "start_time": "2022-08-14T13:48:43.843Z"
   },
   {
    "duration": 12,
    "start_time": "2022-08-14T13:48:43.858Z"
   },
   {
    "duration": 57,
    "start_time": "2022-08-14T13:48:43.872Z"
   },
   {
    "duration": 8,
    "start_time": "2022-08-14T13:48:43.931Z"
   },
   {
    "duration": 12,
    "start_time": "2022-08-14T13:48:43.940Z"
   },
   {
    "duration": 25,
    "start_time": "2022-08-14T13:48:43.953Z"
   },
   {
    "duration": 21,
    "start_time": "2022-08-14T13:48:43.980Z"
   },
   {
    "duration": 7,
    "start_time": "2022-08-14T13:48:44.003Z"
   },
   {
    "duration": 22,
    "start_time": "2022-08-14T13:48:44.012Z"
   },
   {
    "duration": 25,
    "start_time": "2022-08-14T13:48:44.036Z"
   },
   {
    "duration": 179,
    "start_time": "2022-08-14T13:48:44.063Z"
   },
   {
    "duration": 282,
    "start_time": "2022-08-14T13:48:44.244Z"
   },
   {
    "duration": 299,
    "start_time": "2022-08-14T13:48:44.527Z"
   },
   {
    "duration": 6,
    "start_time": "2022-08-14T13:48:44.828Z"
   },
   {
    "duration": 176,
    "start_time": "2022-08-14T13:48:44.835Z"
   },
   {
    "duration": 391,
    "start_time": "2022-08-14T13:48:45.013Z"
   },
   {
    "duration": 1550,
    "start_time": "2022-08-14T13:48:45.407Z"
   },
   {
    "duration": 219,
    "start_time": "2022-08-14T13:48:46.959Z"
   },
   {
    "duration": 21,
    "start_time": "2022-08-14T13:48:47.180Z"
   },
   {
    "duration": 203,
    "start_time": "2022-08-14T13:48:47.204Z"
   },
   {
    "duration": 3,
    "start_time": "2022-08-14T13:48:47.409Z"
   },
   {
    "duration": 297,
    "start_time": "2022-08-14T13:48:47.414Z"
   },
   {
    "duration": 3,
    "start_time": "2022-08-14T13:48:47.713Z"
   },
   {
    "duration": 205,
    "start_time": "2022-08-14T13:48:47.718Z"
   },
   {
    "duration": 4,
    "start_time": "2022-08-14T13:48:47.925Z"
   },
   {
    "duration": 180,
    "start_time": "2022-08-14T13:48:47.931Z"
   },
   {
    "duration": 204,
    "start_time": "2022-08-14T13:48:48.112Z"
   },
   {
    "duration": 196,
    "start_time": "2022-08-14T13:48:48.319Z"
   },
   {
    "duration": 228,
    "start_time": "2022-08-14T13:48:48.516Z"
   },
   {
    "duration": 154,
    "start_time": "2022-08-14T13:48:48.746Z"
   },
   {
    "duration": 135,
    "start_time": "2022-08-14T13:48:48.901Z"
   },
   {
    "duration": 129,
    "start_time": "2022-08-14T13:48:49.038Z"
   },
   {
    "duration": 265,
    "start_time": "2022-08-14T13:48:49.169Z"
   },
   {
    "duration": 168,
    "start_time": "2022-08-14T13:48:49.436Z"
   },
   {
    "duration": 249,
    "start_time": "2022-08-14T13:48:49.606Z"
   },
   {
    "duration": 143,
    "start_time": "2022-08-14T13:48:49.857Z"
   },
   {
    "duration": 177,
    "start_time": "2022-08-14T13:48:50.002Z"
   },
   {
    "duration": 126,
    "start_time": "2022-08-14T13:48:50.197Z"
   },
   {
    "duration": 130,
    "start_time": "2022-08-14T13:48:50.325Z"
   },
   {
    "duration": 141,
    "start_time": "2022-08-14T13:48:50.456Z"
   },
   {
    "duration": 10,
    "start_time": "2022-08-14T13:48:50.599Z"
   },
   {
    "duration": 13,
    "start_time": "2022-08-14T13:48:50.610Z"
   },
   {
    "duration": 214,
    "start_time": "2022-08-14T13:49:15.299Z"
   },
   {
    "duration": 2818,
    "start_time": "2022-08-14T14:20:44.725Z"
   },
   {
    "duration": 131,
    "start_time": "2022-08-14T14:21:08.466Z"
   },
   {
    "duration": 238,
    "start_time": "2022-08-14T14:21:58.786Z"
   },
   {
    "duration": 303,
    "start_time": "2022-08-14T14:22:22.175Z"
   },
   {
    "duration": 257,
    "start_time": "2022-08-14T14:22:38.185Z"
   },
   {
    "duration": 280,
    "start_time": "2022-08-14T14:22:49.035Z"
   },
   {
    "duration": 251,
    "start_time": "2022-08-14T14:23:33.730Z"
   },
   {
    "duration": 425,
    "start_time": "2022-08-14T14:24:41.886Z"
   },
   {
    "duration": 291,
    "start_time": "2022-08-14T14:25:01.979Z"
   },
   {
    "duration": 280,
    "start_time": "2022-08-14T14:25:21.123Z"
   },
   {
    "duration": 270,
    "start_time": "2022-08-14T14:25:30.657Z"
   },
   {
    "duration": 273,
    "start_time": "2022-08-14T14:26:32.988Z"
   },
   {
    "duration": 323,
    "start_time": "2022-08-14T14:26:38.529Z"
   },
   {
    "duration": 289,
    "start_time": "2022-08-14T14:26:48.724Z"
   },
   {
    "duration": 356,
    "start_time": "2022-08-14T14:31:30.458Z"
   },
   {
    "duration": 343,
    "start_time": "2022-08-14T14:31:33.934Z"
   },
   {
    "duration": 398,
    "start_time": "2022-08-14T14:31:57.474Z"
   },
   {
    "duration": 531,
    "start_time": "2022-08-14T14:34:52.896Z"
   },
   {
    "duration": 1117,
    "start_time": "2022-08-14T16:55:47.319Z"
   },
   {
    "duration": 81,
    "start_time": "2022-08-14T16:55:48.439Z"
   },
   {
    "duration": 17,
    "start_time": "2022-08-14T16:55:48.522Z"
   },
   {
    "duration": 48,
    "start_time": "2022-08-14T16:55:48.541Z"
   },
   {
    "duration": 844,
    "start_time": "2022-08-14T16:55:48.592Z"
   },
   {
    "duration": 6,
    "start_time": "2022-08-14T16:55:49.440Z"
   },
   {
    "duration": 48,
    "start_time": "2022-08-14T16:55:49.448Z"
   },
   {
    "duration": 6,
    "start_time": "2022-08-14T16:55:49.499Z"
   },
   {
    "duration": 15,
    "start_time": "2022-08-14T16:55:49.507Z"
   },
   {
    "duration": 20,
    "start_time": "2022-08-14T16:55:49.525Z"
   },
   {
    "duration": 80,
    "start_time": "2022-08-14T16:55:49.547Z"
   },
   {
    "duration": 10,
    "start_time": "2022-08-14T16:55:49.629Z"
   },
   {
    "duration": 24,
    "start_time": "2022-08-14T16:55:49.641Z"
   },
   {
    "duration": 29,
    "start_time": "2022-08-14T16:55:49.668Z"
   },
   {
    "duration": 20,
    "start_time": "2022-08-14T16:55:49.700Z"
   },
   {
    "duration": 11,
    "start_time": "2022-08-14T16:55:49.722Z"
   },
   {
    "duration": 40,
    "start_time": "2022-08-14T16:55:49.735Z"
   },
   {
    "duration": 17,
    "start_time": "2022-08-14T16:55:49.777Z"
   },
   {
    "duration": 185,
    "start_time": "2022-08-14T16:55:49.796Z"
   },
   {
    "duration": 320,
    "start_time": "2022-08-14T16:55:49.982Z"
   },
   {
    "duration": 350,
    "start_time": "2022-08-14T16:55:50.304Z"
   },
   {
    "duration": 7,
    "start_time": "2022-08-14T16:55:50.657Z"
   },
   {
    "duration": 174,
    "start_time": "2022-08-14T16:55:50.666Z"
   },
   {
    "duration": 375,
    "start_time": "2022-08-14T16:55:50.842Z"
   },
   {
    "duration": 354,
    "start_time": "2022-08-14T16:55:51.219Z"
   },
   {
    "duration": 340,
    "start_time": "2022-08-14T16:55:51.576Z"
   },
   {
    "duration": 266,
    "start_time": "2022-08-14T16:55:51.918Z"
   },
   {
    "duration": 5,
    "start_time": "2022-08-14T16:55:52.189Z"
   },
   {
    "duration": 283,
    "start_time": "2022-08-14T16:55:52.197Z"
   },
   {
    "duration": 5,
    "start_time": "2022-08-14T16:55:52.487Z"
   },
   {
    "duration": 219,
    "start_time": "2022-08-14T16:55:52.494Z"
   },
   {
    "duration": 5,
    "start_time": "2022-08-14T16:55:52.715Z"
   },
   {
    "duration": 234,
    "start_time": "2022-08-14T16:55:52.722Z"
   },
   {
    "duration": 6,
    "start_time": "2022-08-14T16:55:52.958Z"
   },
   {
    "duration": 190,
    "start_time": "2022-08-14T16:55:52.966Z"
   },
   {
    "duration": 216,
    "start_time": "2022-08-14T16:55:53.160Z"
   },
   {
    "duration": 502,
    "start_time": "2022-08-14T16:55:53.378Z"
   },
   {
    "duration": 421,
    "start_time": "2022-08-14T16:55:53.882Z"
   },
   {
    "duration": 237,
    "start_time": "2022-08-14T16:55:54.305Z"
   },
   {
    "duration": 146,
    "start_time": "2022-08-14T16:55:54.543Z"
   },
   {
    "duration": 169,
    "start_time": "2022-08-14T16:55:54.691Z"
   },
   {
    "duration": 178,
    "start_time": "2022-08-14T16:55:54.862Z"
   },
   {
    "duration": 326,
    "start_time": "2022-08-14T16:55:55.043Z"
   },
   {
    "duration": 164,
    "start_time": "2022-08-14T16:55:55.372Z"
   },
   {
    "duration": 172,
    "start_time": "2022-08-14T16:55:55.538Z"
   },
   {
    "duration": 281,
    "start_time": "2022-08-14T16:55:55.712Z"
   },
   {
    "duration": 216,
    "start_time": "2022-08-14T16:55:55.995Z"
   },
   {
    "duration": 207,
    "start_time": "2022-08-14T16:55:56.216Z"
   },
   {
    "duration": 175,
    "start_time": "2022-08-14T16:55:56.425Z"
   },
   {
    "duration": 166,
    "start_time": "2022-08-14T16:55:56.602Z"
   },
   {
    "duration": 18,
    "start_time": "2022-08-14T16:55:56.770Z"
   },
   {
    "duration": 17,
    "start_time": "2022-08-14T16:55:56.790Z"
   },
   {
    "duration": 177,
    "start_time": "2022-08-14T17:36:58.742Z"
   },
   {
    "duration": 379,
    "start_time": "2022-08-14T18:21:26.555Z"
   },
   {
    "duration": 264,
    "start_time": "2022-08-14T18:21:37.821Z"
   },
   {
    "duration": 377,
    "start_time": "2022-08-14T18:21:44.132Z"
   },
   {
    "duration": 406,
    "start_time": "2022-08-14T18:22:40.923Z"
   },
   {
    "duration": 254,
    "start_time": "2022-08-14T18:23:17.320Z"
   },
   {
    "duration": 370,
    "start_time": "2022-08-14T18:23:28.283Z"
   },
   {
    "duration": 305,
    "start_time": "2022-08-14T18:25:35.717Z"
   },
   {
    "duration": 147,
    "start_time": "2022-08-14T18:27:07.574Z"
   },
   {
    "duration": 369,
    "start_time": "2022-08-14T18:27:14.383Z"
   },
   {
    "duration": 201,
    "start_time": "2022-08-14T18:29:13.970Z"
   },
   {
    "duration": 167,
    "start_time": "2022-08-14T18:29:26.572Z"
   },
   {
    "duration": 97,
    "start_time": "2022-08-14T18:29:37.780Z"
   },
   {
    "duration": 17,
    "start_time": "2022-08-14T18:30:23.514Z"
   },
   {
    "duration": 117,
    "start_time": "2022-08-14T18:30:48.260Z"
   },
   {
    "duration": 18,
    "start_time": "2022-08-14T18:31:41.019Z"
   },
   {
    "duration": 16,
    "start_time": "2022-08-14T18:32:00.109Z"
   },
   {
    "duration": 46,
    "start_time": "2022-08-14T18:34:03.009Z"
   },
   {
    "duration": 131,
    "start_time": "2022-08-14T18:34:17.975Z"
   },
   {
    "duration": 63,
    "start_time": "2022-08-14T18:34:31.157Z"
   },
   {
    "duration": 119,
    "start_time": "2022-08-14T18:34:37.010Z"
   },
   {
    "duration": 101,
    "start_time": "2022-08-14T18:35:56.917Z"
   },
   {
    "duration": 126,
    "start_time": "2022-08-14T18:36:09.973Z"
   },
   {
    "duration": 98,
    "start_time": "2022-08-14T18:36:30.411Z"
   },
   {
    "duration": 291,
    "start_time": "2022-08-14T18:37:13.753Z"
   },
   {
    "duration": 308,
    "start_time": "2022-08-14T18:37:44.632Z"
   },
   {
    "duration": 449,
    "start_time": "2022-08-14T18:37:51.816Z"
   },
   {
    "duration": 1157,
    "start_time": "2022-08-14T18:46:28.249Z"
   },
   {
    "duration": 73,
    "start_time": "2022-08-14T18:46:29.408Z"
   },
   {
    "duration": 15,
    "start_time": "2022-08-14T18:46:29.482Z"
   },
   {
    "duration": 28,
    "start_time": "2022-08-14T18:46:29.499Z"
   },
   {
    "duration": 731,
    "start_time": "2022-08-14T18:46:29.528Z"
   },
   {
    "duration": 4,
    "start_time": "2022-08-14T18:46:30.261Z"
   },
   {
    "duration": 32,
    "start_time": "2022-08-14T18:46:30.267Z"
   },
   {
    "duration": 46,
    "start_time": "2022-08-14T18:46:30.301Z"
   },
   {
    "duration": 26,
    "start_time": "2022-08-14T18:46:30.349Z"
   },
   {
    "duration": 26,
    "start_time": "2022-08-14T18:46:30.378Z"
   },
   {
    "duration": 55,
    "start_time": "2022-08-14T18:46:30.406Z"
   },
   {
    "duration": 9,
    "start_time": "2022-08-14T18:46:30.462Z"
   },
   {
    "duration": 14,
    "start_time": "2022-08-14T18:46:30.473Z"
   },
   {
    "duration": 23,
    "start_time": "2022-08-14T18:46:30.489Z"
   },
   {
    "duration": 15,
    "start_time": "2022-08-14T18:46:30.514Z"
   },
   {
    "duration": 4,
    "start_time": "2022-08-14T18:46:30.531Z"
   },
   {
    "duration": 37,
    "start_time": "2022-08-14T18:46:30.537Z"
   },
   {
    "duration": 17,
    "start_time": "2022-08-14T18:46:30.576Z"
   },
   {
    "duration": 193,
    "start_time": "2022-08-14T18:46:30.594Z"
   },
   {
    "duration": 298,
    "start_time": "2022-08-14T18:46:30.789Z"
   },
   {
    "duration": 293,
    "start_time": "2022-08-14T18:46:31.089Z"
   },
   {
    "duration": 7,
    "start_time": "2022-08-14T18:46:31.384Z"
   },
   {
    "duration": 171,
    "start_time": "2022-08-14T18:46:31.392Z"
   },
   {
    "duration": 389,
    "start_time": "2022-08-14T18:46:31.565Z"
   },
   {
    "duration": 352,
    "start_time": "2022-08-14T18:46:31.956Z"
   },
   {
    "duration": 293,
    "start_time": "2022-08-14T18:46:32.310Z"
   },
   {
    "duration": 222,
    "start_time": "2022-08-14T18:46:32.604Z"
   },
   {
    "duration": 5,
    "start_time": "2022-08-14T18:46:32.829Z"
   },
   {
    "duration": 223,
    "start_time": "2022-08-14T18:46:32.836Z"
   },
   {
    "duration": 4,
    "start_time": "2022-08-14T18:46:33.061Z"
   },
   {
    "duration": 209,
    "start_time": "2022-08-14T18:46:33.067Z"
   },
   {
    "duration": 8,
    "start_time": "2022-08-14T18:46:33.280Z"
   },
   {
    "duration": 265,
    "start_time": "2022-08-14T18:46:33.290Z"
   },
   {
    "duration": 7,
    "start_time": "2022-08-14T18:46:33.557Z"
   },
   {
    "duration": 256,
    "start_time": "2022-08-14T18:46:33.567Z"
   },
   {
    "duration": 216,
    "start_time": "2022-08-14T18:46:33.825Z"
   },
   {
    "duration": 443,
    "start_time": "2022-08-14T18:46:34.044Z"
   },
   {
    "duration": 385,
    "start_time": "2022-08-14T18:46:34.489Z"
   },
   {
    "duration": 259,
    "start_time": "2022-08-14T18:46:34.875Z"
   },
   {
    "duration": 147,
    "start_time": "2022-08-14T18:46:35.136Z"
   },
   {
    "duration": 144,
    "start_time": "2022-08-14T18:46:35.287Z"
   },
   {
    "duration": 140,
    "start_time": "2022-08-14T18:46:35.433Z"
   },
   {
    "duration": 257,
    "start_time": "2022-08-14T18:46:35.575Z"
   },
   {
    "duration": 155,
    "start_time": "2022-08-14T18:46:35.834Z"
   },
   {
    "duration": 175,
    "start_time": "2022-08-14T18:46:35.991Z"
   },
   {
    "duration": 291,
    "start_time": "2022-08-14T18:46:36.169Z"
   },
   {
    "duration": 239,
    "start_time": "2022-08-14T18:46:36.462Z"
   },
   {
    "duration": 201,
    "start_time": "2022-08-14T18:46:36.703Z"
   },
   {
    "duration": 169,
    "start_time": "2022-08-14T18:46:36.906Z"
   },
   {
    "duration": 158,
    "start_time": "2022-08-14T18:46:37.077Z"
   },
   {
    "duration": 16,
    "start_time": "2022-08-14T18:46:37.238Z"
   },
   {
    "duration": 13,
    "start_time": "2022-08-14T18:46:37.256Z"
   },
   {
    "duration": 1030,
    "start_time": "2022-08-15T12:04:04.155Z"
   },
   {
    "duration": 78,
    "start_time": "2022-08-15T12:04:05.187Z"
   },
   {
    "duration": 13,
    "start_time": "2022-08-15T12:04:05.267Z"
   },
   {
    "duration": 24,
    "start_time": "2022-08-15T12:04:05.282Z"
   },
   {
    "duration": 644,
    "start_time": "2022-08-15T12:04:05.313Z"
   },
   {
    "duration": 4,
    "start_time": "2022-08-15T12:04:05.958Z"
   },
   {
    "duration": 14,
    "start_time": "2022-08-15T12:04:05.964Z"
   },
   {
    "duration": 3,
    "start_time": "2022-08-15T12:04:05.979Z"
   },
   {
    "duration": 10,
    "start_time": "2022-08-15T12:04:05.983Z"
   },
   {
    "duration": 26,
    "start_time": "2022-08-15T12:04:05.995Z"
   },
   {
    "duration": 52,
    "start_time": "2022-08-15T12:04:06.025Z"
   },
   {
    "duration": 7,
    "start_time": "2022-08-15T12:04:06.079Z"
   },
   {
    "duration": 4,
    "start_time": "2022-08-15T12:04:06.088Z"
   },
   {
    "duration": 37,
    "start_time": "2022-08-15T12:04:06.094Z"
   },
   {
    "duration": 11,
    "start_time": "2022-08-15T12:04:06.132Z"
   },
   {
    "duration": 4,
    "start_time": "2022-08-15T12:04:06.144Z"
   },
   {
    "duration": 20,
    "start_time": "2022-08-15T12:04:06.150Z"
   },
   {
    "duration": 14,
    "start_time": "2022-08-15T12:04:06.171Z"
   },
   {
    "duration": 181,
    "start_time": "2022-08-15T12:04:06.186Z"
   },
   {
    "duration": 458,
    "start_time": "2022-08-15T12:04:06.368Z"
   },
   {
    "duration": 510,
    "start_time": "2022-08-15T12:04:06.828Z"
   },
   {
    "duration": 5,
    "start_time": "2022-08-15T12:04:07.340Z"
   },
   {
    "duration": 209,
    "start_time": "2022-08-15T12:04:07.347Z"
   },
   {
    "duration": 685,
    "start_time": "2022-08-15T12:04:07.558Z"
   },
   {
    "duration": 594,
    "start_time": "2022-08-15T12:04:08.245Z"
   },
   {
    "duration": 614,
    "start_time": "2022-08-15T12:04:08.841Z"
   },
   {
    "duration": 484,
    "start_time": "2022-08-15T12:04:09.457Z"
   },
   {
    "duration": 4,
    "start_time": "2022-08-15T12:04:09.942Z"
   },
   {
    "duration": 408,
    "start_time": "2022-08-15T12:04:09.947Z"
   },
   {
    "duration": 68,
    "start_time": "2022-08-15T12:04:10.356Z"
   },
   {
    "duration": 401,
    "start_time": "2022-08-15T12:04:10.426Z"
   },
   {
    "duration": 3,
    "start_time": "2022-08-15T12:04:10.829Z"
   },
   {
    "duration": 397,
    "start_time": "2022-08-15T12:04:10.834Z"
   },
   {
    "duration": 4,
    "start_time": "2022-08-15T12:04:11.233Z"
   },
   {
    "duration": 375,
    "start_time": "2022-08-15T12:04:11.238Z"
   },
   {
    "duration": 333,
    "start_time": "2022-08-15T12:04:11.615Z"
   },
   {
    "duration": 873,
    "start_time": "2022-08-15T12:04:11.950Z"
   },
   {
    "duration": 692,
    "start_time": "2022-08-15T12:04:12.825Z"
   },
   {
    "duration": 408,
    "start_time": "2022-08-15T12:04:13.524Z"
   },
   {
    "duration": 303,
    "start_time": "2022-08-15T12:04:13.934Z"
   },
   {
    "duration": 286,
    "start_time": "2022-08-15T12:04:14.242Z"
   },
   {
    "duration": 283,
    "start_time": "2022-08-15T12:04:14.530Z"
   },
   {
    "duration": 502,
    "start_time": "2022-08-15T12:04:14.815Z"
   },
   {
    "duration": 308,
    "start_time": "2022-08-15T12:04:15.319Z"
   },
   {
    "duration": 299,
    "start_time": "2022-08-15T12:04:15.629Z"
   },
   {
    "duration": 412,
    "start_time": "2022-08-15T12:04:15.930Z"
   },
   {
    "duration": 381,
    "start_time": "2022-08-15T12:04:16.344Z"
   },
   {
    "duration": 289,
    "start_time": "2022-08-15T12:04:16.727Z"
   },
   {
    "duration": 218,
    "start_time": "2022-08-15T12:04:17.022Z"
   },
   {
    "duration": 297,
    "start_time": "2022-08-15T12:04:17.242Z"
   },
   {
    "duration": 9,
    "start_time": "2022-08-15T12:04:17.540Z"
   },
   {
    "duration": 75,
    "start_time": "2022-08-15T12:04:17.551Z"
   },
   {
    "duration": 12,
    "start_time": "2022-08-15T13:09:39.767Z"
   },
   {
    "duration": 6,
    "start_time": "2022-08-15T13:16:11.304Z"
   },
   {
    "duration": 56,
    "start_time": "2022-08-15T13:17:33.681Z"
   },
   {
    "duration": 3,
    "start_time": "2022-08-15T13:17:34.138Z"
   },
   {
    "duration": 12,
    "start_time": "2022-08-15T13:17:34.524Z"
   },
   {
    "duration": 107,
    "start_time": "2022-08-15T13:17:35.082Z"
   },
   {
    "duration": 3,
    "start_time": "2022-08-15T13:17:55.377Z"
   },
   {
    "duration": 25,
    "start_time": "2022-08-15T13:17:58.011Z"
   },
   {
    "duration": 7,
    "start_time": "2022-08-15T13:17:58.337Z"
   },
   {
    "duration": 6,
    "start_time": "2022-08-15T13:18:03.636Z"
   },
   {
    "duration": 25,
    "start_time": "2022-08-15T13:19:47.714Z"
   },
   {
    "duration": 1033,
    "start_time": "2022-08-15T13:21:57.038Z"
   },
   {
    "duration": 81,
    "start_time": "2022-08-15T13:21:58.073Z"
   },
   {
    "duration": 13,
    "start_time": "2022-08-15T13:21:58.155Z"
   },
   {
    "duration": 24,
    "start_time": "2022-08-15T13:21:58.170Z"
   },
   {
    "duration": 701,
    "start_time": "2022-08-15T13:21:58.196Z"
   },
   {
    "duration": 5,
    "start_time": "2022-08-15T13:21:58.898Z"
   },
   {
    "duration": 52,
    "start_time": "2022-08-15T13:21:58.904Z"
   },
   {
    "duration": 3,
    "start_time": "2022-08-15T13:21:58.958Z"
   },
   {
    "duration": 9,
    "start_time": "2022-08-15T13:21:58.963Z"
   },
   {
    "duration": 8,
    "start_time": "2022-08-15T13:21:58.973Z"
   },
   {
    "duration": 60,
    "start_time": "2022-08-15T13:21:58.983Z"
   },
   {
    "duration": 8,
    "start_time": "2022-08-15T13:21:59.045Z"
   },
   {
    "duration": 4,
    "start_time": "2022-08-15T13:21:59.054Z"
   },
   {
    "duration": 14,
    "start_time": "2022-08-15T13:21:59.061Z"
   },
   {
    "duration": 11,
    "start_time": "2022-08-15T13:21:59.076Z"
   },
   {
    "duration": 40,
    "start_time": "2022-08-15T13:21:59.089Z"
   },
   {
    "duration": 41,
    "start_time": "2022-08-15T13:21:59.134Z"
   },
   {
    "duration": 15,
    "start_time": "2022-08-15T13:21:59.177Z"
   },
   {
    "duration": 199,
    "start_time": "2022-08-15T13:21:59.194Z"
   },
   {
    "duration": 278,
    "start_time": "2022-08-15T13:21:59.395Z"
   },
   {
    "duration": 272,
    "start_time": "2022-08-15T13:21:59.674Z"
   },
   {
    "duration": 6,
    "start_time": "2022-08-15T13:21:59.948Z"
   },
   {
    "duration": 170,
    "start_time": "2022-08-15T13:21:59.955Z"
   },
   {
    "duration": 348,
    "start_time": "2022-08-15T13:22:00.127Z"
   },
   {
    "duration": 304,
    "start_time": "2022-08-15T13:22:00.477Z"
   },
   {
    "duration": 318,
    "start_time": "2022-08-15T13:22:00.783Z"
   },
   {
    "duration": 210,
    "start_time": "2022-08-15T13:22:01.103Z"
   },
   {
    "duration": 16,
    "start_time": "2022-08-15T13:22:01.322Z"
   },
   {
    "duration": 214,
    "start_time": "2022-08-15T13:22:01.340Z"
   },
   {
    "duration": 4,
    "start_time": "2022-08-15T13:22:01.556Z"
   },
   {
    "duration": 196,
    "start_time": "2022-08-15T13:22:01.561Z"
   },
   {
    "duration": 4,
    "start_time": "2022-08-15T13:22:01.759Z"
   },
   {
    "duration": 216,
    "start_time": "2022-08-15T13:22:01.765Z"
   },
   {
    "duration": 4,
    "start_time": "2022-08-15T13:22:01.982Z"
   },
   {
    "duration": 174,
    "start_time": "2022-08-15T13:22:01.988Z"
   },
   {
    "duration": 188,
    "start_time": "2022-08-15T13:22:02.164Z"
   },
   {
    "duration": 449,
    "start_time": "2022-08-15T13:22:02.354Z"
   },
   {
    "duration": 394,
    "start_time": "2022-08-15T13:22:02.807Z"
   },
   {
    "duration": 234,
    "start_time": "2022-08-15T13:22:03.203Z"
   },
   {
    "duration": 128,
    "start_time": "2022-08-15T13:22:03.440Z"
   },
   {
    "duration": 136,
    "start_time": "2022-08-15T13:22:03.572Z"
   },
   {
    "duration": 139,
    "start_time": "2022-08-15T13:22:03.710Z"
   },
   {
    "duration": 291,
    "start_time": "2022-08-15T13:22:03.851Z"
   },
   {
    "duration": 139,
    "start_time": "2022-08-15T13:22:04.144Z"
   },
   {
    "duration": 148,
    "start_time": "2022-08-15T13:22:04.285Z"
   },
   {
    "duration": 212,
    "start_time": "2022-08-15T13:22:04.435Z"
   },
   {
    "duration": 188,
    "start_time": "2022-08-15T13:22:04.649Z"
   },
   {
    "duration": 129,
    "start_time": "2022-08-15T13:22:04.839Z"
   },
   {
    "duration": 127,
    "start_time": "2022-08-15T13:22:04.970Z"
   },
   {
    "duration": 143,
    "start_time": "2022-08-15T13:22:05.099Z"
   },
   {
    "duration": 9,
    "start_time": "2022-08-15T13:22:05.243Z"
   },
   {
    "duration": 5,
    "start_time": "2022-08-15T13:22:05.253Z"
   },
   {
    "duration": 50,
    "start_time": "2022-08-15T13:22:05.259Z"
   },
   {
    "duration": 21,
    "start_time": "2022-08-15T13:22:05.317Z"
   },
   {
    "duration": 13,
    "start_time": "2022-08-15T13:22:05.339Z"
   },
   {
    "duration": 5,
    "start_time": "2022-08-15T13:22:05.354Z"
   },
   {
    "duration": 7,
    "start_time": "2022-08-15T13:22:05.361Z"
   },
   {
    "duration": 13,
    "start_time": "2022-08-15T13:22:05.369Z"
   },
   {
    "duration": 5,
    "start_time": "2022-08-15T13:22:05.384Z"
   },
   {
    "duration": 10,
    "start_time": "2022-08-15T13:22:05.391Z"
   },
   {
    "duration": 52,
    "start_time": "2022-08-15T13:22:05.402Z"
   },
   {
    "duration": 2,
    "start_time": "2022-08-15T13:22:05.456Z"
   },
   {
    "duration": 11,
    "start_time": "2022-08-15T13:22:05.460Z"
   },
   {
    "duration": 8,
    "start_time": "2022-08-15T13:22:05.473Z"
   },
   {
    "duration": 12,
    "start_time": "2022-08-15T13:22:05.482Z"
   },
   {
    "duration": 559,
    "start_time": "2022-08-15T13:22:05.496Z"
   },
   {
    "duration": 590,
    "start_time": "2022-08-15T13:22:06.056Z"
   },
   {
    "duration": 1124,
    "start_time": "2022-08-15T13:22:39.609Z"
   },
   {
    "duration": 90,
    "start_time": "2022-08-15T13:22:40.743Z"
   },
   {
    "duration": 13,
    "start_time": "2022-08-15T13:22:40.838Z"
   },
   {
    "duration": 28,
    "start_time": "2022-08-15T13:22:40.854Z"
   },
   {
    "duration": 762,
    "start_time": "2022-08-15T13:22:40.884Z"
   },
   {
    "duration": 5,
    "start_time": "2022-08-15T13:22:41.648Z"
   },
   {
    "duration": 23,
    "start_time": "2022-08-15T13:22:41.654Z"
   },
   {
    "duration": 5,
    "start_time": "2022-08-15T13:22:41.679Z"
   },
   {
    "duration": 11,
    "start_time": "2022-08-15T13:22:41.685Z"
   },
   {
    "duration": 10,
    "start_time": "2022-08-15T13:22:41.699Z"
   },
   {
    "duration": 76,
    "start_time": "2022-08-15T13:22:41.710Z"
   },
   {
    "duration": 8,
    "start_time": "2022-08-15T13:22:41.787Z"
   },
   {
    "duration": 4,
    "start_time": "2022-08-15T13:22:41.796Z"
   },
   {
    "duration": 28,
    "start_time": "2022-08-15T13:22:41.802Z"
   },
   {
    "duration": 23,
    "start_time": "2022-08-15T13:22:41.838Z"
   },
   {
    "duration": 11,
    "start_time": "2022-08-15T13:22:41.864Z"
   },
   {
    "duration": 96,
    "start_time": "2022-08-15T13:22:41.877Z"
   },
   {
    "duration": 31,
    "start_time": "2022-08-15T13:22:41.975Z"
   },
   {
    "duration": 213,
    "start_time": "2022-08-15T13:22:42.008Z"
   },
   {
    "duration": 320,
    "start_time": "2022-08-15T13:22:42.226Z"
   },
   {
    "duration": 277,
    "start_time": "2022-08-15T13:22:42.555Z"
   },
   {
    "duration": 8,
    "start_time": "2022-08-15T13:22:42.838Z"
   },
   {
    "duration": 193,
    "start_time": "2022-08-15T13:22:42.848Z"
   },
   {
    "duration": 340,
    "start_time": "2022-08-15T13:22:43.043Z"
   },
   {
    "duration": 351,
    "start_time": "2022-08-15T13:22:43.385Z"
   },
   {
    "duration": 316,
    "start_time": "2022-08-15T13:22:43.740Z"
   },
   {
    "duration": 205,
    "start_time": "2022-08-15T13:22:44.058Z"
   },
   {
    "duration": 4,
    "start_time": "2022-08-15T13:22:44.266Z"
   },
   {
    "duration": 216,
    "start_time": "2022-08-15T13:22:44.272Z"
   },
   {
    "duration": 4,
    "start_time": "2022-08-15T13:22:44.489Z"
   },
   {
    "duration": 206,
    "start_time": "2022-08-15T13:22:44.495Z"
   },
   {
    "duration": 17,
    "start_time": "2022-08-15T13:22:44.703Z"
   },
   {
    "duration": 225,
    "start_time": "2022-08-15T13:22:44.727Z"
   },
   {
    "duration": 4,
    "start_time": "2022-08-15T13:22:44.954Z"
   },
   {
    "duration": 196,
    "start_time": "2022-08-15T13:22:44.960Z"
   },
   {
    "duration": 189,
    "start_time": "2022-08-15T13:22:45.158Z"
   },
   {
    "duration": 431,
    "start_time": "2022-08-15T13:22:45.349Z"
   },
   {
    "duration": 316,
    "start_time": "2022-08-15T13:22:45.782Z"
   },
   {
    "duration": 233,
    "start_time": "2022-08-15T13:22:46.100Z"
   },
   {
    "duration": 124,
    "start_time": "2022-08-15T13:22:46.335Z"
   },
   {
    "duration": 125,
    "start_time": "2022-08-15T13:22:46.461Z"
   },
   {
    "duration": 148,
    "start_time": "2022-08-15T13:22:46.588Z"
   },
   {
    "duration": 247,
    "start_time": "2022-08-15T13:22:46.738Z"
   },
   {
    "duration": 152,
    "start_time": "2022-08-15T13:22:46.987Z"
   },
   {
    "duration": 143,
    "start_time": "2022-08-15T13:22:47.141Z"
   },
   {
    "duration": 231,
    "start_time": "2022-08-15T13:22:47.286Z"
   },
   {
    "duration": 188,
    "start_time": "2022-08-15T13:22:47.520Z"
   },
   {
    "duration": 136,
    "start_time": "2022-08-15T13:22:47.709Z"
   },
   {
    "duration": 133,
    "start_time": "2022-08-15T13:22:47.847Z"
   },
   {
    "duration": 124,
    "start_time": "2022-08-15T13:22:47.981Z"
   },
   {
    "duration": 21,
    "start_time": "2022-08-15T13:22:48.113Z"
   },
   {
    "duration": 10,
    "start_time": "2022-08-15T13:22:48.135Z"
   },
   {
    "duration": 53,
    "start_time": "2022-08-15T13:22:48.146Z"
   },
   {
    "duration": 3,
    "start_time": "2022-08-15T13:22:48.200Z"
   },
   {
    "duration": 29,
    "start_time": "2022-08-15T13:22:48.204Z"
   },
   {
    "duration": 10,
    "start_time": "2022-08-15T13:22:48.235Z"
   },
   {
    "duration": 6,
    "start_time": "2022-08-15T13:22:48.246Z"
   },
   {
    "duration": 11,
    "start_time": "2022-08-15T13:22:48.253Z"
   },
   {
    "duration": 5,
    "start_time": "2022-08-15T13:22:48.266Z"
   },
   {
    "duration": 14,
    "start_time": "2022-08-15T13:22:48.272Z"
   },
   {
    "duration": 44,
    "start_time": "2022-08-15T13:22:48.288Z"
   },
   {
    "duration": 2,
    "start_time": "2022-08-15T13:22:48.335Z"
   },
   {
    "duration": 16,
    "start_time": "2022-08-15T13:22:48.339Z"
   },
   {
    "duration": 15,
    "start_time": "2022-08-15T13:22:48.356Z"
   },
   {
    "duration": 5,
    "start_time": "2022-08-15T13:22:48.373Z"
   },
   {
    "duration": 563,
    "start_time": "2022-08-15T13:22:48.380Z"
   },
   {
    "duration": 608,
    "start_time": "2022-08-15T13:22:48.944Z"
   },
   {
    "duration": 1048,
    "start_time": "2022-08-15T13:30:46.944Z"
   },
   {
    "duration": 75,
    "start_time": "2022-08-15T13:30:47.993Z"
   },
   {
    "duration": 12,
    "start_time": "2022-08-15T13:30:48.069Z"
   },
   {
    "duration": 41,
    "start_time": "2022-08-15T13:30:48.083Z"
   },
   {
    "duration": 629,
    "start_time": "2022-08-15T13:30:48.127Z"
   },
   {
    "duration": 4,
    "start_time": "2022-08-15T13:30:48.758Z"
   },
   {
    "duration": 20,
    "start_time": "2022-08-15T13:30:48.764Z"
   },
   {
    "duration": 3,
    "start_time": "2022-08-15T13:30:48.785Z"
   },
   {
    "duration": 8,
    "start_time": "2022-08-15T13:30:48.790Z"
   },
   {
    "duration": 9,
    "start_time": "2022-08-15T13:30:48.812Z"
   },
   {
    "duration": 60,
    "start_time": "2022-08-15T13:30:48.823Z"
   },
   {
    "duration": 8,
    "start_time": "2022-08-15T13:30:48.884Z"
   },
   {
    "duration": 4,
    "start_time": "2022-08-15T13:30:48.893Z"
   },
   {
    "duration": 22,
    "start_time": "2022-08-15T13:30:48.913Z"
   },
   {
    "duration": 20,
    "start_time": "2022-08-15T13:30:48.937Z"
   },
   {
    "duration": 4,
    "start_time": "2022-08-15T13:30:48.958Z"
   },
   {
    "duration": 18,
    "start_time": "2022-08-15T13:30:48.964Z"
   },
   {
    "duration": 13,
    "start_time": "2022-08-15T13:30:48.983Z"
   },
   {
    "duration": 169,
    "start_time": "2022-08-15T13:30:48.997Z"
   },
   {
    "duration": 261,
    "start_time": "2022-08-15T13:30:49.167Z"
   },
   {
    "duration": 248,
    "start_time": "2022-08-15T13:30:49.430Z"
   },
   {
    "duration": 6,
    "start_time": "2022-08-15T13:30:49.680Z"
   },
   {
    "duration": 172,
    "start_time": "2022-08-15T13:30:49.687Z"
   },
   {
    "duration": 325,
    "start_time": "2022-08-15T13:30:49.861Z"
   },
   {
    "duration": 291,
    "start_time": "2022-08-15T13:30:50.188Z"
   },
   {
    "duration": 283,
    "start_time": "2022-08-15T13:30:50.481Z"
   },
   {
    "duration": 194,
    "start_time": "2022-08-15T13:30:50.766Z"
   },
   {
    "duration": 4,
    "start_time": "2022-08-15T13:30:50.961Z"
   },
   {
    "duration": 202,
    "start_time": "2022-08-15T13:30:50.966Z"
   },
   {
    "duration": 4,
    "start_time": "2022-08-15T13:30:51.169Z"
   },
   {
    "duration": 193,
    "start_time": "2022-08-15T13:30:51.174Z"
   },
   {
    "duration": 4,
    "start_time": "2022-08-15T13:30:51.368Z"
   },
   {
    "duration": 206,
    "start_time": "2022-08-15T13:30:51.373Z"
   },
   {
    "duration": 4,
    "start_time": "2022-08-15T13:30:51.581Z"
   },
   {
    "duration": 170,
    "start_time": "2022-08-15T13:30:51.586Z"
   },
   {
    "duration": 180,
    "start_time": "2022-08-15T13:30:51.758Z"
   },
   {
    "duration": 396,
    "start_time": "2022-08-15T13:30:51.939Z"
   },
   {
    "duration": 329,
    "start_time": "2022-08-15T13:30:52.337Z"
   },
   {
    "duration": 265,
    "start_time": "2022-08-15T13:30:52.668Z"
   },
   {
    "duration": 123,
    "start_time": "2022-08-15T13:30:52.935Z"
   },
   {
    "duration": 139,
    "start_time": "2022-08-15T13:30:53.061Z"
   },
   {
    "duration": 128,
    "start_time": "2022-08-15T13:30:53.201Z"
   },
   {
    "duration": 243,
    "start_time": "2022-08-15T13:30:53.330Z"
   },
   {
    "duration": 149,
    "start_time": "2022-08-15T13:30:53.576Z"
   },
   {
    "duration": 145,
    "start_time": "2022-08-15T13:30:53.726Z"
   },
   {
    "duration": 198,
    "start_time": "2022-08-15T13:30:53.872Z"
   },
   {
    "duration": 170,
    "start_time": "2022-08-15T13:30:54.073Z"
   },
   {
    "duration": 126,
    "start_time": "2022-08-15T13:30:54.245Z"
   },
   {
    "duration": 120,
    "start_time": "2022-08-15T13:30:54.372Z"
   },
   {
    "duration": 130,
    "start_time": "2022-08-15T13:30:54.494Z"
   },
   {
    "duration": 8,
    "start_time": "2022-08-15T13:30:54.626Z"
   },
   {
    "duration": 4,
    "start_time": "2022-08-15T13:30:54.636Z"
   },
   {
    "duration": 56,
    "start_time": "2022-08-15T13:30:54.641Z"
   },
   {
    "duration": 2,
    "start_time": "2022-08-15T13:30:54.699Z"
   },
   {
    "duration": 28,
    "start_time": "2022-08-15T13:30:54.703Z"
   },
   {
    "duration": 6,
    "start_time": "2022-08-15T13:30:54.733Z"
   },
   {
    "duration": 6,
    "start_time": "2022-08-15T13:30:54.741Z"
   },
   {
    "duration": 14,
    "start_time": "2022-08-15T13:30:54.749Z"
   },
   {
    "duration": 9,
    "start_time": "2022-08-15T13:30:54.764Z"
   },
   {
    "duration": 11,
    "start_time": "2022-08-15T13:30:54.774Z"
   },
   {
    "duration": 43,
    "start_time": "2022-08-15T13:30:54.787Z"
   },
   {
    "duration": 3,
    "start_time": "2022-08-15T13:30:54.831Z"
   },
   {
    "duration": 11,
    "start_time": "2022-08-15T13:30:54.835Z"
   },
   {
    "duration": 5,
    "start_time": "2022-08-15T13:30:54.847Z"
   },
   {
    "duration": 7,
    "start_time": "2022-08-15T13:30:54.853Z"
   },
   {
    "duration": 569,
    "start_time": "2022-08-15T13:30:54.861Z"
   },
   {
    "duration": 575,
    "start_time": "2022-08-15T13:30:55.432Z"
   },
   {
    "duration": 49,
    "start_time": "2022-08-16T14:08:18.968Z"
   },
   {
    "duration": 1213,
    "start_time": "2022-08-16T14:08:27.011Z"
   },
   {
    "duration": 118,
    "start_time": "2022-08-16T14:08:28.227Z"
   },
   {
    "duration": 14,
    "start_time": "2022-08-16T14:08:28.347Z"
   },
   {
    "duration": 44,
    "start_time": "2022-08-16T14:08:28.362Z"
   },
   {
    "duration": 672,
    "start_time": "2022-08-16T14:08:28.409Z"
   },
   {
    "duration": 4,
    "start_time": "2022-08-16T14:08:29.083Z"
   },
   {
    "duration": 36,
    "start_time": "2022-08-16T14:08:29.089Z"
   },
   {
    "duration": 14,
    "start_time": "2022-08-16T14:08:29.127Z"
   },
   {
    "duration": 19,
    "start_time": "2022-08-16T14:08:29.143Z"
   },
   {
    "duration": 21,
    "start_time": "2022-08-16T14:08:29.164Z"
   },
   {
    "duration": 70,
    "start_time": "2022-08-16T14:08:29.187Z"
   },
   {
    "duration": 7,
    "start_time": "2022-08-16T14:08:29.258Z"
   },
   {
    "duration": 10,
    "start_time": "2022-08-16T14:08:29.267Z"
   },
   {
    "duration": 25,
    "start_time": "2022-08-16T14:08:29.280Z"
   },
   {
    "duration": 27,
    "start_time": "2022-08-16T14:08:29.307Z"
   },
   {
    "duration": 10,
    "start_time": "2022-08-16T14:08:29.336Z"
   },
   {
    "duration": 33,
    "start_time": "2022-08-16T14:08:29.347Z"
   },
   {
    "duration": 28,
    "start_time": "2022-08-16T14:08:29.381Z"
   },
   {
    "duration": 202,
    "start_time": "2022-08-16T14:08:29.410Z"
   },
   {
    "duration": 281,
    "start_time": "2022-08-16T14:08:29.614Z"
   },
   {
    "duration": 330,
    "start_time": "2022-08-16T14:08:29.897Z"
   },
   {
    "duration": 6,
    "start_time": "2022-08-16T14:08:30.228Z"
   },
   {
    "duration": 176,
    "start_time": "2022-08-16T14:08:30.236Z"
   },
   {
    "duration": 355,
    "start_time": "2022-08-16T14:08:30.413Z"
   },
   {
    "duration": 310,
    "start_time": "2022-08-16T14:08:30.770Z"
   },
   {
    "duration": 295,
    "start_time": "2022-08-16T14:08:31.081Z"
   },
   {
    "duration": 203,
    "start_time": "2022-08-16T14:08:31.378Z"
   },
   {
    "duration": 4,
    "start_time": "2022-08-16T14:08:31.587Z"
   },
   {
    "duration": 214,
    "start_time": "2022-08-16T14:08:31.593Z"
   },
   {
    "duration": 5,
    "start_time": "2022-08-16T14:08:31.809Z"
   },
   {
    "duration": 211,
    "start_time": "2022-08-16T14:08:31.816Z"
   },
   {
    "duration": 5,
    "start_time": "2022-08-16T14:08:32.029Z"
   },
   {
    "duration": 241,
    "start_time": "2022-08-16T14:08:32.037Z"
   },
   {
    "duration": 9,
    "start_time": "2022-08-16T14:08:32.279Z"
   },
   {
    "duration": 165,
    "start_time": "2022-08-16T14:08:32.289Z"
   },
   {
    "duration": 191,
    "start_time": "2022-08-16T14:08:32.456Z"
   },
   {
    "duration": 424,
    "start_time": "2022-08-16T14:08:32.648Z"
   },
   {
    "duration": 306,
    "start_time": "2022-08-16T14:08:33.073Z"
   },
   {
    "duration": 210,
    "start_time": "2022-08-16T14:08:33.386Z"
   },
   {
    "duration": 133,
    "start_time": "2022-08-16T14:08:33.598Z"
   },
   {
    "duration": 138,
    "start_time": "2022-08-16T14:08:33.734Z"
   },
   {
    "duration": 131,
    "start_time": "2022-08-16T14:08:33.874Z"
   },
   {
    "duration": 249,
    "start_time": "2022-08-16T14:08:34.007Z"
   },
   {
    "duration": 156,
    "start_time": "2022-08-16T14:08:34.258Z"
   },
   {
    "duration": 146,
    "start_time": "2022-08-16T14:08:34.416Z"
   },
   {
    "duration": 227,
    "start_time": "2022-08-16T14:08:34.564Z"
   },
   {
    "duration": 177,
    "start_time": "2022-08-16T14:08:34.792Z"
   },
   {
    "duration": 135,
    "start_time": "2022-08-16T14:08:34.970Z"
   },
   {
    "duration": 151,
    "start_time": "2022-08-16T14:08:35.107Z"
   },
   {
    "duration": 167,
    "start_time": "2022-08-16T14:08:35.260Z"
   },
   {
    "duration": 9,
    "start_time": "2022-08-16T14:08:35.429Z"
   },
   {
    "duration": 11,
    "start_time": "2022-08-16T14:08:35.440Z"
   },
   {
    "duration": 66,
    "start_time": "2022-08-16T14:08:35.452Z"
   },
   {
    "duration": 3,
    "start_time": "2022-08-16T14:08:35.520Z"
   },
   {
    "duration": 23,
    "start_time": "2022-08-16T14:08:35.525Z"
   },
   {
    "duration": 9,
    "start_time": "2022-08-16T14:08:35.550Z"
   },
   {
    "duration": 17,
    "start_time": "2022-08-16T14:08:35.561Z"
   },
   {
    "duration": 16,
    "start_time": "2022-08-16T14:08:35.580Z"
   },
   {
    "duration": 8,
    "start_time": "2022-08-16T14:08:35.598Z"
   },
   {
    "duration": 19,
    "start_time": "2022-08-16T14:08:35.608Z"
   },
   {
    "duration": 37,
    "start_time": "2022-08-16T14:08:35.630Z"
   },
   {
    "duration": 4,
    "start_time": "2022-08-16T14:08:35.669Z"
   },
   {
    "duration": 18,
    "start_time": "2022-08-16T14:08:35.687Z"
   },
   {
    "duration": 6,
    "start_time": "2022-08-16T14:08:35.706Z"
   },
   {
    "duration": 7,
    "start_time": "2022-08-16T14:08:35.714Z"
   },
   {
    "duration": 715,
    "start_time": "2022-08-16T14:08:35.724Z"
   },
   {
    "duration": 632,
    "start_time": "2022-08-16T14:08:36.441Z"
   },
   {
    "duration": 14,
    "start_time": "2022-08-16T14:08:44.310Z"
   },
   {
    "duration": 6,
    "start_time": "2022-08-16T14:08:56.983Z"
   },
   {
    "duration": 20,
    "start_time": "2022-08-16T14:08:59.841Z"
   }
  ],
  "kernelspec": {
   "display_name": "Python 3 (ipykernel)",
   "language": "python",
   "name": "python3"
  },
  "language_info": {
   "codemirror_mode": {
    "name": "ipython",
    "version": 3
   },
   "file_extension": ".py",
   "mimetype": "text/x-python",
   "name": "python",
   "nbconvert_exporter": "python",
   "pygments_lexer": "ipython3",
   "version": "3.9.12"
  },
  "toc": {
   "base_numbering": 1,
   "nav_menu": {},
   "number_sections": true,
   "sideBar": true,
   "skip_h1_title": true,
   "title_cell": "Table of Contents",
   "title_sidebar": "Contents",
   "toc_cell": false,
   "toc_position": {
    "height": "478px",
    "left": "453px",
    "top": "111.125px",
    "width": "245px"
   },
   "toc_section_display": true,
   "toc_window_display": true
  }
 },
 "nbformat": 4,
 "nbformat_minor": 2
}
